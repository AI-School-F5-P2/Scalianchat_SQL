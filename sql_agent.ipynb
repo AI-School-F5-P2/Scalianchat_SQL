{
 "cells": [
  {
   "cell_type": "code",
   "execution_count": 15,
   "id": "initial_id",
   "metadata": {
    "collapsed": true,
    "ExecuteTime": {
     "end_time": "2024-01-28T13:19:09.514179800Z",
     "start_time": "2024-01-28T13:19:09.483187900Z"
    }
   },
   "outputs": [],
   "source": [
    "import os\n",
    "from langchain.llms.openai import OpenAI\n",
    "\n",
    "from langchain.agents import create_sql_agent\n",
    "from langchain.agents.agent_toolkits import SQLDatabaseToolkit\n",
    "from langchain.agents import AgentExecutor\n",
    "\n",
    "from langchain.sql_database import SQLDatabase\n",
    "\n",
    "from dotenv import load_dotenv\n",
    "\n",
    "\n",
    "import psycopg2\n"
   ]
  },
  {
   "cell_type": "markdown",
   "source": [
    "## Connect to SQL and create an Agent\n"
   ],
   "metadata": {
    "collapsed": false
   },
   "id": "a13e1f43bd56d28a"
  },
  {
   "cell_type": "code",
   "outputs": [
    {
     "data": {
      "text/plain": "True"
     },
     "execution_count": 16,
     "metadata": {},
     "output_type": "execute_result"
    }
   ],
   "source": [
    "load_dotenv()"
   ],
   "metadata": {
    "collapsed": false,
    "ExecuteTime": {
     "end_time": "2024-01-28T13:19:13.464135500Z",
     "start_time": "2024-01-28T13:19:13.419068500Z"
    }
   },
   "id": "c8cbbef7fc22fa03",
   "execution_count": 16
  },
  {
   "cell_type": "code",
   "outputs": [],
   "source": [
    "host= os.getenv('DB_HOST')\n",
    "database= os.getenv('DB_NAME')\n",
    "user= os.getenv('DB_USER')\n",
    "password= os.getenv('DB_PASS')\n",
    "port= os.getenv('DB_PORT')\n"
   ],
   "metadata": {
    "collapsed": false,
    "ExecuteTime": {
     "end_time": "2024-01-28T13:19:19.538101200Z",
     "start_time": "2024-01-28T13:19:19.528102300Z"
    }
   },
   "id": "b90018b576c4c3dd",
   "execution_count": 17
  },
  {
   "cell_type": "code",
   "outputs": [
    {
     "ename": "NameError",
     "evalue": "name 'user' is not defined",
     "output_type": "error",
     "traceback": [
      "\u001B[1;31m---------------------------------------------------------------------------\u001B[0m",
      "\u001B[1;31mNameError\u001B[0m                                 Traceback (most recent call last)",
      "Cell \u001B[1;32mIn[19], line 1\u001B[0m\n\u001B[1;32m----> 1\u001B[0m db_uri \u001B[38;5;241m=\u001B[39m SQLDatabase\u001B[38;5;241m.\u001B[39mfrom_uri(\u001B[38;5;124mf\u001B[39m\u001B[38;5;124m'\u001B[39m\u001B[38;5;124mpostgresql+psycopg2://\u001B[39m\u001B[38;5;132;01m{\u001B[39;00m\u001B[43muser\u001B[49m\u001B[38;5;132;01m}\u001B[39;00m\u001B[38;5;124m:\u001B[39m\u001B[38;5;132;01m{\u001B[39;00mpassword\u001B[38;5;132;01m}\u001B[39;00m\u001B[38;5;124m@\u001B[39m\u001B[38;5;132;01m{\u001B[39;00mhost\u001B[38;5;132;01m}\u001B[39;00m\u001B[38;5;124m:\u001B[39m\u001B[38;5;132;01m{\u001B[39;00mport\u001B[38;5;132;01m}\u001B[39;00m\u001B[38;5;124m/\u001B[39m\u001B[38;5;132;01m{\u001B[39;00mdatabase\u001B[38;5;132;01m}\u001B[39;00m\u001B[38;5;124m'\u001B[39m)\n\u001B[0;32m      3\u001B[0m \u001B[38;5;66;03m# Crea el objeto SQLDatabase utilizando la URI de conexión\u001B[39;00m\n\u001B[0;32m      4\u001B[0m db \u001B[38;5;241m=\u001B[39m SQLDatabase\u001B[38;5;241m.\u001B[39mfrom_uri(db_uri)\n",
      "\u001B[1;31mNameError\u001B[0m: name 'user' is not defined"
     ]
    }
   ],
   "source": [
    "db_uri = SQLDatabase.from_uri(f'postgresql+psycopg2://{user}:{password}@{host}:{port}/{database}')\n",
    "\n",
    "# Crea el objeto SQLDatabase utilizando la URI de conexión\n",
    "db = SQLDatabase.from_uri(db_uri)\n",
    "\n",
    "llm = ChatOpenAI(model_name=\"gpt-3.5-turbo\")\n",
    "\n",
    "toolkit = SQLDatabaseToolkit(db, llm)\n",
    "agent_executor = create_sql_agent(\n",
    "    llm=llm,\n",
    "    toolkit=toolkit,\n",
    "    verbose=True,\n",
    ")\n",
    "\n"
   ],
   "metadata": {
    "collapsed": false,
    "ExecuteTime": {
     "end_time": "2024-01-28T13:20:19.290673200Z",
     "start_time": "2024-01-28T13:20:19.264669Z"
    }
   },
   "id": "f91b58c5c1ce9ded",
   "execution_count": 19
  },
  {
   "cell_type": "code",
   "outputs": [],
   "source": [],
   "metadata": {
    "collapsed": false
   },
   "id": "49a077b85e3442e5"
  }
 ],
 "metadata": {
  "kernelspec": {
   "display_name": "Python 3",
   "language": "python",
   "name": "python3"
  },
  "language_info": {
   "codemirror_mode": {
    "name": "ipython",
    "version": 2
   },
   "file_extension": ".py",
   "mimetype": "text/x-python",
   "name": "python",
   "nbconvert_exporter": "python",
   "pygments_lexer": "ipython2",
   "version": "2.7.6"
  }
 },
 "nbformat": 4,
 "nbformat_minor": 5
}

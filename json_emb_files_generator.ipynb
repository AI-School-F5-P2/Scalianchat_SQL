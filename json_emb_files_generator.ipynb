{
 "cells": [
  {
   "cell_type": "code",
   "execution_count": 13,
   "metadata": {},
   "outputs": [],
   "source": [
    "import pandas as pd\n",
    "import os\n",
    "import openai\n",
    "import load_env_var\n",
    "import json\n",
    "import asyncio"
   ]
  },
  {
   "cell_type": "code",
   "execution_count": 14,
   "metadata": {},
   "outputs": [],
   "source": [
    "# Import cleaned data\n",
    "df = pd.read_csv('data/datos_actualizados.csv')"
   ]
  },
  {
   "cell_type": "code",
   "execution_count": 15,
   "metadata": {},
   "outputs": [
    {
     "data": {
      "text/html": [
       "<div>\n",
       "<style scoped>\n",
       "    .dataframe tbody tr th:only-of-type {\n",
       "        vertical-align: middle;\n",
       "    }\n",
       "\n",
       "    .dataframe tbody tr th {\n",
       "        vertical-align: top;\n",
       "    }\n",
       "\n",
       "    .dataframe thead th {\n",
       "        text-align: right;\n",
       "    }\n",
       "</style>\n",
       "<table border=\"1\" class=\"dataframe\">\n",
       "  <thead>\n",
       "    <tr style=\"text-align: right;\">\n",
       "      <th></th>\n",
       "      <th>entity_name</th>\n",
       "      <th>city</th>\n",
       "      <th>state_abbreviation</th>\n",
       "      <th>variable_name</th>\n",
       "      <th>year</th>\n",
       "      <th>value</th>\n",
       "      <th>unit</th>\n",
       "      <th>definition</th>\n",
       "    </tr>\n",
       "  </thead>\n",
       "  <tbody>\n",
       "    <tr>\n",
       "      <th>0</th>\n",
       "      <td>kcb bank</td>\n",
       "      <td>lakin</td>\n",
       "      <td>KS</td>\n",
       "      <td>total assets</td>\n",
       "      <td>2007</td>\n",
       "      <td>109409000.0</td>\n",
       "      <td>usd</td>\n",
       "      <td>the sum of all assets owned by the institution...</td>\n",
       "    </tr>\n",
       "    <tr>\n",
       "      <th>1</th>\n",
       "      <td>kcb bank</td>\n",
       "      <td>lakin</td>\n",
       "      <td>KS</td>\n",
       "      <td>total deposits</td>\n",
       "      <td>2007</td>\n",
       "      <td>86818000.0</td>\n",
       "      <td>usd</td>\n",
       "      <td>the sum of all deposits including demand depos...</td>\n",
       "    </tr>\n",
       "    <tr>\n",
       "      <th>2</th>\n",
       "      <td>kcb bank</td>\n",
       "      <td>lakin</td>\n",
       "      <td>KS</td>\n",
       "      <td>% insured (estimated)</td>\n",
       "      <td>2007</td>\n",
       "      <td>0.0</td>\n",
       "      <td>percent</td>\n",
       "      <td>percent of deposits estimated to be insured.  ...</td>\n",
       "    </tr>\n",
       "    <tr>\n",
       "      <th>3</th>\n",
       "      <td>kcb bank</td>\n",
       "      <td>lakin</td>\n",
       "      <td>KS</td>\n",
       "      <td>all real estate loans</td>\n",
       "      <td>2007</td>\n",
       "      <td>16477000.0</td>\n",
       "      <td>usd</td>\n",
       "      <td>loans secured primarily by real estate, whethe...</td>\n",
       "    </tr>\n",
       "    <tr>\n",
       "      <th>4</th>\n",
       "      <td>kcb bank</td>\n",
       "      <td>lakin</td>\n",
       "      <td>KS</td>\n",
       "      <td>total securities</td>\n",
       "      <td>2007</td>\n",
       "      <td>43618000.0</td>\n",
       "      <td>usd</td>\n",
       "      <td>total securities: the sum of held-to-maturity ...</td>\n",
       "    </tr>\n",
       "    <tr>\n",
       "      <th>5</th>\n",
       "      <td>mountain valley bank</td>\n",
       "      <td>dunlap</td>\n",
       "      <td>TN</td>\n",
       "      <td>total assets</td>\n",
       "      <td>1986</td>\n",
       "      <td>26478000.0</td>\n",
       "      <td>usd</td>\n",
       "      <td>the sum of all assets owned by the institution...</td>\n",
       "    </tr>\n",
       "    <tr>\n",
       "      <th>6</th>\n",
       "      <td>mountain valley bank</td>\n",
       "      <td>dunlap</td>\n",
       "      <td>TN</td>\n",
       "      <td>total deposits</td>\n",
       "      <td>1986</td>\n",
       "      <td>22363000.0</td>\n",
       "      <td>usd</td>\n",
       "      <td>the sum of all deposits including demand depos...</td>\n",
       "    </tr>\n",
       "    <tr>\n",
       "      <th>7</th>\n",
       "      <td>mountain valley bank</td>\n",
       "      <td>dunlap</td>\n",
       "      <td>TN</td>\n",
       "      <td>% insured (estimated)</td>\n",
       "      <td>1986</td>\n",
       "      <td>0.0</td>\n",
       "      <td>percent</td>\n",
       "      <td>percent of deposits estimated to be insured.  ...</td>\n",
       "    </tr>\n",
       "    <tr>\n",
       "      <th>8</th>\n",
       "      <td>mountain valley bank</td>\n",
       "      <td>dunlap</td>\n",
       "      <td>TN</td>\n",
       "      <td>all real estate loans</td>\n",
       "      <td>1986</td>\n",
       "      <td>6890000.0</td>\n",
       "      <td>usd</td>\n",
       "      <td>loans secured primarily by real estate, whethe...</td>\n",
       "    </tr>\n",
       "    <tr>\n",
       "      <th>9</th>\n",
       "      <td>mountain valley bank</td>\n",
       "      <td>dunlap</td>\n",
       "      <td>TN</td>\n",
       "      <td>total securities</td>\n",
       "      <td>1986</td>\n",
       "      <td>12222000.0</td>\n",
       "      <td>usd</td>\n",
       "      <td>total securities: the sum of held-to-maturity ...</td>\n",
       "    </tr>\n",
       "  </tbody>\n",
       "</table>\n",
       "</div>"
      ],
      "text/plain": [
       "            entity_name    city state_abbreviation          variable_name  \\\n",
       "0              kcb bank   lakin                 KS           total assets   \n",
       "1              kcb bank   lakin                 KS         total deposits   \n",
       "2              kcb bank   lakin                 KS  % insured (estimated)   \n",
       "3              kcb bank   lakin                 KS  all real estate loans   \n",
       "4              kcb bank   lakin                 KS       total securities   \n",
       "5  mountain valley bank  dunlap                 TN           total assets   \n",
       "6  mountain valley bank  dunlap                 TN         total deposits   \n",
       "7  mountain valley bank  dunlap                 TN  % insured (estimated)   \n",
       "8  mountain valley bank  dunlap                 TN  all real estate loans   \n",
       "9  mountain valley bank  dunlap                 TN       total securities   \n",
       "\n",
       "   year        value     unit  \\\n",
       "0  2007  109409000.0      usd   \n",
       "1  2007   86818000.0      usd   \n",
       "2  2007          0.0  percent   \n",
       "3  2007   16477000.0      usd   \n",
       "4  2007   43618000.0      usd   \n",
       "5  1986   26478000.0      usd   \n",
       "6  1986   22363000.0      usd   \n",
       "7  1986          0.0  percent   \n",
       "8  1986    6890000.0      usd   \n",
       "9  1986   12222000.0      usd   \n",
       "\n",
       "                                          definition  \n",
       "0  the sum of all assets owned by the institution...  \n",
       "1  the sum of all deposits including demand depos...  \n",
       "2  percent of deposits estimated to be insured.  ...  \n",
       "3  loans secured primarily by real estate, whethe...  \n",
       "4  total securities: the sum of held-to-maturity ...  \n",
       "5  the sum of all assets owned by the institution...  \n",
       "6  the sum of all deposits including demand depos...  \n",
       "7  percent of deposits estimated to be insured.  ...  \n",
       "8  loans secured primarily by real estate, whethe...  \n",
       "9  total securities: the sum of held-to-maturity ...  "
      ]
     },
     "execution_count": 15,
     "metadata": {},
     "output_type": "execute_result"
    }
   ],
   "source": [
    "# Verifying the data\n",
    "df.head(10)"
   ]
  },
  {
   "cell_type": "markdown",
   "metadata": {},
   "source": [
    "### Embeddings Generation for Vector Search"
   ]
  },
  {
   "cell_type": "code",
   "execution_count": 16,
   "metadata": {},
   "outputs": [],
   "source": [
    "# Load environment variables OpenAI\n",
    "openai.api_type, openai.api_base, openai.api_version, openai.api_key, llm_model, emb_model = load_env_var.load_env_variables_openai()"
   ]
  },
  {
   "cell_type": "code",
   "execution_count": 17,
   "metadata": {},
   "outputs": [],
   "source": [
    "def generate_embeddings(text, model=emb_model):\n",
    "    response = openai.Embedding.create(input=text, engine=model)\n",
    "    embeddings = response['data'][0]['embedding']\n",
    "    return embeddings"
   ]
  },
  {
   "cell_type": "markdown",
   "metadata": {},
   "source": [
    "### Embeddings Generation (Async to avoid rate limit)"
   ]
  },
  {
   "cell_type": "code",
   "execution_count": 18,
   "metadata": {},
   "outputs": [],
   "source": [
    "async def generate_embeddings_async(text, model=emb_model):\n",
    "    response = openai.Embedding.create(input=text, engine=model)\n",
    "    embeddings = response['data'][0]['embedding']\n",
    "    return embeddings"
   ]
  },
  {
   "cell_type": "markdown",
   "metadata": {},
   "source": [
    "### Entity Name Column (async)"
   ]
  },
  {
   "cell_type": "code",
   "execution_count": 19,
   "metadata": {},
   "outputs": [],
   "source": [
    "# List with unique entity names\n",
    "unique_entity_name = df['entity_name'].unique()"
   ]
  },
  {
   "cell_type": "code",
   "execution_count": 20,
   "metadata": {},
   "outputs": [],
   "source": [
    "id_unique_entity_name = list(range(1, len(unique_entity_name) + 1))"
   ]
  },
  {
   "cell_type": "code",
   "execution_count": 21,
   "metadata": {},
   "outputs": [],
   "source": [
    "# Dataframe with unique entity names and their id\n",
    "df_unique_entity_name = pd.DataFrame({'id_unique_entity_name': id_unique_entity_name, 'unique_entity_name': unique_entity_name})"
   ]
  },
  {
   "cell_type": "code",
   "execution_count": 22,
   "metadata": {},
   "outputs": [
    {
     "data": {
      "text/html": [
       "<div>\n",
       "<style scoped>\n",
       "    .dataframe tbody tr th:only-of-type {\n",
       "        vertical-align: middle;\n",
       "    }\n",
       "\n",
       "    .dataframe tbody tr th {\n",
       "        vertical-align: top;\n",
       "    }\n",
       "\n",
       "    .dataframe thead th {\n",
       "        text-align: right;\n",
       "    }\n",
       "</style>\n",
       "<table border=\"1\" class=\"dataframe\">\n",
       "  <thead>\n",
       "    <tr style=\"text-align: right;\">\n",
       "      <th></th>\n",
       "      <th>id_unique_entity_name</th>\n",
       "      <th>unique_entity_name</th>\n",
       "    </tr>\n",
       "  </thead>\n",
       "  <tbody>\n",
       "    <tr>\n",
       "      <th>0</th>\n",
       "      <td>1</td>\n",
       "      <td>kcb bank</td>\n",
       "    </tr>\n",
       "    <tr>\n",
       "      <th>1</th>\n",
       "      <td>2</td>\n",
       "      <td>mountain valley bank</td>\n",
       "    </tr>\n",
       "    <tr>\n",
       "      <th>2</th>\n",
       "      <td>3</td>\n",
       "      <td>byron bank</td>\n",
       "    </tr>\n",
       "    <tr>\n",
       "      <th>3</th>\n",
       "      <td>4</td>\n",
       "      <td>banner banks</td>\n",
       "    </tr>\n",
       "    <tr>\n",
       "      <th>4</th>\n",
       "      <td>5</td>\n",
       "      <td>sallie mae bank</td>\n",
       "    </tr>\n",
       "  </tbody>\n",
       "</table>\n",
       "</div>"
      ],
      "text/plain": [
       "   id_unique_entity_name    unique_entity_name\n",
       "0                      1              kcb bank\n",
       "1                      2  mountain valley bank\n",
       "2                      3            byron bank\n",
       "3                      4          banner banks\n",
       "4                      5       sallie mae bank"
      ]
     },
     "execution_count": 22,
     "metadata": {},
     "output_type": "execute_result"
    }
   ],
   "source": [
    "# Checking the data\n",
    "df_unique_entity_name.head()"
   ]
  },
  {
   "cell_type": "code",
   "execution_count": 23,
   "metadata": {},
   "outputs": [
    {
     "name": "stdout",
     "output_type": "stream",
     "text": [
      "<class 'pandas.core.frame.DataFrame'>\n",
      "RangeIndex: 2798 entries, 0 to 2797\n",
      "Data columns (total 2 columns):\n",
      " #   Column                 Non-Null Count  Dtype \n",
      "---  ------                 --------------  ----- \n",
      " 0   id_unique_entity_name  2798 non-null   int64 \n",
      " 1   unique_entity_name     2798 non-null   object\n",
      "dtypes: int64(1), object(1)\n",
      "memory usage: 43.8+ KB\n"
     ]
    }
   ],
   "source": [
    "df_unique_entity_name.info()"
   ]
  },
  {
   "cell_type": "code",
   "execution_count": 24,
   "metadata": {},
   "outputs": [],
   "source": [
    "async def write_json(row, category_vector):\n",
    "    folder_path = 'data/json_entity_name/'\n",
    "    \n",
    "    file_name = os.path.join(folder_path, f'entity_name_{row[\"id_unique_entity_name\"]}.json')\n",
    "    \n",
    "    content = {\n",
    "        \"id\": f'entity_name_{row[\"id_unique_entity_name\"]}',\n",
    "        \"category\": \"entity_name\",\n",
    "        \"content\": row[\"unique_entity_name\"],\n",
    "        \"categoryVector\": category_vector,\n",
    "        \"contentVector\": await generate_embeddings_async(row[\"unique_entity_name\"])\n",
    "    }\n",
    "    with open(file_name, \"w\") as file:\n",
    "        json.dump(content, file)"
   ]
  },
  {
   "cell_type": "code",
   "execution_count": 25,
   "metadata": {},
   "outputs": [],
   "source": [
    "async def main():\n",
    "    category_vector = generate_embeddings(\"entity_name\")\n",
    "    \n",
    "    for index, row in df_unique_entity_name.iterrows():\n",
    "        await write_json(row, category_vector)\n",
    "        await asyncio.sleep(3)"
   ]
  },
  {
   "cell_type": "code",
   "execution_count": 26,
   "metadata": {},
   "outputs": [],
   "source": [
    "await main()"
   ]
  },
  {
   "cell_type": "markdown",
   "metadata": {},
   "source": [
    "### City Column (async)"
   ]
  },
  {
   "cell_type": "code",
   "execution_count": 27,
   "metadata": {},
   "outputs": [],
   "source": [
    "unique_city = df['city'].unique()"
   ]
  },
  {
   "cell_type": "code",
   "execution_count": 28,
   "metadata": {},
   "outputs": [],
   "source": [
    "id_unique_city = list(range(1, len(unique_city) + 1))"
   ]
  },
  {
   "cell_type": "code",
   "execution_count": 29,
   "metadata": {},
   "outputs": [],
   "source": [
    "df_unique_city = pd.DataFrame({'id_unique_city': id_unique_city, 'unique_city': unique_city})"
   ]
  },
  {
   "cell_type": "code",
   "execution_count": 30,
   "metadata": {},
   "outputs": [
    {
     "data": {
      "text/html": [
       "<div>\n",
       "<style scoped>\n",
       "    .dataframe tbody tr th:only-of-type {\n",
       "        vertical-align: middle;\n",
       "    }\n",
       "\n",
       "    .dataframe tbody tr th {\n",
       "        vertical-align: top;\n",
       "    }\n",
       "\n",
       "    .dataframe thead th {\n",
       "        text-align: right;\n",
       "    }\n",
       "</style>\n",
       "<table border=\"1\" class=\"dataframe\">\n",
       "  <thead>\n",
       "    <tr style=\"text-align: right;\">\n",
       "      <th></th>\n",
       "      <th>id_unique_city</th>\n",
       "      <th>unique_city</th>\n",
       "    </tr>\n",
       "  </thead>\n",
       "  <tbody>\n",
       "    <tr>\n",
       "      <th>0</th>\n",
       "      <td>1</td>\n",
       "      <td>lakin</td>\n",
       "    </tr>\n",
       "    <tr>\n",
       "      <th>1</th>\n",
       "      <td>2</td>\n",
       "      <td>dunlap</td>\n",
       "    </tr>\n",
       "    <tr>\n",
       "      <th>2</th>\n",
       "      <td>3</td>\n",
       "      <td>byron</td>\n",
       "    </tr>\n",
       "    <tr>\n",
       "      <th>3</th>\n",
       "      <td>4</td>\n",
       "      <td>birnamwood</td>\n",
       "    </tr>\n",
       "    <tr>\n",
       "      <th>4</th>\n",
       "      <td>5</td>\n",
       "      <td>salt lake city</td>\n",
       "    </tr>\n",
       "  </tbody>\n",
       "</table>\n",
       "</div>"
      ],
      "text/plain": [
       "   id_unique_city     unique_city\n",
       "0               1           lakin\n",
       "1               2          dunlap\n",
       "2               3           byron\n",
       "3               4      birnamwood\n",
       "4               5  salt lake city"
      ]
     },
     "execution_count": 30,
     "metadata": {},
     "output_type": "execute_result"
    }
   ],
   "source": [
    "df_unique_city.head()"
   ]
  },
  {
   "cell_type": "code",
   "execution_count": 31,
   "metadata": {},
   "outputs": [
    {
     "name": "stdout",
     "output_type": "stream",
     "text": [
      "<class 'pandas.core.frame.DataFrame'>\n",
      "RangeIndex: 2003 entries, 0 to 2002\n",
      "Data columns (total 2 columns):\n",
      " #   Column          Non-Null Count  Dtype \n",
      "---  ------          --------------  ----- \n",
      " 0   id_unique_city  2003 non-null   int64 \n",
      " 1   unique_city     2003 non-null   object\n",
      "dtypes: int64(1), object(1)\n",
      "memory usage: 31.4+ KB\n"
     ]
    }
   ],
   "source": [
    "df_unique_city.info()"
   ]
  },
  {
   "cell_type": "code",
   "execution_count": 32,
   "metadata": {},
   "outputs": [],
   "source": [
    "async def write_json(row, category_vector):\n",
    "    folder_path = 'data/json_city/'\n",
    "    \n",
    "    file_name = os.path.join(folder_path, f'city_{row[\"id_unique_city\"]}.json')\n",
    "    \n",
    "    content = {\n",
    "        \"id\": f'city_{row[\"id_unique_city\"]}',\n",
    "        \"category\": \"city\",\n",
    "        \"content\": row[\"unique_city\"],\n",
    "        \"categoryVector\": category_vector,\n",
    "        \"contentVector\": await generate_embeddings_async(row[\"unique_city\"])\n",
    "    }\n",
    "    with open(file_name, \"w\") as file:\n",
    "        json.dump(content, file)"
   ]
  },
  {
   "cell_type": "code",
   "execution_count": 33,
   "metadata": {},
   "outputs": [],
   "source": [
    "async def main():\n",
    "    category_vector = generate_embeddings(\"city\")\n",
    "    \n",
    "    for index, row in df_unique_city.iterrows():\n",
    "        await write_json(row, category_vector)\n",
    "        await asyncio.sleep(3)"
   ]
  },
  {
   "cell_type": "code",
   "execution_count": 34,
   "metadata": {},
   "outputs": [],
   "source": [
    "await main()"
   ]
  },
  {
   "cell_type": "markdown",
   "metadata": {},
   "source": [
    "### State Column"
   ]
  },
  {
   "cell_type": "code",
   "execution_count": 35,
   "metadata": {},
   "outputs": [],
   "source": [
    "unique_state = df['state_abbreviation'].unique()"
   ]
  },
  {
   "cell_type": "code",
   "execution_count": 36,
   "metadata": {},
   "outputs": [],
   "source": [
    "id_unique_state = list(range(1, len(unique_state) + 1))"
   ]
  },
  {
   "cell_type": "code",
   "execution_count": 37,
   "metadata": {},
   "outputs": [],
   "source": [
    "df_unique_state = pd.DataFrame({'id_unique_state': id_unique_state, 'unique_state': unique_state})"
   ]
  },
  {
   "cell_type": "code",
   "execution_count": 38,
   "metadata": {},
   "outputs": [
    {
     "data": {
      "text/html": [
       "<div>\n",
       "<style scoped>\n",
       "    .dataframe tbody tr th:only-of-type {\n",
       "        vertical-align: middle;\n",
       "    }\n",
       "\n",
       "    .dataframe tbody tr th {\n",
       "        vertical-align: top;\n",
       "    }\n",
       "\n",
       "    .dataframe thead th {\n",
       "        text-align: right;\n",
       "    }\n",
       "</style>\n",
       "<table border=\"1\" class=\"dataframe\">\n",
       "  <thead>\n",
       "    <tr style=\"text-align: right;\">\n",
       "      <th></th>\n",
       "      <th>id_unique_state</th>\n",
       "      <th>unique_state</th>\n",
       "    </tr>\n",
       "  </thead>\n",
       "  <tbody>\n",
       "    <tr>\n",
       "      <th>0</th>\n",
       "      <td>1</td>\n",
       "      <td>KS</td>\n",
       "    </tr>\n",
       "    <tr>\n",
       "      <th>1</th>\n",
       "      <td>2</td>\n",
       "      <td>TN</td>\n",
       "    </tr>\n",
       "    <tr>\n",
       "      <th>2</th>\n",
       "      <td>3</td>\n",
       "      <td>IL</td>\n",
       "    </tr>\n",
       "    <tr>\n",
       "      <th>3</th>\n",
       "      <td>4</td>\n",
       "      <td>WI</td>\n",
       "    </tr>\n",
       "    <tr>\n",
       "      <th>4</th>\n",
       "      <td>5</td>\n",
       "      <td>UT</td>\n",
       "    </tr>\n",
       "  </tbody>\n",
       "</table>\n",
       "</div>"
      ],
      "text/plain": [
       "   id_unique_state unique_state\n",
       "0                1           KS\n",
       "1                2           TN\n",
       "2                3           IL\n",
       "3                4           WI\n",
       "4                5           UT"
      ]
     },
     "execution_count": 38,
     "metadata": {},
     "output_type": "execute_result"
    }
   ],
   "source": [
    "df_unique_state.head()"
   ]
  },
  {
   "cell_type": "code",
   "execution_count": 39,
   "metadata": {},
   "outputs": [
    {
     "name": "stdout",
     "output_type": "stream",
     "text": [
      "<class 'pandas.core.frame.DataFrame'>\n",
      "RangeIndex: 54 entries, 0 to 53\n",
      "Data columns (total 2 columns):\n",
      " #   Column           Non-Null Count  Dtype \n",
      "---  ------           --------------  ----- \n",
      " 0   id_unique_state  54 non-null     int64 \n",
      " 1   unique_state     54 non-null     object\n",
      "dtypes: int64(1), object(1)\n",
      "memory usage: 992.0+ bytes\n"
     ]
    }
   ],
   "source": [
    "df_unique_state.info()"
   ]
  },
  {
   "cell_type": "code",
   "execution_count": 40,
   "metadata": {},
   "outputs": [
    {
     "name": "stdout",
     "output_type": "stream",
     "text": [
      "Files created successfully data/json_state/\n"
     ]
    }
   ],
   "source": [
    "folder_path = 'data/json_state/'\n",
    "\n",
    "category_vector = generate_embeddings(\"state_abbreviation\")\n",
    "\n",
    "# Iterate over each row in the dataframe\n",
    "for index, row in df_unique_state.iterrows():\n",
    "    # Define the name of the file\n",
    "    file_name = os.path.join(folder_path, f'state_{row[\"id_unique_state\"]}.json')\n",
    "    \n",
    "    # Build a dictionary with the data\n",
    "    content = {\"id\": f'state_{row[\"id_unique_state\"]}', \"category\": \"state_abbreviation\", \"content\": row[\"unique_state\"],\n",
    "               \"categoryVector\": category_vector, \"contentVector\": generate_embeddings(row[\"unique_state\"])}\n",
    "    \n",
    "    # Write the dictionary as a json file in the data folder\n",
    "    with open(file_name, \"w\") as file:\n",
    "        json.dump(content, file)\n",
    "\n",
    "print('Files created successfully', folder_path)"
   ]
  },
  {
   "cell_type": "markdown",
   "metadata": {},
   "source": [
    "### Unit Column"
   ]
  },
  {
   "cell_type": "code",
   "execution_count": 41,
   "metadata": {},
   "outputs": [],
   "source": [
    "unique_unit = df['unit'].unique()"
   ]
  },
  {
   "cell_type": "code",
   "execution_count": 42,
   "metadata": {},
   "outputs": [],
   "source": [
    "id_unique_unit = list(range(1, len(unique_unit) + 1))"
   ]
  },
  {
   "cell_type": "code",
   "execution_count": 43,
   "metadata": {},
   "outputs": [],
   "source": [
    "df_unique_unit = pd.DataFrame({'id_unique_unit': id_unique_unit, 'unique_unit': unique_unit})"
   ]
  },
  {
   "cell_type": "code",
   "execution_count": 44,
   "metadata": {},
   "outputs": [
    {
     "data": {
      "text/html": [
       "<div>\n",
       "<style scoped>\n",
       "    .dataframe tbody tr th:only-of-type {\n",
       "        vertical-align: middle;\n",
       "    }\n",
       "\n",
       "    .dataframe tbody tr th {\n",
       "        vertical-align: top;\n",
       "    }\n",
       "\n",
       "    .dataframe thead th {\n",
       "        text-align: right;\n",
       "    }\n",
       "</style>\n",
       "<table border=\"1\" class=\"dataframe\">\n",
       "  <thead>\n",
       "    <tr style=\"text-align: right;\">\n",
       "      <th></th>\n",
       "      <th>id_unique_unit</th>\n",
       "      <th>unique_unit</th>\n",
       "    </tr>\n",
       "  </thead>\n",
       "  <tbody>\n",
       "    <tr>\n",
       "      <th>0</th>\n",
       "      <td>1</td>\n",
       "      <td>usd</td>\n",
       "    </tr>\n",
       "    <tr>\n",
       "      <th>1</th>\n",
       "      <td>2</td>\n",
       "      <td>percent</td>\n",
       "    </tr>\n",
       "  </tbody>\n",
       "</table>\n",
       "</div>"
      ],
      "text/plain": [
       "   id_unique_unit unique_unit\n",
       "0               1         usd\n",
       "1               2     percent"
      ]
     },
     "execution_count": 44,
     "metadata": {},
     "output_type": "execute_result"
    }
   ],
   "source": [
    "df_unique_unit.head()"
   ]
  },
  {
   "cell_type": "code",
   "execution_count": 45,
   "metadata": {},
   "outputs": [
    {
     "name": "stdout",
     "output_type": "stream",
     "text": [
      "<class 'pandas.core.frame.DataFrame'>\n",
      "RangeIndex: 2 entries, 0 to 1\n",
      "Data columns (total 2 columns):\n",
      " #   Column          Non-Null Count  Dtype \n",
      "---  ------          --------------  ----- \n",
      " 0   id_unique_unit  2 non-null      int64 \n",
      " 1   unique_unit     2 non-null      object\n",
      "dtypes: int64(1), object(1)\n",
      "memory usage: 160.0+ bytes\n"
     ]
    }
   ],
   "source": [
    "df_unique_unit.info()"
   ]
  },
  {
   "cell_type": "code",
   "execution_count": 46,
   "metadata": {},
   "outputs": [
    {
     "name": "stdout",
     "output_type": "stream",
     "text": [
      "{'id': 'unit_1', 'category': 'unit', 'content': 'usd', 'categoryVector': [0.014208773151040077, -0.0070002274587750435, 0.000839560350868851, 0.0090582724660635, -0.005369594786316156, 0.020573269575834274, 0.0036958614364266396, -0.032698854804039, -0.010595520958304405, -0.010875673964619637, -0.001234647585079074, 0.022426588460803032, -0.009834080003201962, 0.007671875413507223, -0.010868490673601627, 0.00255549605935812, 0.04074426740407944, 0.02771357260644436, 0.0163494274020195, -0.01744130440056324, 0.0010577562497928739, 0.002738672774285078, -0.009453359991312027, -0.009453359991312027, -0.010322551243007183, -0.0007690732018090785, 0.003911363426595926, -0.011486263014376163, 0.019093487411737442, -0.01384960301220417, 0.017412571236491203, -0.038014575839042664, -0.03071623668074608, -0.039250120520591736, -0.011493446305394173, 0.006529714446514845, 0.008411766029894352, 0.002866178285330534, 0.008304014801979065, -0.024825844913721085, 0.03338846191763878, 0.02669353038072586, 0.011277944780886173, 0.008957704529166222, -0.04014086350798607, 0.0039005884900689125, -0.012707442045211792, 6.958923040656373e-05, -0.026822831481695175, -0.007829910144209862, 0.006788316648453474, 0.027095800265669823, -0.008440500125288963, -0.03330226242542267, -0.008145980536937714, -0.016133924946188927, -0.002110125031322241, 0.019797461107373238, 0.0056281969882547855, -0.01610519178211689, -0.009036722593009472, -0.0073091136291623116, -0.0065333060920238495, 0.030601302161812782, 0.0004590644093696028, 0.0051325419917702675, 0.0062028695829212666, 0.0013819073792546988, -0.011694582179188728, -0.014065105468034744, 0.045025575906038284, 0.02193811535835266, 0.02804400958120823, 0.0017895655473694205, 0.013296481221914291, -0.012779275886714458, -0.004281308967620134, -0.01076792273670435, 0.008138797245919704, 0.019337723031640053, -0.009949014522135258, -0.001552513218484819, -0.005700031295418739, 0.007786809932440519, 0.04264068603515625, 0.002808711025863886, 0.010207617655396461, 0.014510476030409336, -0.000712952867615968, -0.0011673031840473413, -0.007873010821640491, 0.008569801226258278, 0.003593497909605503, 0.018001610413193703, -0.009072639048099518, -0.009546743705868721, -0.014208773151040077, 0.03631928935647011, 0.00525466026738286, -0.03847431391477585, 0.001452843425795436, 0.036003220826387405, -0.028000909835100174, -0.016651131212711334, 0.0012597894528880715, -0.0004943080130033195, 0.003512684488669038, -0.0004354938864707947, 0.006098710000514984, 0.013239013962447643, -0.013210279867053032, 0.027469336986541748, -0.009438993409276009, -0.02702396549284458, 0.015501786023378372, -0.010150150395929813, -0.007183404173702002, -0.02061636932194233, 0.007837093435227871, -0.016464361920952797, 0.015444318763911724, 0.006310620345175266, 0.018389513716101646, 0.007208546157926321, 0.01953885890543461, -0.005427061580121517, 0.0016952833393588662, 0.0027063474990427494, -0.011967550963163376, 0.014208773151040077, 0.03706636652350426, 0.01214713603258133, 0.030601302161812782, 0.01843261532485485, -0.034078069031238556, 0.042928021401166916, -0.0027135307900607586, 0.017326369881629944, -0.01676606573164463, -0.03881911560893059, 0.010329735465347767, 0.007158262189477682, -0.03390566632151604, -0.030170297250151634, 0.008332748897373676, 0.013727485202252865, -0.0028212820179760456, 0.011974734254181385, 0.008656001649796963, -0.006845783907920122, 0.0005989163182675838, -0.032928723841905594, 0.01734073832631111, -0.007822726853191853, 0.022570256143808365, 0.010394386015832424, -0.006418371573090553, 0.02136344462633133, -0.012326721101999283, -0.005082258488982916, 0.0044142017140984535, -0.0034121170174330473, 0.013907070271670818, -0.02195248380303383, 0.021234141662716866, 0.019639426842331886, -0.0019359274301677942, 0.017312003299593925, -0.0009010682697407901, -0.009539560414850712, -0.018087811768054962, 0.014287790283560753, -0.02178008109331131, 0.014072288759052753, 0.02093243971467018, 0.021349076181650162, 0.004295675549656153, 0.002420807257294655, -0.013964537531137466, -0.02053016796708107, -0.023877635598182678, 0.0038359377067536116, 0.03672156110405922, 0.030974838882684708, -0.003458809107542038, -0.0028123026713728905, 0.008857137523591518, -0.007442006841301918, 0.023575931787490845, -0.01535811834037304, 0.006849376019090414, 0.02001296356320381, 0.01414412260055542, -0.013289297930896282, -0.6813315153121948, 0.0002713979920372367, 0.0003560274781193584, -0.017743008211255074, 0.014668511226773262, 0.01660802960395813, 0.0191796887665987, 0.01603335700929165, -0.019237156957387924, -0.02996916137635708, -0.001151140546426177, 0.009913098067045212, -0.013131262734532356, 0.0008144184248521924, -0.008009495213627815, -0.01568855531513691, -0.009460543282330036, -0.030773703008890152, -0.011831066571176052, 0.012836743146181107, -0.011514997109770775, 0.019122222438454628, -0.012635608203709126, 0.008023862726986408, 0.0033348952420055866, 0.000250521203270182, -0.011292311362922192, 0.01184543315321207, -0.012750542722642422, -0.009568294510245323, -0.008289648219943047, 0.021823180839419365, 0.00054728559916839, -0.020056063309311867, 0.019237156957387924, 0.007330663967877626, -0.010559603571891785, 0.01810217835009098, 0.0013729281490668654, 0.020558902993798256, 0.0037964291404932737, -0.008742203004658222, 0.026334360241889954, 0.002745856298133731, 0.011206110008060932, 0.007693425752222538, 0.013116896152496338, 0.010925957933068275, 0.0021999175660312176, -0.00955392699688673, 0.02544361725449562, -0.0046009705401957035, 0.003516276367008686, 0.02126287668943405, 0.002788956742733717, 0.006486613769084215, -0.009201941080391407, -0.016564929857850075, -0.005980183836072683, -0.015372484922409058, 0.0017329961992800236, -0.0038215708918869495, -0.009604210965335369, 0.009446176700294018, -0.02669353038072586, 0.00035827228566631675, -0.012693075463175774, -0.005682072602212429, 0.012448838911950588, -0.01247038971632719, -0.005509670823812485, 0.0038143876008689404, -0.024093138054013252, -0.00425257533788681, 0.016794798895716667, 0.009194756858050823, 0.030486367642879486, -0.02170824632048607, -0.007262421306222677, 0.007829910144209862, -0.005182825960218906, -0.020544536411762238, -0.01910785399377346, 0.011730498634278774, 0.017915409058332443, -0.022225452587008476, 0.007477923762053251, 0.0038107959553599358, 0.014208773151040077, 0.00938870944082737, 0.012377005070447922, 0.010293818078935146, -0.01709650084376335, -0.011673031374812126, -0.0011125296587124467, 0.021076107397675514, -0.002603983972221613, 0.019639426842331886, -0.00509303342550993, -0.025141913443803787, -0.011572464369237423, -0.0029164620209485292, 0.016881000250577927, 0.002102941507473588, 0.02051580138504505, 0.021076107397675514, -0.029006585478782654, 0.03137711063027382, 0.03585955500602722, -0.021923748776316643, -0.005617422051727772, -0.0009535969002172351, -0.013691567815840244, -0.002061636885628104, 0.01276490930467844, -0.03970985859632492, 0.006450696848332882, 0.005585096776485443, 0.006806275341659784, -0.010107049718499184, 0.009956197813153267, -0.01860501617193222, 0.015487419441342354, -0.013203096576035023, 0.010107049718499184, 0.005825740750879049, -0.006342945620417595, -0.026219425722956657, -0.020228466019034386, 0.007607224863022566, 0.028920384123921394, -0.01886361837387085, 0.022972526028752327, -0.02111920714378357, 0.027397504076361656, 0.01751313917338848, 0.022498421370983124, -0.027268201112747192, 0.048358675092458725, -0.0050858501344919205, -0.02160768024623394, -0.04062933474779129, 0.006720074452459812, -0.00749229034408927, 0.00040249511948786676, -0.01601899042725563, 0.011831066571176052, 0.011127092875540257, -0.013942987658083439, 0.025630386546254158, 0.007176220882683992, 0.008612901903688908, -0.010164516977965832, 0.0038215708918869495, 0.015200083144009113, -0.055369678884744644, -0.010351285338401794, -0.02820204384624958, 0.01364128477871418, -0.023432264104485512, 0.010257900692522526, 0.01886361837387085, -0.016579296439886093, 0.02988296188414097, -0.0031086180824786425, -0.012197420001029968, -0.022412220016121864, 0.02535741589963436, 0.019553225487470627, -0.05304225534200668, 0.016794798895716667, -0.008002311922609806, -0.007987945340573788, 0.008878687396645546, -0.007186995819211006, -0.008706285618245602, 0.006881701294332743, 0.0004429017717484385, 0.010595520958304405, -0.021650779992341995, 0.010451853275299072, 0.031664445996284485, -0.02953815832734108, -0.0005068789469078183, 0.019380824640393257, 0.019567592069506645, 0.01326774712651968, 0.023317329585552216, -0.022800125181674957, 0.0026830013375729322, -0.006655423901975155, -0.013842419721186161, -0.015200083144009113, -0.0015659821219742298, 0.00788737740367651, 0.02971055917441845, -0.005768273491412401, 0.00934560876339674, 0.012197420001029968, 0.013583817519247532, 0.0209468062967062, -0.0203577671200037, 0.017886675894260406, -0.030170297250151634, 0.022067416459321976, -0.02420807257294655, -0.001996986335143447, -0.015027681365609169, 0.016564929857850075, 0.002894911915063858, 0.026765363290905952, -0.010573971085250378, -0.02962435781955719, -0.00875656958669424, 0.023331696167588234, 0.03278505802154541, -0.011816699989140034, 0.010523687116801739, -0.0009562906925566494, -0.011457529850304127, 0.0007358499569818377, 0.0017069564200937748, 0.02744060382246971, -0.00234538153745234, -0.014244690537452698, -0.009812530130147934, 0.024251172319054604, 0.02936575561761856, 0.014093838632106781, -0.013921436853706837, 0.007650325540453196, 0.004981690552085638, 0.011723315343260765, 0.0075138406828045845, 0.006817050278186798, 0.008160347118973732, 0.006360904313623905, -0.011665848083794117, 0.03916391730308533, 0.018389513716101646, 0.014237507246434689, 0.010818206705152988, 0.010940324515104294, -0.022053049877285957, 0.015789121389389038, -0.013526350259780884, 0.04795640707015991, -0.007442006841301918, -0.022326020523905754, 0.00788737740367651, -0.015415585599839687, 0.016737330704927444, -0.028087109327316284, -0.012966044247150421, 0.008972072042524815, 0.00901517178863287, 0.009905913844704628, 0.02226855233311653, 0.018921086564660072, 0.033330995589494705, 0.009762246161699295, 0.006989452056586742, 0.021679513156414032, 0.006044834386557341, 0.008023862726986408, 0.013971720822155476, 0.009762246161699295, -0.02887728437781334, -0.028977852314710617, 0.012915760278701782, -0.007671875413507223, -0.001510310685262084, 0.0014447621069848537, 0.00930969137698412, 0.006321395747363567, -0.020415235310792923, 0.009898730553686619, 0.014711611904203892, 0.015544886700809002, -0.012599690817296505, -0.011881350539624691, -0.027182001620531082, 0.01945265755057335, 0.0063285790383815765, 0.015257550403475761, -0.016133924946188927, -0.03798584267497063, -0.020903706550598145, -0.0021208999678492546, 0.00875656958669424, -6.706381100229919e-05, -0.0065333060920238495, 0.015702921897172928, -0.0005625503254123032, 0.007786809932440519, 0.0019377232529222965, 0.02027156576514244, -0.03246898576617241, -0.013418599031865597, -0.0010757147101685405, -0.019969863817095757, -0.009496460668742657, 0.002745856298133731, -0.01014296617358923, 0.023978203535079956, 0.004970915615558624, -0.02294379286468029, -0.02853248082101345, -0.004780555609613657, -0.021665146574378014, -0.022484054788947105, -0.0055527715012431145, -0.01189571712166071, 0.014330890960991383, 0.015674186870455742, -0.008821220137178898, 0.001256197807379067, -0.0025447208900004625, 0.037928372621536255, -0.0017491589533165097, -0.018892353400588036, -0.01985492929816246, -0.016062092036008835, 0.011522180400788784, 0.010882857255637646, 0.019423924386501312, -0.001636918168514967, 0.014955847524106503, -0.040916670113801956, -0.016536196693778038, -0.024581609293818474, -0.018561916425824165, 0.01217587012797594, -0.02393510192632675, 0.0090582724660635, -0.016507463529706, -0.0047554136253893375, -0.006077159661799669, -0.0005697337328456342, 0.007607224863022566, 0.007003819104284048, -0.009431809186935425, 0.0335608646273613, -0.013835236430168152, 0.012779275886714458, -0.02060200273990631, 0.007136711850762367, 0.014826546423137188, -0.008462049998342991, -0.015746021643280983, 0.004331592470407486, 0.03603195399045944, 0.0035629684571176767, -0.024164970964193344, -0.020487068220973015, 0.007330663967877626, -0.002406440442427993, 0.013231830671429634, -0.0070181856863200665, -0.002704551676288247, 0.012132769450545311, 0.025156281888484955, 0.014998948201537132, -0.011752049438655376, 0.03163571283221245, 0.021550212055444717, 0.008950521238148212, -0.010696088895201683, -0.0019664568826556206, -0.022053049877285957, 0.010451853275299072, 0.009510827250778675, 0.01501331478357315, 0.014812178909778595, 0.024883311241865158, 0.0026973681524395943, -0.033991869539022446, -0.015458685345947742, 0.005771865136921406, -0.0019413148984313011, 0.013863969594240189, 0.01013578288257122, -0.006720074452459812, -0.018490081652998924, -0.016938466578722, -0.027885975316166878, 0.01393580436706543, -0.007873010821640491, -0.01768554002046585, -0.023302963003516197, -0.017829209566116333, -0.022412220016121864, -0.012693075463175774, -0.005520446226000786, -0.00046153372386470437, -0.021564578637480736, -0.006587181705981493, -7.598694355692714e-05, 0.024653442203998566, -0.008943337947130203, 0.03482514247298241, -0.019711261615157127, 0.0013702342985197902, 0.021392177790403366, -0.018791785463690758, 0.013116896152496338, -0.000578264007344842, -0.02093243971467018, 0.004238208290189505, 0.023748334497213364, 0.01961069367825985, -0.01501331478357315, -0.008893053978681564, 0.007266013417392969, 0.020214099436998367, 0.0012957064900547266, 0.03787090629339218, -0.004022706300020218, -0.015803489834070206, 0.01072482205927372, 0.013971720822155476, -0.002787160687148571, -0.018791785463690758, -0.015185716561973095, 0.008735019713640213, -0.014654144644737244, 0.010128599591553211, -0.00211730832234025, 0.019984230399131775, -0.012757726013660431, 0.014524842612445354, 0.029739292338490486, -0.012053752318024635, 0.009467726573348045, 0.023001259192824364, -0.029408857226371765, -0.011119909584522247, -0.008454866707324982, 0.017125235870480537, 0.0002651124959811568, -0.0016809165244922042, 0.01586095616221428, 0.0011430592276155949, -0.02037213370203972, -0.010114233009517193, -0.03715256601572037, 0.02160768024623394, 0.00011650583473965526, -0.008339932188391685, 0.011026524938642979, -0.006486613769084215, 0.005955041851848364, 0.0001887888356577605, 0.007158262189477682, 0.0023238311987370253, 0.015473052859306335, 0.0010694293305277824, -0.020257199183106422, -0.01619139313697815, -0.00938870944082737, -0.024394840002059937, 0.01928025670349598, -0.0034426464699208736, 0.00596222560852766, -0.015329384244978428, -0.004719496704638004, -0.002343585481867194, -0.003803612431511283, 0.0015327588189393282, -0.03594575449824333, -0.01735510490834713, 0.0005374083993956447, 0.016320694237947464, 0.003202002262696624, -0.01501331478357315, -0.0017419755458831787, -0.02027156576514244, -0.019653793424367905, -0.017642440274357796, -0.030141564086079597, -0.028187677264213562, 0.004496810957789421, 0.035600949078798294, 0.015544886700809002, 0.03902025148272514, 0.004974507261067629, 0.0018479307182133198, 0.012104036286473274, 0.0009616782190278172, 0.00847641658037901, 0.00047185985022224486, -0.011464713141322136, -0.02379143424332142, 0.019308989867568016, 0.043359026312828064, 0.02068820409476757, 0.007079244591295719, -0.001460026833228767, -0.017743008211255074, 0.024595975875854492, -0.005229518283158541, -0.014510476030409336, 0.012463206425309181, -0.004051439929753542, 0.005190009251236916, -0.016636764630675316, -0.017656806856393814, 0.0133036645129323, -0.015070782043039799, -0.01761370711028576, 0.03338846191763878, 0.003846712876111269, 0.005768273491412401, -0.014496109448373318, 0.028015276417136192, 0.004583011846989393, 0.011198926717042923, -0.00484161451458931, 0.012398555874824524, -0.01267870794981718, -0.0033438745886087418, -0.0019898030441254377, -0.006702116224914789, 0.021334709599614143, 0.007427639793604612, 0.010933141224086285, 0.0009769429452717304, 0.036089420318603516, -0.02637745998799801, -0.013282113708555698, -0.01994113065302372, -0.03677902743220329, -0.027656106278300285, -0.013619733974337578, -0.02018536627292633, -0.0016979771899059415, -0.008383032865822315, -0.029078420251607895, 0.019380824640393257, 0.0030655176378786564, -0.0002563577436376363, 0.01601899042725563, 0.000505083124153316, -0.010990608483552933, 0.009798163548111916, -0.0072013624012470245, 0.009869997389614582, 0.004676396027207375, 0.014603860676288605, 0.021808814257383347, 0.022167984396219254, -0.015544886700809002, -0.02203868329524994, -0.006278295069932938, 0.026262525469064713, 0.034738942980766296, 0.009518010541796684, 0.007449190132319927, -0.00963294506072998, 0.02603265643119812, -0.012908576987683773, -0.004209474660456181, -0.029509423300623894, 0.008102879859507084, 0.030313964933156967, 0.006450696848332882, -0.013720301911234856, -0.008828403428196907, -0.00797357875853777, 0.00425257533788681, 0.0021963256876915693, 0.0042597586289048195, -0.011859799735248089, 0.015875322744250298, -0.013454515486955643, 0.01164429821074009, -0.009819713421165943, -0.010042399168014526, 0.010013665072619915, -0.02269955724477768, 0.02471091039478779, -0.0019718443509191275, -0.03899151831865311, -0.006597956642508507, 0.017053401097655296, 0.01443864218890667, -0.01685226522386074, 0.0010119620710611343, 0.013971720822155476, 0.008347115479409695, -0.017987243831157684, -0.006023284513503313, -0.018892353400588036, 0.02919335477054119, -0.03522741422057152, 0.00024221540661528707, 0.016047725453972816, -0.001264279126189649, 0.0320667140185833, -0.009288141503930092, -0.016220126301050186, -0.03445160761475563, -0.0197687279433012, -0.024825844913721085, -0.005495304241776466, 0.005682072602212429, -0.018576283007860184, -0.02912151999771595, -0.0010496749309822917, -0.016981568187475204, -0.0032504904083907604, -0.0017428734572604299, 0.02219671942293644, 0.004033481236547232, -0.016248859465122223, 4.200607872917317e-05, 0.00232742284424603, 0.001581246848218143, -0.0002476029621902853, -0.009438993409276009, -0.008347115479409695, 0.023676499724388123, -0.033934399485588074, 0.00958984438329935, -0.02245532162487507, 0.00817471370100975, -0.014172856695950031, 0.010006481781601906, -0.01498458068817854, -0.024423573166131973, 0.014884013682603836, -0.0003670270671136677, -0.026161957532167435, 0.003861079690977931, -0.023590298369526863, 0.029308289289474487, -0.005908349994570017, -0.015142615884542465, -0.0026578595861792564, 0.0019933946896344423, 0.023978203535079956, -0.008598534390330315, 0.002589617157354951, 0.03778470680117607, -0.018389513716101646, 0.001023635035380721, -0.002887728391215205, -0.027584271505475044, -0.013863969594240189, 0.0032792240381240845, -0.02028593234717846, 0.01131386123597622, -0.027311302721500397, -0.020214099436998367, -0.014359625056385994, 0.00295058311894536, 0.005685664247721434, -0.023417897522449493, -0.021176675334572792, -0.010904407128691673, 0.003092455444857478, 0.017498772591352463, -0.0002615207922644913, 0.013389864936470985, 0.01601899042725563, 0.0077652595937252045, 0.0059119416400790215, 0.00677754171192646, -0.024969512596726418, -0.00719777075573802, 0.00967604573816061, -0.005915533285588026, -0.026722263544797897, -0.008900237269699574, 0.007700609043240547, 0.03902025148272514, 0.008656001649796963, -0.03669282793998718, -0.007578491233289242, 0.0017258127918466926, -0.024308638647198677, -0.005671297665685415, -0.006030467804521322, 0.02561601810157299, 0.007528207264840603, 0.003358241403475404, -0.011629931628704071, 0.013734668493270874, 0.005739539861679077, 0.009510827250778675, -0.047094397246837616, -0.013476066291332245, -0.0008247445803135633, -0.009704778902232647, 0.013001961633563042, -0.018561916425824165, -0.029911695048213005, -0.006324987392872572, 0.033417195081710815, 0.019826196134090424, 0.01180233247578144, 0.0032181651331484318, -0.010444669984281063, 0.005868840962648392, 0.0019718443509191275, 0.008533883839845657, 0.0039185467176139355, -0.0038503045216202736, 0.02228291891515255, -0.015128249302506447, -0.01410102192312479, 0.0037641036324203014, -0.017671173438429832, -0.01380650233477354, -0.003555784933269024, 0.002866178285330534, -0.0133036645129323, 0.015832222998142242, -0.016622396185994148, -0.009280958212912083, 0.0010954691097140312, -0.021923748776316643, 0.004363918211311102, 0.0058041904121637344, -0.005308535415679216, 0.03853178024291992, 0.02228291891515255, -0.011213294230401516, -0.02887728437781334, 0.008914604783058167, -0.038100775331258774, -0.026061389595270157, 0.010329735465347767, -0.01951012574136257, 0.004565053153783083, -0.00989154726266861, -0.0052115595899522305, -0.011946001090109348, 0.0015641861828044057, 0.006393229588866234, 0.0037102282512933016, 0.0163494274020195, 0.03143457695841789, 0.019926762208342552, -0.02337479777634144, 0.006044834386557341, -0.01643562875688076, -0.016995934769511223, 0.017886675894260406, -0.022800125181674957, 0.015243183821439743, -0.022915059700608253, -0.023001259192824364, -0.002702755853533745, -0.019625060260295868, -0.0021011456847190857, -0.013095345348119736, 0.009747879579663277, -0.008785302750766277, 0.006554856430739164, 0.17320623993873596, -0.014826546423137188, 0.008519517257809639, 0.023561565205454826, 0.0006833213265053928, -0.014618227258324623, 0.013231830671429634, -0.017067767679691315, -0.01209685206413269, 0.018073445186018944, 0.001347786164842546, 0.02287195809185505, 0.0038359377067536116, 0.011744866147637367, 0.007370172534137964, -0.020846238359808922, -0.024825844913721085, -0.0231880284845829, -0.02610449120402336, 0.017153969034552574, 0.004694354720413685, -0.01961069367825985, -0.015975890681147575, 0.014259057119488716, 0.03169317916035652, -0.0015902260784059763, -0.0030080503784120083, 0.015156982466578484, 0.011026524938642979, 0.02178008109331131, -0.016062092036008835, -0.0002630921662785113, -0.020242832601070404, 0.009166023693978786, 0.019898029044270515, -0.008950521238148212, 0.0003641087969299406, 0.013231830671429634, 0.013203096576035023, 0.015372484922409058, 0.020084798336029053, 0.005154092330485582, -0.023805800825357437, -0.026837198063731194, 0.018059078603982925, 0.023992570117115974, -0.014524842612445354, -0.010272268205881119, -0.005146909039467573, 0.022412220016121864, -0.021147942170500755, 0.009230674244463444, 0.010897223837673664, 0.03252645209431648, 0.020487068220973015, 0.013871152885258198, 0.025730952620506287, -0.02351846545934677, 0.015113881789147854, -0.00851233396679163, -0.03899151831865311, -0.010645804926753044, -0.01853318326175213, 0.00037174116005189717, -0.009288141503930092, 0.016047725453972816, -0.012693075463175774, -0.01081102341413498, 0.009223490953445435, 0.00450399424880743, -0.025730952620506287, -0.006698524113744497, -0.012527856975793839, 0.012836743146181107, -0.00436032610014081, -0.015128249302506447, 0.013835236430168152, 0.03887658193707466, 0.005534812808036804, -0.005409103352576494, 0.00013356641284190118, -0.012132769450545311, -0.02327422983944416, 0.0028769534546881914, 0.0001707180927041918, -0.0197687279433012, 0.018145278096199036, 0.019668160006403923, 0.00850515067577362, 0.0008593146922066808, 0.012082485482096672, -0.028819818049669266, -0.027555538341403008, -0.01389988698065281, 0.013526350259780884, 0.016866633668541908, 0.005021199584007263, 0.004435752052813768, -0.010502137243747711, -0.0020239241421222687, -0.0027512437663972378, 0.05180671066045761, 0.02677972987294197, 0.014309341087937355, -0.018418248742818832, -0.0052402932196855545, -0.016823532059788704, 0.00047590050962753594, -0.002462111646309495, -0.0058616576716303825, -0.0029398081824183464, -0.024164970964193344, 0.005434245336800814, 0.022584622725844383, -0.0020239241421222687, 0.013375498354434967, 0.010286634787917137, -0.013698752038180828, 0.007772443350404501, 0.0070289610885083675, 0.017039034515619278, -0.015587986446917057, -0.007822726853191853, 0.0018964186310768127, -0.006439921911805868, -0.005355227738618851, -0.012664341367781162, -0.004949365276843309, 0.00663387356325984, -0.009855630807578564, 0.004119682125747204, -0.031003572046756744, 0.015789121389389038, -0.009259408339858055, -0.0058149658143520355, 0.009668861515820026, -0.00667697424069047, -0.013138446025550365, -0.018504448235034943, 0.020300300791859627, -0.01017888356000185, -0.024006936699151993, 0.004087356850504875, 0.002278934931382537, -0.003415708662942052, -0.03749736770987511, 0.03054383397102356, 0.02511318027973175, -0.01331084780395031, -0.011292311362922192, -0.0006384250591509044, 0.0018515223637223244, -0.010394386015832424, -0.004565053153783083, 0.018576283007860184, 0.001560594537295401, -0.03660662844777107, -0.0460599884390831, -0.0013468882534652948, 0.0008633553516119719, -0.02953815832734108, -0.0019143772078678012, 0.03379073366522789, -0.011371328495442867, 0.007413273211568594, 0.00199159886687994, -0.18987174332141876, 0.0038574880454689264, 0.02278575859963894, -0.0276273712515831, 0.022383486852049828, -0.006755991373211145, 0.013483249582350254, 0.003889813320711255, -0.025256847962737083, -0.008124429732561111, 0.02996916137635708, -0.006655423901975155, -0.03913518413901329, -0.011083992198109627, -0.001996986335143447, -0.0022915059234946966, -0.017470039427280426, 0.005682072602212429, 0.02060200273990631, -0.0043854680843651295, 0.039594922214746475, -0.01560235396027565, -0.009920281358063221, -0.018921086564660072, 0.014517659321427345, -0.010013665072619915, 0.007449190132319927, 0.02394946850836277, -0.003078088629990816, -0.012132769450545311, -0.01335394848138094, -0.022886324673891068, 0.011974734254181385, -0.010796655900776386, 0.0023543606512248516, 0.026061389595270157, -0.005886799655854702, -0.0015632882714271545, 0.005789823830127716, -0.00621364451944828, 0.0009082516771741211, 0.022915059700608253, -0.008124429732561111, -0.0035863143857568502, -0.010358468629419804, 0.019308989867568016, -0.0025806378107517958, 0.014287790283560753, 0.02777104079723358, -0.0356871522963047, -0.005538404453545809, -0.02209615148603916, -0.004284900613129139, 0.014970214106142521, 0.010523687116801739, 0.01695283316075802, -0.00260937144048512, 0.017800474539399147, -0.007477923762053251, 0.004694354720413685, -0.017829209566116333, -0.020889339968562126, 0.015142615884542465, 0.0014492517802864313, 0.002612963318824768, -0.027814140543341637, -0.007700609043240547, 0.0031571059953421354, -0.021162308752536774, -0.0012678707716986537, -0.00584369944408536, -0.04197981208562851, 0.016076458618044853, -0.02268519066274166, 0.012614057399332523, 0.011191743426024914, -0.000772664905525744, 0.0016611622413620353, -0.009913098067045212, -0.013296481221914291, -0.009790979325771332, 0.042841821908950806, 0.019093487411737442, -0.0022394261322915554, -0.02068820409476757, 0.006289070472121239, 0.008304014801979065, -0.008727836422622204, -0.0045111775398254395, -0.005247476510703564, 0.0017518526874482632, -0.0187055841088295, -0.007269605062901974, -0.016291961073875427, 0.00029451955924741924, 0.014840913005173206, 0.008612901903688908, -0.005462978966534138, 0.020544536411762238, -0.022986892610788345, -0.017211435362696648, 0.002577046165242791, -0.020472701638936996, 0.016205759719014168, 0.026219425722956657, -0.008311198092997074, -0.0016333265230059624, 0.012118402868509293, 0.03439413756132126, -0.005057116504758596, -0.011507813818752766, -0.00677754171192646, 0.01105525903403759, 0.020989906042814255, 0.004863164387643337, 0.008418949320912361, -0.008160347118973732, 0.000932046677917242, -0.002217876026406884, -0.033244792371988297, 0.05338706076145172, 0.002666838699951768, -0.03721003234386444, 0.014050737954676151, -0.0038862216752022505, -0.013102528639137745, -0.10309621691703796, -0.02093243971467018, 0.009489276446402073, 0.024222439154982567, -8.232854452216998e-05, -0.0015192899154499173, -0.026305625215172768, 0.023245494812726974, 0.01192445121705532, 0.05715116113424301, -0.009898730553686619, -0.02518501505255699, -0.012793642468750477, -0.00777962664142251, 0.017484406009316444, -0.0007398906163871288, -0.007334255613386631, -0.03973859176039696, -0.00909418985247612, 0.04525544494390488, 0.002251997124403715, -0.013188729993999004, 0.013634100556373596, -0.011385695077478886, 0.004037072882056236, 0.005146909039467573, -0.026578595861792564, 0.01844698190689087, 0.02369086630642414, 0.002584229689091444, 0.03631928935647011, -0.010358468629419804, 0.017829209566116333, -0.04002592712640762, -0.00682064238935709, -0.009625761769711971, -0.028733616694808006, -0.015329384244978428, 0.024409206584095955, 0.0006280989036895335, 0.021837549284100533, 0.015372484922409058, -0.0012121994514018297, -0.021076107397675514, 0.017671173438429832, -0.004256166983395815, -0.014553576707839966, 0.03511247783899307, -0.009862814098596573, -0.030227763578295708, -0.005556363146752119, 0.008548250421881676, -0.012104036286473274, -0.014352441765367985, -0.005850882735103369, 0.002278934931382537, 0.010372835211455822, 0.01711086928844452, 0.0005598565330728889, 0.004496810957789421, 0.005739539861679077, -0.0005059810355305672, 0.010063949041068554, 0.015185716561973095, 0.002413623733446002, -0.004116090480238199, -0.036836497485637665, 0.012032201513648033, -0.002929033013060689, -0.006317804101854563, 0.026061389595270157, 0.008576984517276287, -0.000889844202902168, 0.017728641629219055, -0.006824234034866095, -0.009625761769711971, -0.027885975316166878, -0.007944844663143158, 0.04913448542356491, -0.03212418407201767, -0.005455795209854841, -0.007571307942271233, 0.028087109327316284, 0.001539044314995408, 0.01438835822045803, 0.016392529010772705, 0.000843601010274142, -0.005014015827327967, 0.0289634857326746, -0.003735370235517621, -0.010107049718499184, 0.002772793872281909, 0.0006038548890501261, -0.017886675894260406, 0.003302569966763258, 0.021593311801552773, -0.03312985971570015, 0.006960718426853418, -0.01105525903403759, 0.00767905917018652, -0.02018536627292633, -0.01501331478357315, -0.06959281861782074, 0.03361833095550537, -0.010071132332086563, -0.0035270513035357, -0.005057116504758596, 0.022397853434085846, -0.011141459457576275, 0.005567138083279133, -0.0010649396572262049, 0.001623449381440878, -0.00652612280100584, 0.018820518627762794, -0.02110484056174755, -0.01751313917338848, -0.005430653691291809, -0.024495407938957214, 0.02953815832734108, 0.003735370235517621, 0.01076073944568634, -0.009474909864366055, -0.0037676955107599497, 0.006432738155126572, 0.02235475368797779, 0.014596677385270596, -0.02261335588991642, 0.0037030447274446487, 0.014201589860022068, -0.006181319244205952, 0.024639075621962547, -0.009367158636450768, 0.005682072602212429, -0.012800825759768486, -0.01817401312291622, 0.026636062189936638, 0.0118885338306427, -0.023662133142352104, 0.001411538920365274, 0.023259863257408142, -0.003663536161184311, -0.0008377645281143486, -0.015386851504445076, -0.02077440544962883, -0.01447455957531929, -0.010150150395929813, -0.02244095504283905, -0.016148291528224945, -0.02527121640741825, 0.04215221479535103, -0.0028931160923093557, -0.0026632470544427633, 0.014000454917550087, 0.0243661068379879, -0.013763402588665485, -0.0046009705401957035, -0.015487419441342354, -0.031750645488500595, 0.01389988698065281, 0.002652471885085106, -0.014280606992542744, -0.009331242181360722, 0.02511318027973175, 0.010782289318740368, 0.03011282905936241, 0.0038215708918869495, 0.015128249302506447, -0.016320694237947464, 0.00465484568849206, -0.0021855507511645555, 0.005279801785945892, -0.01986929588019848, -0.0163494274020195, -0.016665497794747353, -0.0049601406790316105, -0.01439554151147604, 0.01886361837387085, -0.0041807410307228565, 0.0021496335975825787, -0.01302351150661707, 0.00425257533788681, -0.0009037620038725436, 0.012039384804666042, -0.004320817533880472, -0.02429427206516266, 0.023575931787490845, 0.04140514135360718, 0.016306327655911446, -0.013138446025550365, 0.009949014522135258, 0.0015228816773742437, 0.02544361725449562, -0.0415775440633297, 0.021909382194280624, 0.0055024875327944756, 0.014575126580893993, 0.0038646713364869356, -0.007980762049555779, -0.0018820518162101507, -2.9098398954374716e-05, 0.010739189572632313, 0.0076215919107198715, 0.014970214106142521, -0.012556590139865875, 0.005143317393958569, -0.011234844103455544, 0.00550607917830348, 0.011917266994714737, -0.030888637527823448, -0.019998596981167793, -0.01586095616221428, 0.015487419441342354, 0.01355508342385292, 0.0045219529420137405, 0.020415235310792923, 0.003861079690977931, -0.01660802960395813, 0.014826546423137188, 0.004679987672716379, -0.01439554151147604, -0.02728256955742836, 0.0011816699989140034, 0.014503292739391327, 0.03930758684873581, 0.017139602452516556, -0.014941480942070484, 0.013411415740847588, -0.01609082520008087, -0.0064542884938418865, -0.019653793424367905, 8.642533066449687e-05, 0.016837898641824722, 0.004295675549656153, 0.011809516698122025, -0.031578242778778076, -0.016550563275814056, -0.027656106278300285, 0.008332748897373676, -0.0010766127379611135, 0.00984844658523798, 0.002126287668943405, 0.05424906685948372, 0.031578242778778076, -0.007987945340573788, 0.002492641331627965, -0.0006774847861379385, 0.006457880139350891, 0.014496109448373318, -0.0032127774320542812, -0.023547198623418808, -0.016823532059788704, 0.024653442203998566, -0.00963294506072998, -0.018834885209798813, -0.010933141224086285, -0.016665497794747353, -5.581168079515919e-05, -0.018877986818552017, 0.009453359991312027, -0.009862814098596573, -0.0064075966365635395, 0.015042047947645187, 0.00354500999674201, 0.012714625336229801, 0.017484406009316444, -0.01817401312291622, -0.03488260880112648, 0.007291154935956001, 0.010408752597868443, -0.01213995274156332, -0.028489381074905396, 0.014201589860022068, -0.0008103777654469013, -0.042180947959423065, -0.026147590950131416, 0.020228466019034386, -0.014014821499586105, -0.003042171709239483, -0.005761090200394392, 0.00826091505587101, 0.01105525903403759, -0.005613830406218767, 0.039767324924468994, -0.026061389595270157, -0.006080751772969961, -0.0030224171932786703, 0.008648818358778954, -0.02453850768506527, -0.02178008109331131, -0.008814036846160889], 'contentVector': [-0.00569945340976119, -0.01610821671783924, -0.008529936894774437, -0.025526834651827812, -0.014750703237950802, -0.011042035184800625, -0.015142562799155712, -0.016584046185016632, -0.0053110928274691105, -0.016612036153674126, 0.01595427095890045, 0.0079281534999609, 0.010657173581421375, -0.01742374338209629, -0.030816935002803802, -0.0007605394348502159, 0.006168285384774208, 0.012861382216215134, 0.030369095504283905, -0.031460702419281006, -0.017703643068671227, 0.009740502573549747, -0.01640211045742035, -0.015422462485730648, -0.005013699643313885, 0.010335288941860199, -0.006899522617459297, -0.00365618709474802, 0.010013404302299023, -0.026632437482476234, 0.005482531618326902, -0.012651457451283932, -0.007865175604820251, -0.02899758890271187, -0.01640211045742035, -0.002081752521917224, 0.005853398237377405, -0.006861036643385887, -0.004153009038418531, -0.00929966103285551, 0.006553146988153458, -0.006892525125294924, 0.00047495446051470935, -0.007249397225677967, -0.01735376939177513, -0.019117135554552078, 0.004604346584528685, -0.017003893852233887, -0.014946633018553257, 0.00968452263623476, -0.004460898227989674, 0.01756369322538376, -0.0343436673283577, -0.033951807767152786, -0.00813108030706644, 0.002307421527802944, 0.00921569112688303, 0.006773567758500576, 0.0014327355893328786, -0.02565278857946396, -0.023273643106222153, 0.020236734300851822, -0.040389496833086014, 0.022979749366641045, -0.013848028145730495, -0.01158084161579609, 0.003890603082254529, -0.0028759674169123173, 0.012679447419941425, 0.0019190609455108643, 0.016528066247701645, 0.02090849168598652, -0.003012418281286955, -0.0037331595085561275, 0.034175727516412735, 0.000211017977562733, -0.01291736215353012, -0.005706450901925564, 0.007830188609659672, 0.004866752307862043, 0.02450520172715187, -0.0398017093539238, -0.013001332059502602, 0.003715665778145194, 0.005367072764784098, -0.005461539141833782, -0.01368708536028862, 0.013806043192744255, -0.03333602845668793, -0.014764698222279549, -0.004100527614355087, 0.020110778510570526, 0.02604464814066887, 0.026114623993635178, -0.0030876414384692907, 0.010720150545239449, -0.033951807767152786, 0.04929030314087868, 0.0023249152582138777, -0.026002664119005203, 0.0020555120427161455, 0.018767261877655983, -0.00995042733848095, -0.010720150545239449, -0.02930547669529915, -0.005216626916080713, -0.003308062208816409, -0.01680796407163143, -0.007452324032783508, -0.016388116404414177, -0.005388065241277218, 0.035967085510492325, -0.006231262814253569, -0.047023117542266846, 0.007872173562645912, -0.017703643068671227, -0.010958065278828144, 0.005874390713870525, -0.0089078014716506, 0.002844478702172637, 0.02356753870844841, 0.0070464699529111385, 0.03048105537891388, 0.0017712389817461371, 0.01170679647475481, -0.0006638866034336388, 0.0027115263510495424, -0.00406554015353322, -0.009439610876142979, 0.017633669078350067, 0.007137437351047993, -0.0040830341167747974, 0.013547135517001152, 0.012931357137858868, -0.0231756791472435, 0.026394521817564964, -0.026702411472797394, 0.02464515157043934, -0.03210447356104851, -0.01571635715663433, 0.013050314038991928, 0.01326023880392313, -0.0018718278734013438, 0.007592273876070976, 0.0038731093518435955, 0.02785000018775463, 0.013540138490498066, -0.01493263803422451, 0.020166758447885513, -0.0030211652629077435, 0.004996206145733595, -0.0248130913823843, 0.026086634024977684, -0.011608831584453583, 0.002151727443560958, 0.013232248835265636, 0.004177500028163195, 0.024785101413726807, 0.010965063236653805, -0.004926231224089861, -0.02738816663622856, -0.008466959930956364, 0.011755779385566711, -0.024827085435390472, 0.004537870641797781, 0.015002612955868244, 0.010216332040727139, 0.0042649684473872185, 0.009467600844800472, 0.010622185654938221, -0.03358794003725052, 0.005811413284391165, -0.005944365635514259, 0.007942148484289646, 0.013519145548343658, 0.022825803607702255, 0.00921569112688303, 0.008459961973130703, -0.03157266229391098, -0.015310502611100674, -0.014274874702095985, -0.010678165592253208, 0.01920110546052456, 0.021244371309876442, 0.012777412310242653, 0.007165427319705486, 0.017829598858952522, -0.003502242499962449, 0.03588311746716499, 0.0049192337319254875, 0.010979058220982552, 0.019732914865016937, 0.0006647612899541855, -0.005125659517943859, -0.676237165927887, -0.02240595407783985, 0.005877889692783356, 0.003764648223295808, 0.001277916133403778, 0.025932688266038895, 0.014708718284964561, 0.007144434843212366, -0.011636821553111076, -0.006199773866683245, -0.012378555722534657, -0.0016225423896685243, -0.0191311314702034, -0.009915439411997795, 0.012721432372927666, -0.010314296931028366, -0.009068743325769901, -0.04237678274512291, -0.006161287892609835, 0.003353545907884836, -0.00800512544810772, 0.028437789529561996, 0.00364569085650146, 0.0054160552099347115, 0.033168092370033264, -0.005535012576729059, -0.014708718284964561, -0.013323215767741203, 0.010993053205311298, -0.006077317986637354, -0.008327010087668896, 0.0052726068533957005, -0.01819346658885479, -0.016905929893255234, 0.04075336828827858, -0.003500493010506034, -0.012714434415102005, 0.008578919805586338, 0.0009376633097417653, 0.04080934822559357, 0.00490173976868391, -0.008040113374590874, 0.004313950892537832, -0.014596758410334587, 0.006266249809414148, 0.01352614350616932, 0.02013876847922802, -0.022210024297237396, 0.014750703237950802, -0.02030670829117298, 0.015618392266333103, 0.011566846631467342, 0.010734145529568195, -0.0062872422859072685, 0.027262210845947266, 0.0011239714222028852, 0.014358844608068466, -0.04923432320356369, 0.011538856662809849, -0.008851821534335613, 0.0004815146094188094, 0.013945992104709148, -0.004695313982665539, -0.004667324014008045, 0.0023231657687574625, -0.0007640381809324026, -0.03904597833752632, 0.0025733259972184896, 0.021580250933766365, -0.008152073249220848, -0.006350219715386629, 0.012371557764708996, 0.003078894456848502, 0.006703592836856842, 0.007249397225677967, 0.025414874777197838, 0.028745679184794426, -0.04565160721540451, -0.011636821553111076, 0.032244421541690826, -0.009152713231742382, -0.01438683457672596, -0.012861382216215134, 0.007907160557806492, 0.01967693492770195, -0.02200010046362877, -0.01119598001241684, -0.010132362134754658, 0.010685163550078869, 0.006021338049322367, -0.009586557745933533, 0.017129849642515182, -0.007907160557806492, -0.013617110438644886, -0.011951708234846592, 0.017395753413438797, -0.011049033142626286, 0.008445966988801956, 0.013015327043831348, -0.0019715421367436647, 0.015422462485730648, 0.023441582918167114, 0.005772927310317755, 0.011405904777348042, 0.010132362134754658, 0.032160453498363495, -0.015268517658114433, 0.03630296513438225, 0.051445528864860535, -0.034875478595495224, 0.01434484962373972, 0.0026118122041225433, -0.013330213725566864, 0.008306018076837063, 0.015086582861840725, -0.029585376381874084, 0.01834741234779358, 0.01897718571126461, 0.019481005147099495, -0.012742424383759499, 0.00220595789141953, 0.002048514550551772, 0.04120120778679848, -0.017143843695521355, 0.009936432354152203, 0.010181344114243984, 0.010055389255285263, -0.02316168323159218, -0.0021079930011183023, 0.0013199010863900185, 0.024379245936870575, -0.0014476052019745111, 0.01921510137617588, -0.019998818635940552, 0.030509045347571373, 0.0032748242374509573, 0.00358621240593493, -0.01950899511575699, 0.023931406438350677, -0.012798404321074486, -0.023609522730112076, -0.000563297769986093, -0.0012691692681983113, -0.019998818635940552, -0.02130035124719143, -0.019005175679922104, -0.003489996772259474, 0.008697876706719398, -0.00929966103285551, 0.006780565250664949, 0.006773567758500576, -0.028745679184794426, -0.024463215842843056, -0.0067980592139065266, -0.0034934955183416605, -0.01594027690589428, 0.0003341300180181861, 0.0073683541268110275, -0.01419790182262659, 0.0033028139732778072, 0.007263392210006714, -0.00047364243073388934, -0.026702411472797394, 0.0038066331762820482, -0.005846400745213032, -0.015212537720799446, -0.008536934852600098, 0.006549648474901915, -0.002977430820465088, -0.01321825385093689, 0.005076677072793245, -0.0037891394458711147, 0.014358844608068466, 0.02255989983677864, 0.03476351872086525, 0.011440891772508621, -0.011328931897878647, -0.0031401223968714476, -0.00525161437690258, -0.024365251883864403, 0.010398266837000847, 0.015142562799155712, -0.025960678234696388, 0.004446903243660927, 0.01967693492770195, 0.009264673106372356, 0.006749076768755913, 0.010265314020216465, -0.006777066737413406, -0.0006009092321619391, -0.010818115435540676, 0.007522298954427242, 0.009593555703759193, -0.005566501058638096, 0.007158429827541113, -0.023469572886824608, 0.008229045197367668, -0.001574434689246118, 0.010433253832161427, 0.00563647598028183, 0.025694774463772774, -0.0158563069999218, 0.004187996033579111, -0.011112010106444359, 0.03151668235659599, -0.0343436673283577, 0.02479909546673298, -0.029361456632614136, 0.01726979948580265, 0.02815788984298706, 0.012994334101676941, -0.042572714388370514, -0.004212487488985062, -0.019411031156778336, -0.003103385679423809, 0.013484158553183079, 0.007711231242865324, -0.005045188590884209, -0.013973982073366642, 0.010013404302299023, -0.019718918949365616, -0.020124774426221848, 0.03143271431326866, -0.01836140640079975, -0.014260879717767239, 0.001808850560337305, -0.01240654569119215, 0.000771035673096776, -0.004313950892537832, -0.002092248760163784, -0.008697876706719398, -0.00643768860027194, -0.023119699209928513, 0.0038626131135970354, -0.008795841597020626, 0.00878184661269188, -0.011755779385566711, -0.00921569112688303, 0.021286357194185257, 0.006917016580700874, -0.0013102794764563441, -0.0027430150657892227, 0.035043418407440186, 0.001070615602657199, 0.01725580357015133, -0.011776771396398544, 0.0266744215041399, 0.010293303988873959, -0.018837235867977142, 0.014400829561054707, 0.005111664533615112, 0.0030544032342731953, 0.005402060225605965, 0.005881388206034899, 0.019704924896359444, -0.028283843770623207, 0.029137536883354187, 0.016276156529784203, 0.028661709278821945, 0.021202387288212776, 0.010363278910517693, -0.004684817977249622, 0.007445326540619135, 0.02370748668909073, 0.011419899761676788, 0.012623467482626438, 0.022224020212888718, -0.002610062714666128, -0.008564924821257591, 0.005632977467030287, -0.018963191658258438, -0.0050276946276426315, -0.013883015140891075, 0.0029564383439719677, 0.005912876687943935, -0.007697236258536577, -0.007585276383906603, 0.0012954098638147116, 0.01812349259853363, -0.02255989983677864, -0.013806043192744255, -0.02200010046362877, 0.015044597908854485, 0.028521759435534477, -0.016458090394735336, -0.017199823632836342, 0.010062387213110924, -0.01352614350616932, 0.007739221211522818, 0.024603165686130524, -0.0020082788541913033, 0.008753856644034386, -0.010776130482554436, -0.004915734753012657, -0.0019418027950450778, -0.006584635935723782, 0.014232889749109745, -0.015772337093949318, -0.003238087287172675, 0.0005326837417669594, 0.009264673106372356, -0.007396344095468521, 0.006077317986637354, -0.021496281027793884, 0.008501946926116943, 0.006098310463130474, -0.016080226749181747, -0.025023015215992928, 0.013680088333785534, 0.006126300431787968, -0.009698517620563507, 0.011007048189640045, -0.04100527614355087, 0.019411031156778336, 0.00567846093326807, -0.01162982452660799, -0.013834033161401749, 0.011035038158297539, 0.06784763932228088, 0.013764058239758015, -0.008550929836928844, -0.014666733331978321, -0.027430150657892227, -0.01462474837899208, 0.03750653192400932, 0.015310502611100674, 0.004817770328372717, 0.008389987051486969, 0.009152713231742382, -0.005052186083048582, -0.015730351209640503, -0.021048441529273987, 0.005744937341660261, 0.014722713269293308, -0.009579560719430447, -0.0011414651526138186, -0.0040515451692044735, 0.002170970430597663, 0.0001355763233732432, 0.008620904758572578, 0.009369635954499245, -0.015184547752141953, 0.014946633018553257, 0.0054510426707565784, -0.008166068233549595, -0.018249446526169777, 0.04061341658234596, 0.032776232808828354, 0.011573844589293003, 0.008809836581349373, 0.007158429827541113, 0.00921569112688303, 0.0048842462711036205, -0.016835954040288925, -0.02054462395608425, 0.01002739928662777, 0.007354359142482281, 0.01286837924271822, -0.019802888855338097, -0.0010583699913695455, 0.014750703237950802, -0.0014511039480566978, 0.027668066322803497, -0.00843197200447321, 0.02924949675798416, 0.00929266307502985, -0.007123442366719246, -0.006273247301578522, 0.0017414996400475502, -0.012616469524800777, -0.012532499618828297, 0.03095688484609127, 0.0026415514294058084, -0.007634258829057217, 0.013897010125219822, -0.004898241255432367, -0.019005175679922104, -0.02254590392112732, 0.006129798945039511, -0.0019190609455108643, 0.007480314001441002, -0.02020874433219433, -0.02619859389960766, -0.0024473711382597685, -0.012259597890079021, -0.002569827251136303, 0.018179472535848618, -0.005293599329888821, -0.013750063255429268, -0.011790766380727291, -0.01076913345605135, -0.003547726199030876, -0.018571332097053528, -0.01093007531017065, -0.005643473472446203, -0.0178156029433012, -0.018011532723903656, 0.016164196655154228, 0.013952990062534809, -0.010391268879175186, 0.0018963190959766507, -0.001698640058748424, 0.034483619034290314, 0.04433608055114746, -0.018837235867977142, -0.007956143468618393, -0.02488306537270546, -0.025302914902567863, -0.001375006278976798, 0.003890603082254529, 0.027933970093727112, -0.003113881917670369, -0.011986696161329746, 0.016080226749181747, 0.026968317106366158, -0.00279899500310421, 0.019103141501545906, -0.02824185974895954, 0.001992534613236785, -0.019033165648579597, 0.014183906838297844, 0.004628838039934635, 0.01132193487137556, 0.009488592855632305, 0.004516878165304661, -0.0019557976629585028, -0.003477751277387142, -0.000884307490196079, 0.02411334216594696, 0.0050626820884644985, 0.011084020137786865, 0.02145429700613022, -0.020572613924741745, -0.006381708662956953, 0.007823190651834011, -0.03708668425679207, 0.012280590832233429, 0.0151985427364707, 0.01906115561723709, -0.012693442404270172, -0.01789957284927368, 0.02138432115316391, 0.001444981200620532, -0.006525157019495964, 0.02496703527867794, -0.02938944660127163, 0.013987977057695389, 0.03109683468937874, 0.009817474521696568, 0.0007644754950888455, -0.002914453623816371, -0.02409934625029564, -0.008564924821257591, 0.009348643012344837, 0.00396407674998045, 0.029725326225161552, -0.01609422080218792, -0.0021202387288212776, -0.009698517620563507, -0.01578633114695549, -0.021972110494971275, 0.0033605434000492096, -0.009901444427669048, -0.015926280990242958, -0.021118417382240295, -0.0018595822621136904, -0.014792688190937042, -0.02006879448890686, 0.009467600844800472, -0.03291618078947067, 0.02660444751381874, -0.011944711208343506, -0.0012411792995408177, 0.01742374338209629, -0.014554774388670921, 0.008445966988801956, -0.015170552767813206, 0.0029371953569352627, -0.0005493027856573462, -0.03162864223122597, -0.01158084161579609, 0.005853398237377405, -0.0017756124725565314, 0.021258367225527763, 0.04341241344809532, 0.011895728297531605, -0.020936481654644012, 0.010426255874335766, 0.0011913222260773182, 0.006273247301578522, -0.0003804883745033294, 0.0076482538133859634, -0.021202387288212776, 0.027500126510858536, 0.037926383316516876, 0.010405263863503933, -0.001644409610889852, -0.005185138434171677, -0.015534422360360622, 0.02209806628525257, 0.009306658059358597, -0.0009630292188376188, -0.03213246166706085, 0.009677525609731674, 0.00797013845294714, -0.01626216061413288, -0.009194698184728622, -0.007200414780527353, -0.030760955065488815, -0.03442763909697533, 0.03244035318493843, -0.005972355604171753, 0.017129849642515182, -0.01570236124098301, 0.023385602980852127, -0.009775489568710327, 0.033643919974565506, 0.012084661051630974, -0.003113881917670369, -0.0062522548250854015, -0.0299492459744215, -0.008494949899613857, 0.009145716205239296, 0.009089736267924309, 0.004768787883222103, 0.009194698184728622, 0.006948505062609911, 0.026184597983956337, 0.002003030851483345, 0.013659095391631126, -0.006619622930884361, -0.018473366275429726, 0.00847395695745945, -0.03577115759253502, -0.023455578833818436, -0.00559799000620842, 0.008942789398133755, -0.023315628990530968, 0.00960055273026228, 0.00971950963139534, 0.002889962401241064, 0.010370276868343353, -0.007914158515632153, -0.019467009231448174, 0.0017318781465291977, 0.008040113374590874, 0.015058592893183231, -0.006749076768755913, 0.02085251174867153, 0.018305426463484764, 0.0029826790560036898, -0.05141753703355789, -0.00847395695745945, 0.016164196655154228, -0.016206180676817894, 0.030537035316228867, 0.02969733625650406, -0.013778053224086761, -0.022224020212888718, 0.018165476620197296, -0.0055769975297153, -0.001367134158499539, -0.029025578871369362, 0.0004662075953092426, 0.005898881703615189, 0.019411031156778336, -0.0013268985785543919, -0.032552313059568405, -0.007389346603304148, 0.020040804520249367, -0.008389987051486969, 0.004964717198163271, -0.014512789435684681, -0.010258316993713379, 0.0018123493064194918, 0.022280000150203705, -0.009005766361951828, 0.016989899799227715, -0.022447939962148666, -0.01497462298721075, -0.009789484553039074, -0.025778744369745255, -0.017591683194041252, 0.015912286937236786, -0.017283793538808823, 0.016821959987282753, -0.004481890704482794, 0.013945992104709148, 0.0042264824733138084, -0.0030876414384692907, -0.027010301128029823, 0.005748435854911804, 0.0035442274529486895, 0.016066230833530426, -0.024715125560760498, 0.0070814574137330055, 0.0323563814163208, -0.001760742743499577, -0.01244153268635273, -0.0018245948012918234, -0.030313115566968918, -0.03087291494011879, -0.016150200739502907, -0.006913517601788044, 0.0037471544928848743, -0.004306953400373459, -0.008816834539175034, -0.002998423296958208, -0.00839698500931263, -0.00839698500931263, -0.02628256380558014, 0.004093530122190714, 0.02783600427210331, 0.012588479556143284, 0.00359670864418149, 0.0004187558952253312, 0.0012665452668443322, 0.01889321580529213, -0.006350219715386629, -0.004632336553186178, 0.012392550706863403, 0.00043821765575557947, -0.01796954870223999, 0.02894160896539688, 0.005968856625258923, 0.014708718284964561, -0.031208794564008713, 0.002849726704880595, -0.01904716156423092, -0.02652047760784626, 0.018389396369457245, -0.03132075443863869, -0.02255989983677864, 0.0010951068252325058, -0.004037550184875727, -0.018235452473163605, 0.0202227383852005, -0.0018263441743329167, 0.010195339098572731, 0.01740974932909012, 0.02512097917497158, -0.005772927310317755, -0.016765980049967766, 0.02535889483988285, -0.00015842748689465225, -0.03017316572368145, 0.010230327025055885, -0.000830514298286289, -0.001431860844604671, -0.009894447401165962, 0.014638743363320827, 0.008445966988801956, -0.028101909905672073, 0.0017616174882277846, -0.004219484981149435, -0.0012385552981868386, -0.005993348080664873, -0.015156557783484459, -0.009516582824289799, 0.000622776395175606, -0.00340252835303545, 0.02534489892423153, 0.00929966103285551, -0.011615829542279243, 0.00717242481186986, 0.012308580800890923, 0.008361997082829475, 0.01411393191665411, -0.0062872422859072685, -0.03621899336576462, -0.0013540138024836779, 0.011503869667649269, -0.01764766313135624, -0.029809296131134033, 0.005255112890154123, 0.02184615656733513, 0.010286306962370872, -0.04061341658234596, -0.023035729303956032, 0.02285379357635975, -0.04293658211827278, 0.003262578509747982, -0.02348356880247593, 0.022140050306916237, 0.02269984968006611, 0.0029809295665472746, 0.002146479208022356, 0.009509585797786713, 0.00028077419847249985, 0.01671000011265278, -0.024701131507754326, -0.0027587595395743847, 0.02409934625029564, -0.011140000075101852, -0.0024946043267846107, 0.014484799467027187, -0.03719864413142204, -0.017059873789548874, 0.024925051257014275, 0.012336570769548416, 0.03638693317770958, 0.013561130501329899, -0.0151985427364707, -0.016528066247701645, 0.014099936932325363, 0.006486671045422554, -0.0012280590599402785, 0.0111539950594306, 0.02908155880868435, -0.03160065412521362, 0.0087468596175313, -0.00680155772715807, -0.013155276887118816, -0.008998769335448742, 0.0016592792235314846, -0.016933919861912727, -0.014680728316307068, -0.01578633114695549, -0.026380527764558792, 0.009838467463850975, 0.019425025209784508, -0.01524052768945694, 0.005507022608071566, -0.013330213725566864, -0.011244961991906166, 0.035267338156700134, -0.0013662594137713313, -0.011573844589293003, -0.02162223681807518, 0.016779974102973938, -0.02986527606844902, -0.011965703219175339, -0.004104026593267918, -0.009236683137714863, 0.011755779385566711, 0.0032013505697250366, 0.03182457387447357, -0.007732223719358444, 0.008858819492161274, -0.0006463929312303662, 0.016066230833530426, -0.0218601506203413, 0.014834673143923283, -0.01696190983057022, -0.02682836726307869, 0.019578969106078148, -0.01601025089621544, 0.0047407979145646095, -0.002240945352241397, -0.030033215880393982, 0.01407194696366787, -0.020642587915062904, -0.04237678274512291, 0.020418668165802956, -0.003084142692387104, 0.0007238026009872556, 0.0023686494678258896, -0.010601193644106388, 0.008739861659705639, 0.01899118162691593, 0.20443859696388245, 0.010650175623595715, 0.03971773758530617, 0.04072537645697594, -0.003122628666460514, 0.022503919899463654, 0.017591683194041252, -0.00688552763313055, -0.015730351209640503, 0.003435766324400902, -0.021104421466588974, 0.012462525628507137, -0.024281281977891922, -0.004139014054089785, -0.00041591314948163927, -0.008837826550006866, -0.03546326607465744, -0.037758443504571915, -0.022335980087518692, 0.019774898886680603, 0.024043366312980652, -0.005867393221706152, -0.018851231783628464, -0.02131434716284275, 0.021832160651683807, -0.003995565231889486, -0.007123442366719246, 0.005646972451359034, 0.013414183631539345, 0.01836140640079975, -0.013092298991978168, -0.023049723356962204, 0.009082738310098648, -0.0015560663305222988, 0.005447544157505035, -0.023147689178586006, -0.0014082443667575717, -0.023455578833818436, 0.014239886775612831, 0.039157938212156296, 0.016304146498441696, 0.011419899761676788, -0.0007238026009872556, -0.020390678197145462, -0.0021324842236936092, 0.015016607940196991, -0.021342337131500244, -0.017605679109692574, -0.004471394699066877, 0.0328042209148407, -0.024169322103261948, 0.00020084975403733552, 0.003264327999204397, 0.01282639428973198, 0.0036736808251589537, 0.015310502611100674, 0.013064309023320675, 0.005611984990537167, -0.002854974940419197, -0.00302466400898993, -0.014722713269293308, 0.015464447438716888, -0.0008322636713273823, 0.019005175679922104, -0.014568768441677094, 0.010643178597092628, -0.001215813448652625, 0.022965753450989723, -0.004964717198163271, 0.006021338049322367, -0.0250370092689991, -0.00870487466454506, -0.0005064431461505592, 0.005006702151149511, -0.005706450901925564, -0.020992461591959, 0.002706278348341584, 0.025806734338402748, 0.004835263825953007, 0.010713153518736362, 0.00517114344984293, -0.0005195634439587593, -0.01135692186653614, -0.025960678234696388, 0.02474311552941799, -0.03971773758530617, -0.002391391433775425, -0.014239886775612831, -0.0003273512120358646, 0.0017598681151866913, 0.029725326225161552, -0.01696190983057022, -0.0038276256527751684, -0.01594027690589428, 0.008669886738061905, 0.008599911816418171, 0.0014274874702095985, 0.024673141539096832, -0.011286946944892406, 0.019704924896359444, -0.008690879680216312, 0.01789957284927368, 0.019173115491867065, 0.0027325188275426626, 0.000407166313380003, -0.019550979137420654, -0.0018001036951318383, 0.0002193274995079264, 0.02355354279279709, -0.018949195742607117, 0.0029424435924738646, -0.030369095504283905, 0.003750653238967061, -0.007536293938755989, -0.0034742525313049555, 0.01843138225376606, 0.007480314001441002, -0.016849949955940247, 0.01158084161579609, -0.0009534076671116054, 0.027738040313124657, -0.03789839148521423, -0.013799045234918594, 0.005409057717770338, 0.009278668090701103, -0.0027762530371546745, 0.0012551742838695645, -0.017227813601493835, 0.009516582824289799, -0.029529396444559097, -0.006724585313349962, -0.012077663093805313, 0.018767261877655983, -0.016388116404414177, 0.0031156314071267843, 0.01489065308123827, 0.010223329067230225, 0.005234120413661003, -0.027654070407152176, -0.004401419777423143, -0.009425615891814232, 0.009656532667577267, 0.031936533749103546, -0.00017034508346114308, 0.013666093349456787, -0.026156608015298843, 0.011811758391559124, 0.004055044148117304, -0.021902136504650116, 0.0025768247433006763, -0.0234975628554821, -0.010412260890007019, 0.010636180639266968, -0.029501406475901604, 0.014764698222279549, -0.011000050231814384, -0.030145175755023956, -0.037366583943367004, -0.006819051690399647, 0.007445326540619135, -0.029361456632614136, -0.020348694175481796, 0.030537035316228867, -0.01602424681186676, -0.01291736215353012, -0.002296925289556384, -0.1840619146823883, 0.03428768739104271, 0.013925000093877316, 0.0008860568632371724, 0.012294585816562176, 0.009467600844800472, 0.008026118390262127, 0.005279604345560074, -0.00032910058507695794, -0.01356812845915556, -0.0021797174122184515, 0.0035179867409169674, -0.017521709203720093, -0.0033990296069532633, 0.003535480471327901, 0.009383630938827991, -0.02698231115937233, 0.005961859133094549, 0.0034410145599395037, 0.01865530200302601, 0.028885629028081894, 0.005472035147249699, 0.009978417307138443, -0.0111539950594306, 0.022755829617381096, 0.017927562817931175, -0.015002612955868244, 0.01084610540419817, -0.021258367225527763, -0.0017301287734881043, -0.01866929605603218, 0.011126005090773106, 0.019425025209784508, 0.01952298916876316, -0.004905238747596741, 0.020656583830714226, -0.02029271423816681, -0.0104962307959795, 0.009537575766444206, 0.03375587984919548, 0.01368708536028862, 0.010020402260124683, 0.013938995078206062, -0.012924359180033207, -3.796683449763805e-05, 0.014764698222279549, -0.0017616174882277846, -0.009817474521696568, 0.005395062733441591, -0.0038591143675148487, 0.01726979948580265, -0.008033115416765213, -0.0015359484823420644, -0.0063537186942994595, -0.005947864148765802, 0.026618441566824913, -0.011447889730334282, 0.002699280856177211, 0.009747499600052834, -0.01402996201068163, -0.011510866694152355, -0.0288576390594244, 0.0025663285050541162, 0.0007395469583570957, -0.016891933977603912, -0.017017889767885208, -0.02085251174867153, -0.0005960984854027629, -0.023539548739790916, -0.0019208103185519576, -0.005528015084564686, -0.03862613067030907, 0.021958116441965103, -0.015226532705128193, 0.021356331184506416, -0.02215404622256756, 0.012819397263228893, 0.01438683457672596, 0.0028059924952685833, -0.00971950963139534, -0.01182575337588787, 0.0288576390594244, 0.008767851628363132, 0.021202387288212776, -0.007007983513176441, 0.004873749800026417, 0.011615829542279243, -0.0074733165092766285, 0.01419790182262659, -0.01757768914103508, 0.01462474837899208, -0.026114623993635178, 0.004999704658985138, -0.005839403253048658, 0.012301582843065262, 0.0137710552662611, -0.0035144879948347807, 0.005916375666856766, 0.0011222220491617918, 0.003437515813857317, -0.0009018012206070125, 0.011342926882207394, -0.02535889483988285, 0.024043366312980652, 0.019341055303812027, 0.004275464918464422, 0.005160646978765726, 0.01664002425968647, 0.04330045357346535, -0.00200128136202693, -0.029193516820669174, 0.016388116404414177, 0.020264724269509315, 0.02302173338830471, 0.0023878926876932383, 0.015646381303668022, -0.008494949899613857, -0.003841620637103915, 0.004257970955222845, -0.018067512661218643, 0.06135397031903267, 0.01974690891802311, -0.019173115491867065, -0.01251850463449955, -0.00559799000620842, -0.03008919581770897, -0.09107929468154907, -0.005849899724125862, 0.012084661051630974, 0.03244035318493843, -0.010244322009384632, 0.012504509650170803, 0.012252600863575935, 0.012581482529640198, 0.0035599716939032078, 0.041956935077905655, -0.006542650982737541, -0.015758341178297997, -0.006339723709970713, -0.009712512604892254, 0.04061341658234596, -0.011216972023248672, 0.004789780359715223, -0.02309170924127102, -0.020642587915062904, 0.022895779460668564, 4.523766256170347e-05, -0.022224020212888718, -0.0048492588102817535, -0.0047407979145646095, 0.002491105580702424, 0.011601834557950497, -0.028969598934054375, 0.04758291319012642, 0.010594195686280727, 0.0025890704710036516, 0.013372198678553104, 0.008243040181696415, 0.0008392611634917557, -0.03481949865818024, -0.02411334216594696, -0.010622185654938221, -0.02083851769566536, -0.010062387213110924, 0.026646431535482407, -0.014169911853969097, 0.01337919570505619, 0.0178156029433012, -0.0022444440983235836, -0.012378555722534657, 0.012287587858736515, 0.007466319017112255, 0.00929266307502985, -0.017941558733582497, 0.009110728278756142, -0.016164196655154228, -0.016849949955940247, -0.014526784420013428, -0.029361456632614136, 0.004163505043834448, 0.01119598001241684, 0.015744347125291824, -0.02100645750761032, 0.003572217421606183, -0.021440301090478897, -0.005972355604171753, 0.00517114344984293, -0.0008711871923878789, -0.034791506826877594, 0.02184615656733513, -0.019634949043393135, -0.0012849136255681515, -0.03048105537891388, -0.008508944883942604, -0.0014327355893328786, 0.0013330213259905577, -0.011447889730334282, 0.031152814626693726, -0.010979058220982552, 0.012595477513968945, -0.01330222375690937, 0.008585916832089424, -0.01827743649482727, -0.0073683541268110275, 0.0250370092689991, -0.024771105498075485, -0.028717689216136932, -0.02715025097131729, -0.008445966988801956, -0.0017764871008694172, 0.01411393191665411, 0.015268517658114433, 0.012462525628507137, 0.006689597852528095, 0.00976149458438158, -0.019313065335154533, 0.012966344133019447, 0.012434535659849644, 0.009705515578389168, -0.009194698184728622, 0.0002532215730752796, -0.00039251529960893095, -0.00022271690249908715, -0.003362292656674981, 0.0031751098576933146, -0.005405559204518795, 0.0021779679227620363, 0.006997487507760525, -0.057043518871068954, 0.008459961973130703, -0.0018315922934561968, -0.013204258866608143, -0.00851594191044569, 0.0005510521586984396, -0.003869610605761409, -0.01897718571126461, 0.0009376633097417653, -0.020866507664322853, -0.019788894802331924, -0.006665106862783432, 0.007592273876070976, -0.00182284542825073, -0.03862613067030907, -0.02815788984298706, 0.03579914569854736, -0.004520376678556204, 0.00731237418949604, 0.026926331222057343, -0.0012236855691298842, -0.01757768914103508, 0.016668014228343964, 0.025848718360066414, -0.013890012167394161, 0.02215404622256756, -0.0040830341167747974, 0.019634949043393135, 0.019243091344833374, -0.01733977347612381, 0.0032835709862411022, -0.023511558771133423, -0.026730401441454887, 0.008683881722390652, 0.012126646004617214, -0.038906030356884, 0.006945006083697081, 0.01204967312514782, 0.02216804027557373, 0.014274874702095985, -0.005160646978765726, -0.031152814626693726, -0.02046065405011177, -0.042572714388370514, -0.023539548739790916, -0.004485389683395624, -0.0038486181292682886, 0.0199008546769619, 0.015450452454388142, -0.0113149369135499, 0.006364214699715376, 0.02293776348233223, 0.00827802810817957, -0.0234975628554821, 0.0047757853753864765, -0.048086732625961304, 0.01088809035718441, -0.005157148465514183, -0.01217562798410654, -0.00278849876485765, 0.027318190783262253, 0.004149510059505701, 0.002017025835812092, -0.02675839141011238, 0.011867738328874111, -0.011979698203504086, -0.017675653100013733, 0.0030071702785789967, 0.016514070332050323, -0.015618392266333103, -0.008271030150353909, 0.008222048170864582, -0.00360720488242805, -0.01166481152176857, 0.016919923946261406, 0.0004837013257201761, 0.011000050231814384, 0.004478392191231251, -0.021118417382240295, 0.018445376306772232, 0.024869071319699287, 0.02006879448890686, -0.01819346658885479, 0.008634899742901325, -0.000474517117254436, 0.0076482538133859634, -0.021902136504650116, -0.011202977038919926, 0.013715075328946114, 0.0378144234418869, -0.027891984209418297, 0.012938354164361954, -0.005888385698199272, 0.010643178597092628, 0.005531514063477516, -0.0034165233373641968, 0.0004788905498571694, -0.02286778949201107, -0.0191311314702034, 0.017787612974643707, 0.021580250933766365, -0.003094638930633664, -0.0012193121947348118, -0.023273643106222153, -0.013050314038991928, -0.0040165577083826065, -0.042124874889850616, -0.020250728353857994, -0.042880602180957794, 0.0012061919551342726, -0.002377396449446678, -0.0012962846085429192, 0.012714434415102005, 0.032776232808828354, -0.007921155542135239, 0.006574139464646578, 0.018011532723903656, -0.03056502528488636, -0.009271671064198017, 0.012980339117348194, 0.00018816681404132396, 0.03305613249540329, -0.01158783957362175, 0.005213127937167883, 0.0625295490026474, -0.004971714690327644, 0.011965703219175339, 0.0006096560973674059, 0.01334420870989561, 0.017087863758206367, -0.0023336620070040226, 0.012896369211375713, -0.02715025097131729, -0.028045929968357086, -0.0207685437053442, -0.009187701158225536, -0.010741143487393856, 0.0028969598934054375, 0.009558567777276039, 0.07546090334653854, 0.017717638984322548, 0.011720791459083557, 0.003631696105003357, -0.006402701139450073, -0.001723131281323731, -0.007627261336892843, 0.011042035184800625, -0.007760213688015938, -2.6978594178217463e-05, 0.02938944660127163, -0.005412556696683168, -0.007697236258536577, -0.00800512544810772, -0.01595427095890045, -0.011377914808690548, -0.007263392210006714, 0.033951807767152786, -0.04839462414383888, 0.016122210770845413, 0.024225302040576935, 0.009446607902646065, 0.022685853764414787, 0.013904007151722908, -0.004499384667724371, -0.028913618996739388, 0.0039115953259170055, 0.003292317967861891, -0.009453605860471725, -0.030117185786366463, -0.008068103343248367, 0.024925051257014275, -0.006728084292262793, -0.0016269158804789186, -0.005563002545386553, -0.0019313065567985177, -0.00490173976868391, -0.007459321524947882, 0.006612625438719988, 0.02425329200923443, -0.002087000524625182, 0.03764648362994194, -0.006878530140966177, -0.018641306087374687, 0.008229045197367668, -0.0021289854776114225, -0.01648608036339283, 0.009474597871303558, -0.013582123443484306]}\n",
      "{'id': 'unit_2', 'category': 'unit', 'content': 'percent', 'categoryVector': [0.014208773151040077, -0.0070002274587750435, 0.000839560350868851, 0.0090582724660635, -0.005369594786316156, 0.020573269575834274, 0.0036958614364266396, -0.032698854804039, -0.010595520958304405, -0.010875673964619637, -0.001234647585079074, 0.022426588460803032, -0.009834080003201962, 0.007671875413507223, -0.010868490673601627, 0.00255549605935812, 0.04074426740407944, 0.02771357260644436, 0.0163494274020195, -0.01744130440056324, 0.0010577562497928739, 0.002738672774285078, -0.009453359991312027, -0.009453359991312027, -0.010322551243007183, -0.0007690732018090785, 0.003911363426595926, -0.011486263014376163, 0.019093487411737442, -0.01384960301220417, 0.017412571236491203, -0.038014575839042664, -0.03071623668074608, -0.039250120520591736, -0.011493446305394173, 0.006529714446514845, 0.008411766029894352, 0.002866178285330534, 0.008304014801979065, -0.024825844913721085, 0.03338846191763878, 0.02669353038072586, 0.011277944780886173, 0.008957704529166222, -0.04014086350798607, 0.0039005884900689125, -0.012707442045211792, 6.958923040656373e-05, -0.026822831481695175, -0.007829910144209862, 0.006788316648453474, 0.027095800265669823, -0.008440500125288963, -0.03330226242542267, -0.008145980536937714, -0.016133924946188927, -0.002110125031322241, 0.019797461107373238, 0.0056281969882547855, -0.01610519178211689, -0.009036722593009472, -0.0073091136291623116, -0.0065333060920238495, 0.030601302161812782, 0.0004590644093696028, 0.0051325419917702675, 0.0062028695829212666, 0.0013819073792546988, -0.011694582179188728, -0.014065105468034744, 0.045025575906038284, 0.02193811535835266, 0.02804400958120823, 0.0017895655473694205, 0.013296481221914291, -0.012779275886714458, -0.004281308967620134, -0.01076792273670435, 0.008138797245919704, 0.019337723031640053, -0.009949014522135258, -0.001552513218484819, -0.005700031295418739, 0.007786809932440519, 0.04264068603515625, 0.002808711025863886, 0.010207617655396461, 0.014510476030409336, -0.000712952867615968, -0.0011673031840473413, -0.007873010821640491, 0.008569801226258278, 0.003593497909605503, 0.018001610413193703, -0.009072639048099518, -0.009546743705868721, -0.014208773151040077, 0.03631928935647011, 0.00525466026738286, -0.03847431391477585, 0.001452843425795436, 0.036003220826387405, -0.028000909835100174, -0.016651131212711334, 0.0012597894528880715, -0.0004943080130033195, 0.003512684488669038, -0.0004354938864707947, 0.006098710000514984, 0.013239013962447643, -0.013210279867053032, 0.027469336986541748, -0.009438993409276009, -0.02702396549284458, 0.015501786023378372, -0.010150150395929813, -0.007183404173702002, -0.02061636932194233, 0.007837093435227871, -0.016464361920952797, 0.015444318763911724, 0.006310620345175266, 0.018389513716101646, 0.007208546157926321, 0.01953885890543461, -0.005427061580121517, 0.0016952833393588662, 0.0027063474990427494, -0.011967550963163376, 0.014208773151040077, 0.03706636652350426, 0.01214713603258133, 0.030601302161812782, 0.01843261532485485, -0.034078069031238556, 0.042928021401166916, -0.0027135307900607586, 0.017326369881629944, -0.01676606573164463, -0.03881911560893059, 0.010329735465347767, 0.007158262189477682, -0.03390566632151604, -0.030170297250151634, 0.008332748897373676, 0.013727485202252865, -0.0028212820179760456, 0.011974734254181385, 0.008656001649796963, -0.006845783907920122, 0.0005989163182675838, -0.032928723841905594, 0.01734073832631111, -0.007822726853191853, 0.022570256143808365, 0.010394386015832424, -0.006418371573090553, 0.02136344462633133, -0.012326721101999283, -0.005082258488982916, 0.0044142017140984535, -0.0034121170174330473, 0.013907070271670818, -0.02195248380303383, 0.021234141662716866, 0.019639426842331886, -0.0019359274301677942, 0.017312003299593925, -0.0009010682697407901, -0.009539560414850712, -0.018087811768054962, 0.014287790283560753, -0.02178008109331131, 0.014072288759052753, 0.02093243971467018, 0.021349076181650162, 0.004295675549656153, 0.002420807257294655, -0.013964537531137466, -0.02053016796708107, -0.023877635598182678, 0.0038359377067536116, 0.03672156110405922, 0.030974838882684708, -0.003458809107542038, -0.0028123026713728905, 0.008857137523591518, -0.007442006841301918, 0.023575931787490845, -0.01535811834037304, 0.006849376019090414, 0.02001296356320381, 0.01414412260055542, -0.013289297930896282, -0.6813315153121948, 0.0002713979920372367, 0.0003560274781193584, -0.017743008211255074, 0.014668511226773262, 0.01660802960395813, 0.0191796887665987, 0.01603335700929165, -0.019237156957387924, -0.02996916137635708, -0.001151140546426177, 0.009913098067045212, -0.013131262734532356, 0.0008144184248521924, -0.008009495213627815, -0.01568855531513691, -0.009460543282330036, -0.030773703008890152, -0.011831066571176052, 0.012836743146181107, -0.011514997109770775, 0.019122222438454628, -0.012635608203709126, 0.008023862726986408, 0.0033348952420055866, 0.000250521203270182, -0.011292311362922192, 0.01184543315321207, -0.012750542722642422, -0.009568294510245323, -0.008289648219943047, 0.021823180839419365, 0.00054728559916839, -0.020056063309311867, 0.019237156957387924, 0.007330663967877626, -0.010559603571891785, 0.01810217835009098, 0.0013729281490668654, 0.020558902993798256, 0.0037964291404932737, -0.008742203004658222, 0.026334360241889954, 0.002745856298133731, 0.011206110008060932, 0.007693425752222538, 0.013116896152496338, 0.010925957933068275, 0.0021999175660312176, -0.00955392699688673, 0.02544361725449562, -0.0046009705401957035, 0.003516276367008686, 0.02126287668943405, 0.002788956742733717, 0.006486613769084215, -0.009201941080391407, -0.016564929857850075, -0.005980183836072683, -0.015372484922409058, 0.0017329961992800236, -0.0038215708918869495, -0.009604210965335369, 0.009446176700294018, -0.02669353038072586, 0.00035827228566631675, -0.012693075463175774, -0.005682072602212429, 0.012448838911950588, -0.01247038971632719, -0.005509670823812485, 0.0038143876008689404, -0.024093138054013252, -0.00425257533788681, 0.016794798895716667, 0.009194756858050823, 0.030486367642879486, -0.02170824632048607, -0.007262421306222677, 0.007829910144209862, -0.005182825960218906, -0.020544536411762238, -0.01910785399377346, 0.011730498634278774, 0.017915409058332443, -0.022225452587008476, 0.007477923762053251, 0.0038107959553599358, 0.014208773151040077, 0.00938870944082737, 0.012377005070447922, 0.010293818078935146, -0.01709650084376335, -0.011673031374812126, -0.0011125296587124467, 0.021076107397675514, -0.002603983972221613, 0.019639426842331886, -0.00509303342550993, -0.025141913443803787, -0.011572464369237423, -0.0029164620209485292, 0.016881000250577927, 0.002102941507473588, 0.02051580138504505, 0.021076107397675514, -0.029006585478782654, 0.03137711063027382, 0.03585955500602722, -0.021923748776316643, -0.005617422051727772, -0.0009535969002172351, -0.013691567815840244, -0.002061636885628104, 0.01276490930467844, -0.03970985859632492, 0.006450696848332882, 0.005585096776485443, 0.006806275341659784, -0.010107049718499184, 0.009956197813153267, -0.01860501617193222, 0.015487419441342354, -0.013203096576035023, 0.010107049718499184, 0.005825740750879049, -0.006342945620417595, -0.026219425722956657, -0.020228466019034386, 0.007607224863022566, 0.028920384123921394, -0.01886361837387085, 0.022972526028752327, -0.02111920714378357, 0.027397504076361656, 0.01751313917338848, 0.022498421370983124, -0.027268201112747192, 0.048358675092458725, -0.0050858501344919205, -0.02160768024623394, -0.04062933474779129, 0.006720074452459812, -0.00749229034408927, 0.00040249511948786676, -0.01601899042725563, 0.011831066571176052, 0.011127092875540257, -0.013942987658083439, 0.025630386546254158, 0.007176220882683992, 0.008612901903688908, -0.010164516977965832, 0.0038215708918869495, 0.015200083144009113, -0.055369678884744644, -0.010351285338401794, -0.02820204384624958, 0.01364128477871418, -0.023432264104485512, 0.010257900692522526, 0.01886361837387085, -0.016579296439886093, 0.02988296188414097, -0.0031086180824786425, -0.012197420001029968, -0.022412220016121864, 0.02535741589963436, 0.019553225487470627, -0.05304225534200668, 0.016794798895716667, -0.008002311922609806, -0.007987945340573788, 0.008878687396645546, -0.007186995819211006, -0.008706285618245602, 0.006881701294332743, 0.0004429017717484385, 0.010595520958304405, -0.021650779992341995, 0.010451853275299072, 0.031664445996284485, -0.02953815832734108, -0.0005068789469078183, 0.019380824640393257, 0.019567592069506645, 0.01326774712651968, 0.023317329585552216, -0.022800125181674957, 0.0026830013375729322, -0.006655423901975155, -0.013842419721186161, -0.015200083144009113, -0.0015659821219742298, 0.00788737740367651, 0.02971055917441845, -0.005768273491412401, 0.00934560876339674, 0.012197420001029968, 0.013583817519247532, 0.0209468062967062, -0.0203577671200037, 0.017886675894260406, -0.030170297250151634, 0.022067416459321976, -0.02420807257294655, -0.001996986335143447, -0.015027681365609169, 0.016564929857850075, 0.002894911915063858, 0.026765363290905952, -0.010573971085250378, -0.02962435781955719, -0.00875656958669424, 0.023331696167588234, 0.03278505802154541, -0.011816699989140034, 0.010523687116801739, -0.0009562906925566494, -0.011457529850304127, 0.0007358499569818377, 0.0017069564200937748, 0.02744060382246971, -0.00234538153745234, -0.014244690537452698, -0.009812530130147934, 0.024251172319054604, 0.02936575561761856, 0.014093838632106781, -0.013921436853706837, 0.007650325540453196, 0.004981690552085638, 0.011723315343260765, 0.0075138406828045845, 0.006817050278186798, 0.008160347118973732, 0.006360904313623905, -0.011665848083794117, 0.03916391730308533, 0.018389513716101646, 0.014237507246434689, 0.010818206705152988, 0.010940324515104294, -0.022053049877285957, 0.015789121389389038, -0.013526350259780884, 0.04795640707015991, -0.007442006841301918, -0.022326020523905754, 0.00788737740367651, -0.015415585599839687, 0.016737330704927444, -0.028087109327316284, -0.012966044247150421, 0.008972072042524815, 0.00901517178863287, 0.009905913844704628, 0.02226855233311653, 0.018921086564660072, 0.033330995589494705, 0.009762246161699295, 0.006989452056586742, 0.021679513156414032, 0.006044834386557341, 0.008023862726986408, 0.013971720822155476, 0.009762246161699295, -0.02887728437781334, -0.028977852314710617, 0.012915760278701782, -0.007671875413507223, -0.001510310685262084, 0.0014447621069848537, 0.00930969137698412, 0.006321395747363567, -0.020415235310792923, 0.009898730553686619, 0.014711611904203892, 0.015544886700809002, -0.012599690817296505, -0.011881350539624691, -0.027182001620531082, 0.01945265755057335, 0.0063285790383815765, 0.015257550403475761, -0.016133924946188927, -0.03798584267497063, -0.020903706550598145, -0.0021208999678492546, 0.00875656958669424, -6.706381100229919e-05, -0.0065333060920238495, 0.015702921897172928, -0.0005625503254123032, 0.007786809932440519, 0.0019377232529222965, 0.02027156576514244, -0.03246898576617241, -0.013418599031865597, -0.0010757147101685405, -0.019969863817095757, -0.009496460668742657, 0.002745856298133731, -0.01014296617358923, 0.023978203535079956, 0.004970915615558624, -0.02294379286468029, -0.02853248082101345, -0.004780555609613657, -0.021665146574378014, -0.022484054788947105, -0.0055527715012431145, -0.01189571712166071, 0.014330890960991383, 0.015674186870455742, -0.008821220137178898, 0.001256197807379067, -0.0025447208900004625, 0.037928372621536255, -0.0017491589533165097, -0.018892353400588036, -0.01985492929816246, -0.016062092036008835, 0.011522180400788784, 0.010882857255637646, 0.019423924386501312, -0.001636918168514967, 0.014955847524106503, -0.040916670113801956, -0.016536196693778038, -0.024581609293818474, -0.018561916425824165, 0.01217587012797594, -0.02393510192632675, 0.0090582724660635, -0.016507463529706, -0.0047554136253893375, -0.006077159661799669, -0.0005697337328456342, 0.007607224863022566, 0.007003819104284048, -0.009431809186935425, 0.0335608646273613, -0.013835236430168152, 0.012779275886714458, -0.02060200273990631, 0.007136711850762367, 0.014826546423137188, -0.008462049998342991, -0.015746021643280983, 0.004331592470407486, 0.03603195399045944, 0.0035629684571176767, -0.024164970964193344, -0.020487068220973015, 0.007330663967877626, -0.002406440442427993, 0.013231830671429634, -0.0070181856863200665, -0.002704551676288247, 0.012132769450545311, 0.025156281888484955, 0.014998948201537132, -0.011752049438655376, 0.03163571283221245, 0.021550212055444717, 0.008950521238148212, -0.010696088895201683, -0.0019664568826556206, -0.022053049877285957, 0.010451853275299072, 0.009510827250778675, 0.01501331478357315, 0.014812178909778595, 0.024883311241865158, 0.0026973681524395943, -0.033991869539022446, -0.015458685345947742, 0.005771865136921406, -0.0019413148984313011, 0.013863969594240189, 0.01013578288257122, -0.006720074452459812, -0.018490081652998924, -0.016938466578722, -0.027885975316166878, 0.01393580436706543, -0.007873010821640491, -0.01768554002046585, -0.023302963003516197, -0.017829209566116333, -0.022412220016121864, -0.012693075463175774, -0.005520446226000786, -0.00046153372386470437, -0.021564578637480736, -0.006587181705981493, -7.598694355692714e-05, 0.024653442203998566, -0.008943337947130203, 0.03482514247298241, -0.019711261615157127, 0.0013702342985197902, 0.021392177790403366, -0.018791785463690758, 0.013116896152496338, -0.000578264007344842, -0.02093243971467018, 0.004238208290189505, 0.023748334497213364, 0.01961069367825985, -0.01501331478357315, -0.008893053978681564, 0.007266013417392969, 0.020214099436998367, 0.0012957064900547266, 0.03787090629339218, -0.004022706300020218, -0.015803489834070206, 0.01072482205927372, 0.013971720822155476, -0.002787160687148571, -0.018791785463690758, -0.015185716561973095, 0.008735019713640213, -0.014654144644737244, 0.010128599591553211, -0.00211730832234025, 0.019984230399131775, -0.012757726013660431, 0.014524842612445354, 0.029739292338490486, -0.012053752318024635, 0.009467726573348045, 0.023001259192824364, -0.029408857226371765, -0.011119909584522247, -0.008454866707324982, 0.017125235870480537, 0.0002651124959811568, -0.0016809165244922042, 0.01586095616221428, 0.0011430592276155949, -0.02037213370203972, -0.010114233009517193, -0.03715256601572037, 0.02160768024623394, 0.00011650583473965526, -0.008339932188391685, 0.011026524938642979, -0.006486613769084215, 0.005955041851848364, 0.0001887888356577605, 0.007158262189477682, 0.0023238311987370253, 0.015473052859306335, 0.0010694293305277824, -0.020257199183106422, -0.01619139313697815, -0.00938870944082737, -0.024394840002059937, 0.01928025670349598, -0.0034426464699208736, 0.00596222560852766, -0.015329384244978428, -0.004719496704638004, -0.002343585481867194, -0.003803612431511283, 0.0015327588189393282, -0.03594575449824333, -0.01735510490834713, 0.0005374083993956447, 0.016320694237947464, 0.003202002262696624, -0.01501331478357315, -0.0017419755458831787, -0.02027156576514244, -0.019653793424367905, -0.017642440274357796, -0.030141564086079597, -0.028187677264213562, 0.004496810957789421, 0.035600949078798294, 0.015544886700809002, 0.03902025148272514, 0.004974507261067629, 0.0018479307182133198, 0.012104036286473274, 0.0009616782190278172, 0.00847641658037901, 0.00047185985022224486, -0.011464713141322136, -0.02379143424332142, 0.019308989867568016, 0.043359026312828064, 0.02068820409476757, 0.007079244591295719, -0.001460026833228767, -0.017743008211255074, 0.024595975875854492, -0.005229518283158541, -0.014510476030409336, 0.012463206425309181, -0.004051439929753542, 0.005190009251236916, -0.016636764630675316, -0.017656806856393814, 0.0133036645129323, -0.015070782043039799, -0.01761370711028576, 0.03338846191763878, 0.003846712876111269, 0.005768273491412401, -0.014496109448373318, 0.028015276417136192, 0.004583011846989393, 0.011198926717042923, -0.00484161451458931, 0.012398555874824524, -0.01267870794981718, -0.0033438745886087418, -0.0019898030441254377, -0.006702116224914789, 0.021334709599614143, 0.007427639793604612, 0.010933141224086285, 0.0009769429452717304, 0.036089420318603516, -0.02637745998799801, -0.013282113708555698, -0.01994113065302372, -0.03677902743220329, -0.027656106278300285, -0.013619733974337578, -0.02018536627292633, -0.0016979771899059415, -0.008383032865822315, -0.029078420251607895, 0.019380824640393257, 0.0030655176378786564, -0.0002563577436376363, 0.01601899042725563, 0.000505083124153316, -0.010990608483552933, 0.009798163548111916, -0.0072013624012470245, 0.009869997389614582, 0.004676396027207375, 0.014603860676288605, 0.021808814257383347, 0.022167984396219254, -0.015544886700809002, -0.02203868329524994, -0.006278295069932938, 0.026262525469064713, 0.034738942980766296, 0.009518010541796684, 0.007449190132319927, -0.00963294506072998, 0.02603265643119812, -0.012908576987683773, -0.004209474660456181, -0.029509423300623894, 0.008102879859507084, 0.030313964933156967, 0.006450696848332882, -0.013720301911234856, -0.008828403428196907, -0.00797357875853777, 0.00425257533788681, 0.0021963256876915693, 0.0042597586289048195, -0.011859799735248089, 0.015875322744250298, -0.013454515486955643, 0.01164429821074009, -0.009819713421165943, -0.010042399168014526, 0.010013665072619915, -0.02269955724477768, 0.02471091039478779, -0.0019718443509191275, -0.03899151831865311, -0.006597956642508507, 0.017053401097655296, 0.01443864218890667, -0.01685226522386074, 0.0010119620710611343, 0.013971720822155476, 0.008347115479409695, -0.017987243831157684, -0.006023284513503313, -0.018892353400588036, 0.02919335477054119, -0.03522741422057152, 0.00024221540661528707, 0.016047725453972816, -0.001264279126189649, 0.0320667140185833, -0.009288141503930092, -0.016220126301050186, -0.03445160761475563, -0.0197687279433012, -0.024825844913721085, -0.005495304241776466, 0.005682072602212429, -0.018576283007860184, -0.02912151999771595, -0.0010496749309822917, -0.016981568187475204, -0.0032504904083907604, -0.0017428734572604299, 0.02219671942293644, 0.004033481236547232, -0.016248859465122223, 4.200607872917317e-05, 0.00232742284424603, 0.001581246848218143, -0.0002476029621902853, -0.009438993409276009, -0.008347115479409695, 0.023676499724388123, -0.033934399485588074, 0.00958984438329935, -0.02245532162487507, 0.00817471370100975, -0.014172856695950031, 0.010006481781601906, -0.01498458068817854, -0.024423573166131973, 0.014884013682603836, -0.0003670270671136677, -0.026161957532167435, 0.003861079690977931, -0.023590298369526863, 0.029308289289474487, -0.005908349994570017, -0.015142615884542465, -0.0026578595861792564, 0.0019933946896344423, 0.023978203535079956, -0.008598534390330315, 0.002589617157354951, 0.03778470680117607, -0.018389513716101646, 0.001023635035380721, -0.002887728391215205, -0.027584271505475044, -0.013863969594240189, 0.0032792240381240845, -0.02028593234717846, 0.01131386123597622, -0.027311302721500397, -0.020214099436998367, -0.014359625056385994, 0.00295058311894536, 0.005685664247721434, -0.023417897522449493, -0.021176675334572792, -0.010904407128691673, 0.003092455444857478, 0.017498772591352463, -0.0002615207922644913, 0.013389864936470985, 0.01601899042725563, 0.0077652595937252045, 0.0059119416400790215, 0.00677754171192646, -0.024969512596726418, -0.00719777075573802, 0.00967604573816061, -0.005915533285588026, -0.026722263544797897, -0.008900237269699574, 0.007700609043240547, 0.03902025148272514, 0.008656001649796963, -0.03669282793998718, -0.007578491233289242, 0.0017258127918466926, -0.024308638647198677, -0.005671297665685415, -0.006030467804521322, 0.02561601810157299, 0.007528207264840603, 0.003358241403475404, -0.011629931628704071, 0.013734668493270874, 0.005739539861679077, 0.009510827250778675, -0.047094397246837616, -0.013476066291332245, -0.0008247445803135633, -0.009704778902232647, 0.013001961633563042, -0.018561916425824165, -0.029911695048213005, -0.006324987392872572, 0.033417195081710815, 0.019826196134090424, 0.01180233247578144, 0.0032181651331484318, -0.010444669984281063, 0.005868840962648392, 0.0019718443509191275, 0.008533883839845657, 0.0039185467176139355, -0.0038503045216202736, 0.02228291891515255, -0.015128249302506447, -0.01410102192312479, 0.0037641036324203014, -0.017671173438429832, -0.01380650233477354, -0.003555784933269024, 0.002866178285330534, -0.0133036645129323, 0.015832222998142242, -0.016622396185994148, -0.009280958212912083, 0.0010954691097140312, -0.021923748776316643, 0.004363918211311102, 0.0058041904121637344, -0.005308535415679216, 0.03853178024291992, 0.02228291891515255, -0.011213294230401516, -0.02887728437781334, 0.008914604783058167, -0.038100775331258774, -0.026061389595270157, 0.010329735465347767, -0.01951012574136257, 0.004565053153783083, -0.00989154726266861, -0.0052115595899522305, -0.011946001090109348, 0.0015641861828044057, 0.006393229588866234, 0.0037102282512933016, 0.0163494274020195, 0.03143457695841789, 0.019926762208342552, -0.02337479777634144, 0.006044834386557341, -0.01643562875688076, -0.016995934769511223, 0.017886675894260406, -0.022800125181674957, 0.015243183821439743, -0.022915059700608253, -0.023001259192824364, -0.002702755853533745, -0.019625060260295868, -0.0021011456847190857, -0.013095345348119736, 0.009747879579663277, -0.008785302750766277, 0.006554856430739164, 0.17320623993873596, -0.014826546423137188, 0.008519517257809639, 0.023561565205454826, 0.0006833213265053928, -0.014618227258324623, 0.013231830671429634, -0.017067767679691315, -0.01209685206413269, 0.018073445186018944, 0.001347786164842546, 0.02287195809185505, 0.0038359377067536116, 0.011744866147637367, 0.007370172534137964, -0.020846238359808922, -0.024825844913721085, -0.0231880284845829, -0.02610449120402336, 0.017153969034552574, 0.004694354720413685, -0.01961069367825985, -0.015975890681147575, 0.014259057119488716, 0.03169317916035652, -0.0015902260784059763, -0.0030080503784120083, 0.015156982466578484, 0.011026524938642979, 0.02178008109331131, -0.016062092036008835, -0.0002630921662785113, -0.020242832601070404, 0.009166023693978786, 0.019898029044270515, -0.008950521238148212, 0.0003641087969299406, 0.013231830671429634, 0.013203096576035023, 0.015372484922409058, 0.020084798336029053, 0.005154092330485582, -0.023805800825357437, -0.026837198063731194, 0.018059078603982925, 0.023992570117115974, -0.014524842612445354, -0.010272268205881119, -0.005146909039467573, 0.022412220016121864, -0.021147942170500755, 0.009230674244463444, 0.010897223837673664, 0.03252645209431648, 0.020487068220973015, 0.013871152885258198, 0.025730952620506287, -0.02351846545934677, 0.015113881789147854, -0.00851233396679163, -0.03899151831865311, -0.010645804926753044, -0.01853318326175213, 0.00037174116005189717, -0.009288141503930092, 0.016047725453972816, -0.012693075463175774, -0.01081102341413498, 0.009223490953445435, 0.00450399424880743, -0.025730952620506287, -0.006698524113744497, -0.012527856975793839, 0.012836743146181107, -0.00436032610014081, -0.015128249302506447, 0.013835236430168152, 0.03887658193707466, 0.005534812808036804, -0.005409103352576494, 0.00013356641284190118, -0.012132769450545311, -0.02327422983944416, 0.0028769534546881914, 0.0001707180927041918, -0.0197687279433012, 0.018145278096199036, 0.019668160006403923, 0.00850515067577362, 0.0008593146922066808, 0.012082485482096672, -0.028819818049669266, -0.027555538341403008, -0.01389988698065281, 0.013526350259780884, 0.016866633668541908, 0.005021199584007263, 0.004435752052813768, -0.010502137243747711, -0.0020239241421222687, -0.0027512437663972378, 0.05180671066045761, 0.02677972987294197, 0.014309341087937355, -0.018418248742818832, -0.0052402932196855545, -0.016823532059788704, 0.00047590050962753594, -0.002462111646309495, -0.0058616576716303825, -0.0029398081824183464, -0.024164970964193344, 0.005434245336800814, 0.022584622725844383, -0.0020239241421222687, 0.013375498354434967, 0.010286634787917137, -0.013698752038180828, 0.007772443350404501, 0.0070289610885083675, 0.017039034515619278, -0.015587986446917057, -0.007822726853191853, 0.0018964186310768127, -0.006439921911805868, -0.005355227738618851, -0.012664341367781162, -0.004949365276843309, 0.00663387356325984, -0.009855630807578564, 0.004119682125747204, -0.031003572046756744, 0.015789121389389038, -0.009259408339858055, -0.0058149658143520355, 0.009668861515820026, -0.00667697424069047, -0.013138446025550365, -0.018504448235034943, 0.020300300791859627, -0.01017888356000185, -0.024006936699151993, 0.004087356850504875, 0.002278934931382537, -0.003415708662942052, -0.03749736770987511, 0.03054383397102356, 0.02511318027973175, -0.01331084780395031, -0.011292311362922192, -0.0006384250591509044, 0.0018515223637223244, -0.010394386015832424, -0.004565053153783083, 0.018576283007860184, 0.001560594537295401, -0.03660662844777107, -0.0460599884390831, -0.0013468882534652948, 0.0008633553516119719, -0.02953815832734108, -0.0019143772078678012, 0.03379073366522789, -0.011371328495442867, 0.007413273211568594, 0.00199159886687994, -0.18987174332141876, 0.0038574880454689264, 0.02278575859963894, -0.0276273712515831, 0.022383486852049828, -0.006755991373211145, 0.013483249582350254, 0.003889813320711255, -0.025256847962737083, -0.008124429732561111, 0.02996916137635708, -0.006655423901975155, -0.03913518413901329, -0.011083992198109627, -0.001996986335143447, -0.0022915059234946966, -0.017470039427280426, 0.005682072602212429, 0.02060200273990631, -0.0043854680843651295, 0.039594922214746475, -0.01560235396027565, -0.009920281358063221, -0.018921086564660072, 0.014517659321427345, -0.010013665072619915, 0.007449190132319927, 0.02394946850836277, -0.003078088629990816, -0.012132769450545311, -0.01335394848138094, -0.022886324673891068, 0.011974734254181385, -0.010796655900776386, 0.0023543606512248516, 0.026061389595270157, -0.005886799655854702, -0.0015632882714271545, 0.005789823830127716, -0.00621364451944828, 0.0009082516771741211, 0.022915059700608253, -0.008124429732561111, -0.0035863143857568502, -0.010358468629419804, 0.019308989867568016, -0.0025806378107517958, 0.014287790283560753, 0.02777104079723358, -0.0356871522963047, -0.005538404453545809, -0.02209615148603916, -0.004284900613129139, 0.014970214106142521, 0.010523687116801739, 0.01695283316075802, -0.00260937144048512, 0.017800474539399147, -0.007477923762053251, 0.004694354720413685, -0.017829209566116333, -0.020889339968562126, 0.015142615884542465, 0.0014492517802864313, 0.002612963318824768, -0.027814140543341637, -0.007700609043240547, 0.0031571059953421354, -0.021162308752536774, -0.0012678707716986537, -0.00584369944408536, -0.04197981208562851, 0.016076458618044853, -0.02268519066274166, 0.012614057399332523, 0.011191743426024914, -0.000772664905525744, 0.0016611622413620353, -0.009913098067045212, -0.013296481221914291, -0.009790979325771332, 0.042841821908950806, 0.019093487411737442, -0.0022394261322915554, -0.02068820409476757, 0.006289070472121239, 0.008304014801979065, -0.008727836422622204, -0.0045111775398254395, -0.005247476510703564, 0.0017518526874482632, -0.0187055841088295, -0.007269605062901974, -0.016291961073875427, 0.00029451955924741924, 0.014840913005173206, 0.008612901903688908, -0.005462978966534138, 0.020544536411762238, -0.022986892610788345, -0.017211435362696648, 0.002577046165242791, -0.020472701638936996, 0.016205759719014168, 0.026219425722956657, -0.008311198092997074, -0.0016333265230059624, 0.012118402868509293, 0.03439413756132126, -0.005057116504758596, -0.011507813818752766, -0.00677754171192646, 0.01105525903403759, 0.020989906042814255, 0.004863164387643337, 0.008418949320912361, -0.008160347118973732, 0.000932046677917242, -0.002217876026406884, -0.033244792371988297, 0.05338706076145172, 0.002666838699951768, -0.03721003234386444, 0.014050737954676151, -0.0038862216752022505, -0.013102528639137745, -0.10309621691703796, -0.02093243971467018, 0.009489276446402073, 0.024222439154982567, -8.232854452216998e-05, -0.0015192899154499173, -0.026305625215172768, 0.023245494812726974, 0.01192445121705532, 0.05715116113424301, -0.009898730553686619, -0.02518501505255699, -0.012793642468750477, -0.00777962664142251, 0.017484406009316444, -0.0007398906163871288, -0.007334255613386631, -0.03973859176039696, -0.00909418985247612, 0.04525544494390488, 0.002251997124403715, -0.013188729993999004, 0.013634100556373596, -0.011385695077478886, 0.004037072882056236, 0.005146909039467573, -0.026578595861792564, 0.01844698190689087, 0.02369086630642414, 0.002584229689091444, 0.03631928935647011, -0.010358468629419804, 0.017829209566116333, -0.04002592712640762, -0.00682064238935709, -0.009625761769711971, -0.028733616694808006, -0.015329384244978428, 0.024409206584095955, 0.0006280989036895335, 0.021837549284100533, 0.015372484922409058, -0.0012121994514018297, -0.021076107397675514, 0.017671173438429832, -0.004256166983395815, -0.014553576707839966, 0.03511247783899307, -0.009862814098596573, -0.030227763578295708, -0.005556363146752119, 0.008548250421881676, -0.012104036286473274, -0.014352441765367985, -0.005850882735103369, 0.002278934931382537, 0.010372835211455822, 0.01711086928844452, 0.0005598565330728889, 0.004496810957789421, 0.005739539861679077, -0.0005059810355305672, 0.010063949041068554, 0.015185716561973095, 0.002413623733446002, -0.004116090480238199, -0.036836497485637665, 0.012032201513648033, -0.002929033013060689, -0.006317804101854563, 0.026061389595270157, 0.008576984517276287, -0.000889844202902168, 0.017728641629219055, -0.006824234034866095, -0.009625761769711971, -0.027885975316166878, -0.007944844663143158, 0.04913448542356491, -0.03212418407201767, -0.005455795209854841, -0.007571307942271233, 0.028087109327316284, 0.001539044314995408, 0.01438835822045803, 0.016392529010772705, 0.000843601010274142, -0.005014015827327967, 0.0289634857326746, -0.003735370235517621, -0.010107049718499184, 0.002772793872281909, 0.0006038548890501261, -0.017886675894260406, 0.003302569966763258, 0.021593311801552773, -0.03312985971570015, 0.006960718426853418, -0.01105525903403759, 0.00767905917018652, -0.02018536627292633, -0.01501331478357315, -0.06959281861782074, 0.03361833095550537, -0.010071132332086563, -0.0035270513035357, -0.005057116504758596, 0.022397853434085846, -0.011141459457576275, 0.005567138083279133, -0.0010649396572262049, 0.001623449381440878, -0.00652612280100584, 0.018820518627762794, -0.02110484056174755, -0.01751313917338848, -0.005430653691291809, -0.024495407938957214, 0.02953815832734108, 0.003735370235517621, 0.01076073944568634, -0.009474909864366055, -0.0037676955107599497, 0.006432738155126572, 0.02235475368797779, 0.014596677385270596, -0.02261335588991642, 0.0037030447274446487, 0.014201589860022068, -0.006181319244205952, 0.024639075621962547, -0.009367158636450768, 0.005682072602212429, -0.012800825759768486, -0.01817401312291622, 0.026636062189936638, 0.0118885338306427, -0.023662133142352104, 0.001411538920365274, 0.023259863257408142, -0.003663536161184311, -0.0008377645281143486, -0.015386851504445076, -0.02077440544962883, -0.01447455957531929, -0.010150150395929813, -0.02244095504283905, -0.016148291528224945, -0.02527121640741825, 0.04215221479535103, -0.0028931160923093557, -0.0026632470544427633, 0.014000454917550087, 0.0243661068379879, -0.013763402588665485, -0.0046009705401957035, -0.015487419441342354, -0.031750645488500595, 0.01389988698065281, 0.002652471885085106, -0.014280606992542744, -0.009331242181360722, 0.02511318027973175, 0.010782289318740368, 0.03011282905936241, 0.0038215708918869495, 0.015128249302506447, -0.016320694237947464, 0.00465484568849206, -0.0021855507511645555, 0.005279801785945892, -0.01986929588019848, -0.0163494274020195, -0.016665497794747353, -0.0049601406790316105, -0.01439554151147604, 0.01886361837387085, -0.0041807410307228565, 0.0021496335975825787, -0.01302351150661707, 0.00425257533788681, -0.0009037620038725436, 0.012039384804666042, -0.004320817533880472, -0.02429427206516266, 0.023575931787490845, 0.04140514135360718, 0.016306327655911446, -0.013138446025550365, 0.009949014522135258, 0.0015228816773742437, 0.02544361725449562, -0.0415775440633297, 0.021909382194280624, 0.0055024875327944756, 0.014575126580893993, 0.0038646713364869356, -0.007980762049555779, -0.0018820518162101507, -2.9098398954374716e-05, 0.010739189572632313, 0.0076215919107198715, 0.014970214106142521, -0.012556590139865875, 0.005143317393958569, -0.011234844103455544, 0.00550607917830348, 0.011917266994714737, -0.030888637527823448, -0.019998596981167793, -0.01586095616221428, 0.015487419441342354, 0.01355508342385292, 0.0045219529420137405, 0.020415235310792923, 0.003861079690977931, -0.01660802960395813, 0.014826546423137188, 0.004679987672716379, -0.01439554151147604, -0.02728256955742836, 0.0011816699989140034, 0.014503292739391327, 0.03930758684873581, 0.017139602452516556, -0.014941480942070484, 0.013411415740847588, -0.01609082520008087, -0.0064542884938418865, -0.019653793424367905, 8.642533066449687e-05, 0.016837898641824722, 0.004295675549656153, 0.011809516698122025, -0.031578242778778076, -0.016550563275814056, -0.027656106278300285, 0.008332748897373676, -0.0010766127379611135, 0.00984844658523798, 0.002126287668943405, 0.05424906685948372, 0.031578242778778076, -0.007987945340573788, 0.002492641331627965, -0.0006774847861379385, 0.006457880139350891, 0.014496109448373318, -0.0032127774320542812, -0.023547198623418808, -0.016823532059788704, 0.024653442203998566, -0.00963294506072998, -0.018834885209798813, -0.010933141224086285, -0.016665497794747353, -5.581168079515919e-05, -0.018877986818552017, 0.009453359991312027, -0.009862814098596573, -0.0064075966365635395, 0.015042047947645187, 0.00354500999674201, 0.012714625336229801, 0.017484406009316444, -0.01817401312291622, -0.03488260880112648, 0.007291154935956001, 0.010408752597868443, -0.01213995274156332, -0.028489381074905396, 0.014201589860022068, -0.0008103777654469013, -0.042180947959423065, -0.026147590950131416, 0.020228466019034386, -0.014014821499586105, -0.003042171709239483, -0.005761090200394392, 0.00826091505587101, 0.01105525903403759, -0.005613830406218767, 0.039767324924468994, -0.026061389595270157, -0.006080751772969961, -0.0030224171932786703, 0.008648818358778954, -0.02453850768506527, -0.02178008109331131, -0.008814036846160889], 'contentVector': [0.01133678201586008, -0.010195494629442692, -0.002114838920533657, -0.028635922819375992, -0.012920749373733997, 0.0015182571951299906, -0.006097238045185804, -0.03201136365532875, -0.017762571573257446, -0.018675601109862328, 0.011772545985877514, 0.02679602988064289, -0.009718229994177818, 0.00491790845990181, 0.0029102812986820936, 0.022051043808460236, 0.04393608123064041, 0.005028578452765942, 0.00234136707149446, -0.012007719837129116, 0.0021511525847017765, 0.02797190099954605, -0.031983695924282074, -0.009669811464846134, -0.03488878905773163, 0.0062009915709495544, 0.0344461090862751, -0.020985841751098633, 0.01112927496433258, -0.02093050815165043, 0.014649972319602966, -0.020460158586502075, -0.02133168652653694, -0.005900106858462095, -0.031153669580817223, 0.00045997314737178385, -0.020875172689557076, -0.005208417773246765, 0.006598712410777807, -0.03073865734040737, 0.009911902248859406, 0.011973136104643345, 0.017693404108285904, -0.004278095904737711, -0.028774259611964226, -0.0019349998328834772, -0.02116568200290203, -0.007331902626901865, -0.02656085602939129, 0.00485219806432724, 0.005661474075168371, 0.020778335630893707, -0.022562893107533455, -0.008929704315960407, 0.0021701741497963667, -0.013197424821555614, 0.005568095948547125, 0.02687903307378292, 0.004942117724567652, -0.0031126001849770546, -0.006429248955100775, 0.0011689543025568128, -0.013847612775862217, 0.012277478352189064, -0.015521500259637833, -0.01546616479754448, -0.009227130562067032, 0.011094690300524235, 0.006660964339971542, 0.019726969301700592, 0.03320106863975525, 0.034584447741508484, 0.0014361192006617785, -0.0030780157539993525, 0.019090615212917328, 0.0030105761252343655, 0.007615495473146439, 0.004900616127997637, -0.017416726797819138, -0.005744476802647114, 0.019865306094288826, 0.0011922988342121243, -0.0063739134930074215, 0.0030295976903289557, 0.0037247450090944767, -0.011862465180456638, -0.004904074594378471, 0.011288363486528397, -0.010963269509375095, -0.014048202894628048, 0.021483859047293663, 0.017278390005230904, 0.012277478352189064, 0.012429649941623211, -0.0019522920483723283, 0.008646111935377121, -0.018288256600499153, 0.016503699123859406, 0.009842733852565289, -0.04346573352813721, 0.005509302485734224, 0.0077261654660105705, -0.018191419541835785, -0.019311955198645592, -0.021276352927088737, -0.0027183375786989927, -0.0005403819959610701, -0.006121447309851646, 0.018039247021079063, 5.4173295211512595e-05, -0.01765190251171589, 0.01546616479754448, 0.018274422734975815, -0.025938335806131363, 0.004838364198803902, -0.0009208109113387764, -0.0027390881441533566, 0.015286325477063656, -0.005886272992938757, -0.016406862065196037, 0.014442465268075466, 0.01101168803870678, 0.032979730516672134, 0.00890203658491373, 0.018634099513292313, -0.0076708304695785046, -0.004637774545699358, -0.01453930139541626, -0.014968148432672024, 0.022203214466571808, 0.038098227232694626, 0.01323892641812563, 0.011032438836991787, 0.003001929959282279, -0.00644654082134366, 0.014179623685777187, -0.015479998663067818, 0.005364047829061747, -0.042054686695337296, -0.01891077496111393, 0.01631002500653267, 0.03300739824771881, -0.007387238088995218, 0.0027909649070352316, -0.003614074783399701, 0.00915796123445034, 0.020985841751098633, 0.010451420210301876, 0.0006860689609311521, -0.01147511973977089, 0.014331795275211334, -0.007677747402340174, 0.03140267729759216, -0.0030503482557833195, -0.005941607989370823, 0.028525251895189285, -0.005526594817638397, 0.012035387568175793, -0.004343806765973568, 0.014968148432672024, 0.0038181229028850794, 0.0037385786417871714, 0.007380321156233549, -0.0023500132374465466, -0.006536460481584072, 0.01882777363061905, 0.0009597184252925217, 0.017292223870754242, -0.0072419834323227406, -0.010977103374898434, -0.004603189881891012, 0.0037558709736913443, -0.037849217653274536, 0.018177585676312447, 0.0133634302765131, 0.021234851330518723, -0.0025765413884073496, 0.0017352746799588203, -0.01763806864619255, -0.031983695924282074, -0.024748630821704865, 0.017499729990959167, 0.015687504783272743, -0.004769195336848497, -0.008556191809475422, 0.005879356060177088, 0.033062729984521866, 0.0008823357056826353, -0.004250428639352322, -0.008936621248722076, 0.0200728140771389, 0.04512578621506691, 0.01507881935685873, -0.016586700454354286, -0.6750884056091309, -0.0032941685058176517, -0.02899560146033764, 0.028027236461639404, 0.015286325477063656, 0.008265682496130466, 0.021359354257583618, 0.0026941285468637943, -0.031153669580817223, 0.01933962292969227, -0.00163930281996727, 0.0031108709517866373, -0.004827988799661398, -0.023060910403728485, -0.0054747178219258785, -0.02654702216386795, 0.002299865707755089, -0.006861554458737373, -0.017845574766397476, -0.025329649448394775, -0.020972009748220444, 0.01998981088399887, -0.005049329251050949, 0.016614368185400963, -0.0015761861577630043, 0.010921768844127655, 0.023503590375185013, 0.004419892560690641, -0.014345629140734673, -0.005637264810502529, -0.0022099462803453207, 0.0352761372923851, -0.02151152677834034, 0.012332813814282417, 0.037102196365594864, -0.005443592090159655, -0.00924096442759037, 0.020819837227463722, 0.010043323040008545, 0.042165357619524, -0.018371257930994034, -0.01596418023109436, 0.011316031217575073, -0.028718924149870872, -0.0025419569574296474, 0.004973243456333876, 0.011786379851400852, -0.009227130562067032, -0.003600240917876363, -0.0035414474550634623, 0.0005719402688555419, -0.008694530464708805, -0.004336889833211899, 0.01654519885778427, 0.02596600353717804, -0.0063185784965753555, 0.023738764226436615, -0.032564714550971985, 0.0052118762396276, -0.006982599850744009, -0.005682224873453379, -0.0021355897188186646, -0.017914744094014168, -0.023143911734223366, -0.010140160098671913, -0.009593726135790348, -0.020723000168800354, 0.014221124351024628, -0.008749864995479584, -0.011897049844264984, -0.015521500259637833, 0.02023881860077381, -0.004942117724567652, -0.012159891426563263, 0.01381994504481554, -0.0032820641063153744, 0.02502530626952648, -0.016614368185400963, -0.025135977193713188, -0.00025354721583426, 0.006249409634619951, -0.011537371203303337, -0.0007024965598247945, -0.007546326611191034, 0.014317961409687996, -0.006951474118977785, 8.038182386371773e-06, 0.005346755497157574, 0.033560749143362045, -0.0050216615200042725, -0.004260804038494825, 0.036493510007858276, 0.018205253407359123, -0.009877318516373634, -0.00016395188868045807, 0.015023483894765377, 0.0037282034754753113, -0.003183498280122876, 0.01967163383960724, -0.023420587182044983, -0.01925661973655224, -0.019436459988355637, 0.012671741656959057, 0.023752598091959953, 0.022313885390758514, 0.005547345150262117, -0.02603517286479473, 0.022396888583898544, 0.047007180750370026, -0.034418441355228424, 0.0033045439049601555, 0.005277586635202169, 0.006861554458737373, -0.006266701966524124, 0.013771526515483856, -0.03585715591907501, 0.012816996313631535, 0.02160836197435856, 0.011523538269102573, -0.001781099010258913, -0.005391715560108423, 0.01998981088399887, 0.016033349558711052, -0.02746005170047283, -0.008106594905257225, 0.013086754828691483, -0.019311955198645592, -0.0196577999740839, -0.01687720976769924, -0.009220213629305363, 0.004859114997088909, -0.0027166083455085754, 0.02763989008963108, -0.007573993876576424, 0.01950562745332718, 0.025730829685926437, 0.01654519885778427, -0.023130077868700027, -0.010375333949923515, -0.025163643062114716, -0.02059849724173546, 0.003437694162130356, 0.003707452677190304, -0.0149958161637187, -0.015895012766122818, -0.012000802904367447, -0.002752922009676695, 0.01856493204832077, -0.011233028955757618, 0.013653939589858055, 0.014649972319602966, -0.011205361224710941, 5.911778862355277e-05, -0.0032872518058866262, 0.015507666394114494, -0.026533188298344612, 0.012374315410852432, -0.03383742272853851, -0.01075576338917017, -0.01839892566204071, 0.018357424065470695, 0.023213081061840057, 0.0013133443426340818, -0.005512760952115059, 0.0031022250186651945, -0.013259677216410637, -0.0022566351108253, 0.016752706840634346, -0.0018104958580806851, -0.03956460952758789, -0.00312816328369081, -0.004731152206659317, 0.014511633664369583, 0.005806728731840849, 0.019602464511990547, -0.012664824724197388, -0.0047519030049443245, -0.01756889931857586, 0.013349596410989761, -0.025758495554327965, 0.017693404108285904, 0.0006337600061669946, -0.019796136766672134, -0.007719248533248901, 0.03065565414726734, -0.0022030293475836515, 0.006124905776232481, 0.027100373059511185, -0.03187302500009537, -0.00033265913953073323, -0.011731044389307499, 0.026685358956456184, -0.011018604971468449, 0.010105575434863567, -0.00041522952960804105, -0.014400963671505451, 0.0036452007479965687, 0.011903966777026653, -0.0004885052912868559, 0.011890132911503315, 0.035497475415468216, -0.0060246107168495655, 0.026837531477212906, -0.026256512850522995, 0.008556191809475422, -0.03704686090350151, -0.00243647419847548, -0.02225854992866516, 0.004101715516299009, 0.026491686701774597, 0.019782304763793945, -0.04404675215482712, -0.016849542036652565, -0.020723000168800354, 0.007207398768514395, 0.0225075576454401, 0.006259785033762455, -0.0021909247152507305, -0.004585897549986839, 0.005723726004362106, -0.01849576272070408, -0.00995340384542942, 0.01731989160180092, 0.0011153484228998423, 0.00924096442759037, 0.01062434259802103, 0.012713243253529072, 0.02093050815165043, -0.00025073724100366235, -0.009877318516373634, 0.0035829488188028336, -0.007504825014621019, 0.003759329440072179, 0.002159798750653863, 0.010181661695241928, -0.008293350227177143, 0.02613200806081295, -0.006003859918564558, 0.024416619911789894, -0.002273927442729473, 0.009123377501964569, 0.03452911227941513, 0.008881285786628723, -0.017416726797819138, 0.017997747287154198, 0.0069791413843631744, 0.039038922637701035, -0.002476246329024434, 0.006408498156815767, 0.00497670192271471, -0.0196577999740839, 0.02117951586842537, -0.017029382288455963, 0.024250615388154984, 0.022410722449421883, -0.0024174528662115335, 0.015410829335451126, 0.019104449078440666, 0.008687613531947136, 0.016489865258336067, 0.0031419971492141485, 0.005557720549404621, 0.032979730516672134, 0.0032924392726272345, 0.001940187532454729, -0.003399651264771819, -0.029299944639205933, -0.0236972626298666, 0.016033349558711052, -0.010347666218876839, -0.01139211654663086, -0.010153993964195251, 0.007843752391636372, -0.007331902626901865, 0.018592599779367447, -0.013384181074798107, -0.008625361137092113, -0.019782304763793945, 0.015092653222382069, -0.003977211657911539, -0.011316031217575073, -0.002861863002181053, 0.014055119827389717, 0.024485789239406586, -0.013771526515483856, -0.016323858872056007, -0.01054825633764267, -0.02124868519604206, -0.017624234780669212, 0.008749864995479584, -0.0027961526066064835, 0.03060031868517399, 0.021649863570928574, -0.006633297074586153, 0.0006437030388042331, 0.011827881447970867, 0.022230882197618484, -0.019975977018475533, -0.019284287467598915, 0.0033616083674132824, -0.012533403933048248, -0.00550584401935339, -0.02579999715089798, -0.009296299889683723, 0.030683321878314018, 0.017195386812090874, -0.0018104958580806851, -0.02546798624098301, -0.01947796158492565, 0.005198042374104261, 0.0035362597554922104, -0.017264556139707565, 0.005298337433487177, 0.017762571573257446, 0.0089089535176754, -0.00785758625715971, 0.0011680896859616041, -0.02234155312180519, 0.06014927104115486, 0.024900801479816437, 0.00794058945029974, -0.01998981088399887, -0.016102518886327744, -0.006643672473728657, 0.023669594898819923, 0.02704503759741783, 0.013494851067662239, 0.0049905357882380486, 0.005920857191085815, 0.006031527649611235, -0.01512032002210617, -0.012298229150474072, 0.007995923981070518, -0.025661660358309746, 0.030351310968399048, -0.020363323390483856, 0.004084423184394836, -0.008715280331671238, 0.001108431490138173, -0.0020785252563655376, 0.013882197439670563, -0.023226914927363396, -0.004980160389095545, -0.0135709373280406, -0.009559141471982002, -0.012657907791435719, 0.017831740900874138, 0.042884714901447296, -0.0018018496921285987, -0.014677639119327068, 0.01466380525380373, 0.018689434975385666, 0.004205468576401472, -0.012021553702652454, -0.004354181699454784, 0.02360042743384838, 0.010008739307522774, 0.008341768756508827, -0.019809970632195473, 0.003539718221873045, 0.01331501267850399, 0.01466380525380373, 0.026408683508634567, -0.0022497184108942747, 0.015300159342586994, 0.02739088237285614, -0.003256125608459115, -0.008770615793764591, -0.005792894866317511, -0.019713135436177254, -0.011239944957196712, 0.008078927174210548, 0.0008460220415145159, -0.01899377815425396, 0.024430453777313232, -2.2128642740426585e-05, -0.014221124351024628, -0.0005663203191943467, -0.014553135260939598, 0.01679420843720436, 0.01193163450807333, -0.011820964515209198, 0.0030399728566408157, -0.010306165553629398, -0.034833453595638275, -0.0200728140771389, 0.022618228569626808, -0.009517639875411987, -0.008922787383198738, -0.015549167059361935, -0.004665441811084747, -0.01882777363061905, -0.018634099513292313, -0.02142852358520031, 0.0077676670625805855, -0.011177693493664265, -0.023545091971755028, -0.006270160432904959, 0.003432506462559104, 0.008915870450437069, 0.00877753272652626, -0.022659730166196823, -0.0036452007479965687, 0.008943538181483746, -0.007324986159801483, -0.010492920875549316, -0.014456299133598804, -0.039370935410261154, -0.013370347209274769, 0.02311624400317669, -0.0030244099907577038, -0.009130294434726238, -0.03234337642788887, 0.009178712032735348, -0.011973136104643345, -0.014898980036377907, 0.02858058735728264, -0.01395136583596468, 0.0024278282653540373, -0.004336889833211899, 0.010852599516510963, 0.01466380525380373, 0.01570133864879608, -0.010098658502101898, 0.01763806864619255, -0.03126433864235878, -0.011758712120354176, -0.019560962915420532, 0.000734919507522136, -0.0008235421264544129, 0.0002740817435551435, 0.0034584447275847197, -0.013736942782998085, -0.006384288892149925, 0.011115441098809242, -0.009081875905394554, -0.010562090203166008, -0.0031800400465726852, 0.020294154062867165, 0.006671339739114046, 0.01899377815425396, 0.009552224539220333, 0.02805490419268608, -0.01571517251431942, -0.006743967067450285, -0.03320106863975525, 0.019602464511990547, 0.04078197851777077, -0.0024572249967604876, 0.001589155406691134, -0.01238814927637577, 0.005765227600932121, -0.02326841652393341, -0.012941500172019005, -0.0118486313149333, 0.00560959754511714, -0.016503699123859406, -0.020736834034323692, -0.03181769326329231, -0.024250615388154984, -0.01579817570745945, 0.01857876591384411, -0.019132116809487343, -0.011938551440834999, -0.020902840420603752, 0.008023591712117195, -0.005557720549404621, -0.02932761050760746, 0.0038250398356467485, -0.046094153076410294, 0.009234047494828701, 0.009178712032735348, -0.006484583951532841, 0.032813724130392075, 0.0025713536888360977, 0.011986969038844109, -0.013937531970441341, -0.004253887105733156, -0.003731661941856146, -0.04761586710810661, -0.0027840479742735624, -0.0030157638248056173, 0.0257169958204031, 0.014968148432672024, 0.024513456970453262, -0.016669703647494316, 0.010741929523646832, 0.0046170237474143505, -0.010361500084400177, -0.0037627879064530134, 0.011814047582447529, -0.006332412362098694, -0.04158433899283409, 0.011731044389307499, 0.02192653901875019, 0.03627216815948486, 0.005637264810502529, 0.0033062731381505728, -0.00798209011554718, 0.0032976269721984863, 0.0018364341231063008, -0.021553028374910355, -0.03430777043104172, -0.01679420843720436, -2.882600256270962e-06, 0.005433216691017151, -0.013398014940321445, 0.007587827742099762, -0.021497692912817, -0.005958900321274996, 0.033560749143362045, 0.010707344859838486, 0.016365360468626022, -0.0037005359772592783, 0.02562015876173973, -0.006595253944396973, 0.020889006555080414, -0.013999784365296364, 0.002012814860790968, 0.01588117890059948, -9.743087139213458e-05, -0.004136299714446068, -0.005713350605219603, 0.009593726135790348, -0.00478648766875267, 0.021705199033021927, -0.01747206225991249, 0.0012796245282515883, -0.015839677304029465, 0.023918604478240013, -0.014885146170854568, -0.02740471623837948, -0.003828498302027583, -0.012706326320767403, -0.007304235361516476, -0.01100477110594511, -0.006944557186216116, -0.018094582483172417, -0.0020041686948388815, -0.004288471303880215, -0.016323858872056007, 0.018689434975385666, 0.002663002349436283, -0.000501906790304929, 0.004184718243777752, -0.0043472652323544025, 0.02117951586842537, -0.002607667353004217, 0.005519677884876728, 0.032149702310562134, -0.006944557186216116, -0.04468310624361038, 0.0037351204082369804, -0.002560978289693594, 0.0003497352299746126, 0.04565146937966347, 0.011350615881383419, 0.013799194246530533, 0.004665441811084747, -0.004568605683743954, -0.0062390342354774475, -0.009732063859701157, -0.032398711889982224, 0.020958175882697105, 0.005367506295442581, 0.015729006379842758, -0.009185628965497017, 0.010022573173046112, -0.023641929030418396, 0.02882959507405758, 0.013522518798708916, -0.0055542620830237865, 0.0032163537107408047, -0.0005719402688555419, 0.004931742325425148, 0.027294045314192772, 0.01289308164268732, -0.0053951735608279705, -0.010064073838293552, -0.017361393198370934, -0.016171688213944435, -0.02562015876173973, -0.006958390586078167, 0.026823697611689568, -0.015023483894765377, 0.024070775136351585, -0.011067023500800133, 0.015549167059361935, -0.0006415414973162115, 0.0020819837227463722, -0.027266377583146095, 0.01631002500653267, -0.004271179437637329, 0.030046967789530754, -0.019090615212917328, -0.0003644336247816682, 0.010610508732497692, 0.0020145440939813852, 0.02404310740530491, -0.009918819181621075, -0.02740471623837948, -0.04338273033499718, 0.002640522550791502, -0.019090615212917328, 0.023558925837278366, -4.695919415098615e-05, -0.03865157812833786, 0.005706433672457933, -0.027584554627537727, -0.0043783909641206264, -0.021954206749796867, -0.014006701298058033, 0.023973938077688217, 0.009559141471982002, -0.03497179225087166, 0.002498726360499859, -0.01655903272330761, 0.019173618406057358, 0.009386219084262848, -0.0009960320312529802, -0.012111473828554153, 0.034584447741508484, -0.027695225551724434, 0.03303506225347519, -0.011779462918639183, -0.0031575600150972605, -0.028774259611964226, 0.0016375735867768526, -0.01088026724755764, -0.02495613694190979, 0.034141767770051956, -0.012796245515346527, -0.03358841687440872, -0.012450400739908218, -0.02141468971967697, -0.0025367692578583956, 0.009849650785326958, 0.005426299758255482, -0.002538498491048813, 0.0020145440939813852, -0.01797007955610752, -0.01738906092941761, -0.01925661973655224, 0.0425250381231308, -0.009074958972632885, 0.018551098182797432, -0.011959302239120007, -0.0030399728566408157, 0.006543377414345741, -0.012733993120491505, 0.013813028112053871, 0.011689542792737484, -0.015618336386978626, -0.019616298377513885, -0.0067474255338311195, 0.030268307775259018, -0.02747388556599617, -0.018634099513292313, -0.0011698189191520214, -0.011827881447970867, -0.004509811755269766, 0.02311624400317669, 0.0064949593506753445, -0.01679420843720436, 0.028552919626235962, 0.005557720549404621, -0.008016674779355526, 0.01655903272330761, -0.011613457463681698, -0.02604900486767292, -0.004205468576401472, -0.02133168652653694, -0.02343442104756832, -0.01687720976769924, -0.01682187430560589, 0.017416726797819138, 0.0120561383664608, -0.02990862913429737, -0.04241436719894409, 0.015895012766122818, -0.020100479945540428, -0.0015528417425230145, -0.005844771396368742, 0.01198005210608244, -0.007096728775650263, 0.012249811552464962, -0.014912813901901245, 0.015217157080769539, 0.006225200369954109, 0.014774476177990437, -0.024914635345339775, 0.00655029434710741, 0.02141468971967697, -0.0225075576454401, 0.007753833197057247, -0.02335141971707344, -0.012962250970304012, -0.025011472404003143, 0.03065565414726734, 0.004478686023503542, 0.011233028955757618, 0.02286723628640175, 0.004004878923296928, 0.001990334829315543, -0.021539194509387016, 0.0007798792794346809, 0.001995522528886795, 0.015313993208110332, 0.015812009572982788, -0.03181769326329231, 0.0009173524449579418, 0.008639195002615452, 0.029714956879615784, -0.023572759702801704, 0.011364449746906757, 0.0011092961067333817, -0.0076708304695785046, 0.0006073893746361136, -0.0020889006555080414, -0.012284395284950733, -0.005685683339834213, -0.018869275227189064, 0.00807201024144888, 0.002946594962850213, -0.03165168687701225, 0.02477629855275154, 0.014636138454079628, -0.021788202226161957, 0.000262193352682516, 0.026699192821979523, -0.03652117773890495, -0.026934366673231125, 0.013259677216410637, -0.00726965069770813, 0.008998873643577099, -0.019035279750823975, 0.013155924156308174, -0.025813831016421318, 0.04144600033760071, -0.005367506295442581, -0.016835708171129227, 0.022300051525235176, 0.034833453595638275, 0.028635922819375992, -0.019367290660738945, 0.006992975249886513, 0.01251265313476324, 0.000961447658482939, 0.0006743966951034963, -0.03621683269739151, 0.019118282943964005, -0.028124071657657623, -0.0271418746560812, 0.0032249996438622475, -0.018468094989657402, -0.020972009748220444, -0.0017880159430205822, 0.020390989258885384, -0.010831848718225956, 0.022922571748495102, 0.2204550951719284, 0.0006532137631438673, 0.018758604303002357, 0.03779388219118118, 0.015770507976412773, -0.0008602880989201367, 0.020377157256007195, 0.00661600474268198, 0.010492920875549316, -0.010326916351914406, -0.008729114197194576, 0.008376353420317173, -0.016365360468626022, 0.009310132823884487, -0.008666862733662128, -0.007131312973797321, -0.01453930139541626, -0.026325682178139687, -0.009393136017024517, 0.029880963265895844, 0.0046965680085122585, 0.0058655221946537495, -0.004530562553554773, 0.009400052949786186, 0.016157854348421097, -0.009559141471982002, 0.011502787470817566, -0.013633188791573048, 0.03394809365272522, -0.005862063728272915, -0.007214315701276064, -0.007463323883712292, -0.007684664335101843, -0.009095709770917892, -0.00027321712695993483, -0.008971205912530422, -0.006190616171807051, 0.004343806765973568, 0.028110239654779434, 0.02099967561662197, -0.012222143821418285, 0.005457425955682993, 0.01512032002210617, -0.014981982298195362, 0.0012865414610132575, 0.0021580695174634457, 0.002889530500397086, -0.01747206225991249, -0.0006073893746361136, 0.012104556895792484, -0.027764394879341125, 0.004177801311016083, 0.013536352664232254, 0.013889114372432232, -0.012374315410852432, 0.0038907502312213182, 0.03721286356449127, -0.019713135436177254, -0.01992064155638218, 0.029133938252925873, 0.0013487933902069926, 0.023337585851550102, -0.010970186442136765, 0.01747206225991249, -0.013460267335176468, 0.007069061044603586, -0.01310058869421482, -0.01121227815747261, -0.016254689544439316, -0.005498927086591721, -0.006775093264877796, -0.01891077496111393, -0.022908737882971764, 0.005775602534413338, -0.009987988509237766, -0.019630132243037224, 0.01323200948536396, 0.024845467880368233, 0.007947506383061409, 0.00898503977805376, -0.01655903272330761, -0.009261715225875378, -0.013155924156308174, -0.010223162360489368, -0.008431687951087952, -0.021483859047293663, 0.022051043808460236, 0.016946379095315933, 0.003786996938288212, 0.014359462074935436, 0.014719140715897083, -0.010403001680970192, -0.011495870538055897, -0.016185522079467773, 0.01113619189709425, 0.014221124351024628, 0.008369436487555504, 0.030627986416220665, -0.013142090290784836, 0.01808074861764908, -0.005243002437055111, 0.022147880867123604, 0.010589757934212685, 0.016683537513017654, 0.005727184470742941, -3.201763320248574e-05, -0.017167719081044197, 0.011329865083098412, -0.02444428764283657, -0.021456191316246986, 0.005485093221068382, -0.005550803616642952, 0.03295206278562546, -0.004150133579969406, 0.0058101871982216835, 0.0008529389160685241, -0.00045175934792496264, -0.013169757090508938, 0.02076450176537037, -0.004987077321857214, -0.0022825736086815596, -0.023392919450998306, -0.002199570881202817, -0.01369544118642807, 0.0033633376006036997, -0.01998981088399887, -0.027294045314192772, -0.0035258843563497066, 0.012429649941623211, -0.01578434184193611, 0.0102162454277277, -0.01579817570745945, 0.010707344859838486, -0.006422332022339106, -0.012478068470954895, 0.00937238521873951, 0.00685117905959487, -0.0014715682482346892, -0.03237104415893555, 0.010541339404881, -0.012996835634112358, -0.0006298692314885557, 0.002922385698184371, 0.001922895316965878, 0.010119409300386906, -0.018274422734975815, 0.0340864323079586, 0.003776621539145708, -0.01756889931857586, -0.014317961409687996, -0.008383270353078842, 0.0070828949101269245, -0.02225854992866516, -0.005820562597364187, 0.022327719256281853, 0.002087171422317624, -0.042884714901447296, -0.025744661688804626, -0.008466272614896297, 0.014525467529892921, -0.017665736377239227, -0.00762932887300849, 0.027695225551724434, -0.018094582483172417, 0.0007228149333968759, 0.009317049756646156, -0.18094582855701447, 0.018717102706432343, 0.003562198020517826, -0.00857694260776043, 0.008666862733662128, 0.00819651409983635, 0.00949688907712698, -0.00036659513716585934, 0.0033166485372930765, -0.008286433294415474, 0.007912921719253063, 0.0015709985746070743, -0.03203903138637543, -0.02134552039206028, -0.011654959060251713, -0.007615495473146439, -0.01613018661737442, 0.019104449078440666, 0.022645896300673485, 0.015853511169552803, 0.02739088237285614, -0.009559141471982002, 0.012657907791435719, -0.007705414667725563, 0.021968040615320206, 0.008936621248722076, -0.012906915508210659, 0.0118486313149333, 0.013716191984713078, -0.014124288223683834, -0.015134153887629509, 0.019436459988355637, 0.028359247371554375, -0.022659730166196823, -0.01101168803870678, -0.009607559069991112, -0.012962250970304012, -0.02932761050760746, 0.0063185784965753555, 0.0019643965642899275, 0.00531562976539135, 0.0194226261228323, -0.012291312217712402, -0.0035760318860411644, 0.007131312973797321, 0.024803966283798218, -0.003493029158562422, -0.012706326320767403, 0.022037209942936897, 0.008362519554793835, -0.0029638870619237423, -0.006837345194071531, 0.025896834209561348, -0.009005789645016193, 0.00969747919589281, 0.022051043808460236, -0.0009804690489545465, 0.024803966283798218, -0.0031350802164524794, 0.01227056235074997, 0.006062653847038746, -0.018246755003929138, 0.0020629623904824257, -0.008812117390334606, -0.012173725292086601, -0.021954206749796867, -0.019118282943964005, 0.004063672386109829, -0.013321928679943085, -0.0012078618165105581, 0.00982889998704195, -0.005066621582955122, 0.011654959060251713, -0.02361426129937172, 0.011080857366323471, -0.004475227557122707, -0.009406969882547855, 0.028801927343010902, -0.00924096442759037, -0.006951474118977785, -0.008708363398909569, 0.04897157847881317, -0.0022410722449421883, -0.004924825392663479, -0.00040874493424780667, 0.006647130940109491, 0.008231098763644695, -0.010465254075825214, -0.006076487246900797, -0.022922571748495102, 0.01238814927637577, -0.012740910053253174, -0.0013911593705415726, -0.01915978454053402, 0.012146057561039925, 0.029880963265895844, 0.0021355897188186646, -0.01289308164268732, 0.02101350948214531, -0.01621318981051445, -0.008998873643577099, -0.02160836197435856, -0.017070883885025978, 0.012291312217712402, 0.02353125810623169, -0.00785758625715971, 0.0008166252519004047, 0.002832466270774603, -0.005329463165253401, -0.009088792838156223, -0.01763806864619255, -0.002794423373416066, 0.011544288136065006, 0.014276459813117981, -0.01647603139281273, 0.017195386812090874, 0.003776621539145708, -0.00281517393887043, 0.0012683846289291978, -0.006259785033762455, 0.0633033737540245, -0.019547129049897194, 0.008611527271568775, 0.002747734310105443, -0.0029880963265895844, -0.016600534319877625, -0.1326936036348343, -0.0257169958204031, 0.0030676405876874924, 0.03552514314651489, -0.009669811464846134, 0.015272491611540318, -0.0024226405657827854, 0.015659837052226067, 0.011668792925775051, 0.05132332071661949, -0.019519461318850517, -0.018011579290032387, -0.030461981892585754, -0.016102518886327744, 0.01849576272070408, -0.012872330844402313, 0.006591795478016138, -0.03511013090610504, -0.0044579352252185345, 0.0393155999481678, -0.006958390586078167, 0.005426299758255482, 0.0005386527627706528, 0.0032768764067441225, -0.01466380525380373, -0.001190569601021707, -0.02982562780380249, 0.007961339317262173, -0.00035470674629323184, 0.007532492745667696, 0.025398818776011467, -0.030710989609360695, 0.01821908727288246, -0.029189273715019226, -0.006571045145392418, -0.010306165553629398, -0.02445812150835991, -0.0009078417206183076, 0.015991847962141037, -0.0281517393887043, 0.018924608826637268, 0.010098658502101898, 0.005232627037912607, -0.005367506295442581, 0.01487131230533123, 0.006014235317707062, -0.014103537425398827, 0.013328845612704754, -0.018191419541835785, -0.019560962915420532, -0.009815066121518612, 0.0011646312195807695, -0.015161821618676186, -0.009061125107109547, 0.009483055211603642, -0.011426701210439205, 0.0064949593506753445, 0.005467801354825497, -0.0006657505873590708, 0.01112927496433258, 0.0032976269721984863, 0.005032036919146776, -0.009441554546356201, 0.04922058433294296, 0.014179623685777187, -0.006875388324260712, -0.015576834790408611, -0.012533403933048248, 0.008819034323096275, -0.02295023947954178, -0.008051259443163872, 0.012332813814282417, -0.000941561593208462, 0.007477157283574343, -0.027377048507332802, 0.014843644574284554, -0.016863375902175903, -0.02336525171995163, 0.012692492455244064, -0.007518658880144358, -0.021470025181770325, -0.00996032077819109, 0.00592431565746665, 0.0033719835337251425, 0.034584447741508484, 0.0010427210945636034, -0.008763698861002922, -0.013225092552602291, 0.01839892566204071, -0.01415195595473051, -0.01016091089695692, 0.000313205411657691, 0.025827664881944656, -0.01008482463657856, 0.007532492745667696, 0.020570829510688782, -0.01512032002210617, -0.010243913158774376, -0.0035310720559209585, -0.002702774479985237, -0.012325896881520748, -0.0015960722230374813, -0.05126798525452614, 0.025896834209561348, -0.0070586856454610825, -0.00807201024144888, -0.0008624496404081583, 0.007871420122683048, 0.010707344859838486, 0.0064154150895774364, 0.0013237197417765856, -0.008687613531947136, -0.0166282020509243, 0.019464127719402313, -0.006353163160383701, -0.006768176332116127, -0.0178179070353508, -0.029880963265895844, 0.020792169496417046, 0.02394627220928669, 0.0067647178657352924, 0.007020642980933189, 0.0166282020509243, -0.024015439674258232, 0.005284503567963839, 0.017458228394389153, -0.010562090203166008, 0.006287452299147844, -0.005253377370536327, 0.02454112470149994, -0.006429248955100775, -0.006598712410777807, 0.004859114997088909, -0.020031312480568886, 0.015286325477063656, 0.02033565565943718, 0.007311152294278145, -0.038623910397291183, 0.011986969038844109, 0.02614584192633629, 0.015355494804680347, -0.013460267335176468, -0.025274313986301422, -0.03447377681732178, 0.01588117890059948, -0.019270453602075577, -0.01975463703274727, -0.008680696599185467, -0.009420803748071194, 0.004208927042782307, 0.018592599779367447, 0.02461029216647148, 0.04022862762212753, 0.012913832440972328, -3.644876414909959e-05, -0.01882777363061905, -0.02402927353978157, -0.03906659036874771, 0.014193457551300526, 0.02773672714829445, 0.003828498302027583, -0.03607849404215813, 0.03375441953539848, 0.0241122767329216, 0.015936512500047684, -0.020197317004203796, 0.0011006500571966171, -0.013045253232121468, -0.004312680568546057, 0.029770292341709137, 0.01238814927637577, -0.015812009572982788, -0.004565147217363119, 0.006287452299147844, 0.019007612019777298, 0.014207291416823864, -0.010589757934212685, 0.006463833153247833, -0.013418765738606453, -0.0038527073338627815, 0.01029924862086773, 0.010340750217437744, 0.006678256671875715, 0.011288363486528397, -0.038015224039554596, 0.02579999715089798, 0.016323858872056007, 0.009842733852565289, -0.0034013804979622364, -0.006245951168239117, -0.0035310720559209585, -0.0002212323888670653, -0.01715388521552086, 0.015659837052226067, 0.0042815543711185455, -0.006273618899285793, 0.011682625859975815, 0.018800105899572372, 0.01007790770381689, -0.007553243078291416, 0.004554771818220615, 0.01722305454313755, 0.01998981088399887, -0.014940481632947922, -0.0051807500422000885, -0.014525467529892921, 0.011405950412154198, 0.0030503482557833195, -0.029382945969700813, -0.03184535726904869, -0.005578471347689629, 0.011648042127490044, 0.025661660358309746, 0.013508684933185577, 0.007470240816473961, 0.003273417940363288, -0.007919838652014732, -0.005187666974961758, -0.0005922586424276233, 0.0009778751991689205, -0.02781973034143448, 0.025827664881944656, 0.003275147173553705, 0.008957372047007084, 0.04269104078412056, 0.006508793216198683, 0.007311152294278145, 0.010057156905531883, -0.006816594395786524, 0.0015390078769996762, 0.007809168193489313, -0.0015537062427029014, 0.0033270239364355803, 0.01756889931857586, -0.016199355944991112, -0.020183483138680458, 0.0018104958580806851, 0.01101168803870678, 0.021151848137378693, 0.02218938060104847, -0.00544013362377882, 0.05494777113199234, -0.0016808041837066412, 0.00014579505659639835, -0.0073526534251868725, 0.0035310720559209585, 0.012685575522482395, 0.005478176288306713, -0.004350723698735237, -0.01331501267850399, -0.02631184831261635, 0.03167935460805893, -0.01512032002210617, -0.010617425665259361, 0.01193163450807333, -0.015396996401250362, -0.008846702054142952, -0.006536460481584072, 0.0006285723065957427, -0.004250428639352322, 0.0028255493380129337, 0.016351526603102684, -0.016019515693187714, -0.008500857278704643, 0.015313993208110332, -0.01075576338917017, -0.0204324908554554, 0.011329865083098412, 0.013453350402414799, -0.018952276557683945, -0.017928577959537506, 0.0039080423302948475, 0.0031973321456462145, -0.03109833411872387, -0.0002222050679847598, 0.00510812271386385, -0.0200728140771389, -0.02194037288427353, -0.007366487290710211, -0.009441554546356201, 0.022037209942936897, 0.0011672250693663955, 0.044572435319423676, -0.01747206225991249, -0.020487826317548752, -0.0016929086996242404, -0.011350615881383419, -0.00010072720033349469, -0.01578434184193611, -0.022798066958785057]}\n",
      "Files created successfully data/json_unit/\n"
     ]
    }
   ],
   "source": [
    "folder_path = 'data/json_unit/'\n",
    "\n",
    "# Iterate over each row in the dataframe\n",
    "for index, row in df_unique_unit.iterrows():\n",
    "    # Define the name of the file\n",
    "    file_name = os.path.join(folder_path, f'unit_{row[\"id_unique_unit\"]}.json')\n",
    "    \n",
    "    # Build a dictionary with the data\n",
    "    content = {\"id\": f'unit_{row[\"id_unique_unit\"]}', \"category\": \"unit\", \"content\": row[\"unique_unit\"],\n",
    "               \"categoryVector\": generate_embeddings(\"unit\"), \"contentVector\": generate_embeddings(row[\"unique_unit\"])}\n",
    "    \n",
    "    print(content)\n",
    "    \n",
    "    # Write the dictionary as a json file in the data folder\n",
    "    with open(file_name, \"w\") as file:\n",
    "        json.dump(content, file)\n",
    "\n",
    "print('Files created successfully', folder_path)"
   ]
  },
  {
   "cell_type": "markdown",
   "metadata": {},
   "source": [
    "### Variable Name and Definition"
   ]
  },
  {
   "cell_type": "code",
   "execution_count": 47,
   "metadata": {},
   "outputs": [],
   "source": [
    "df_variable_name_def = df[['variable_name', 'definition']].head()"
   ]
  },
  {
   "cell_type": "code",
   "execution_count": 48,
   "metadata": {},
   "outputs": [],
   "source": [
    "df_variable_name_def['id_variable_name_def'] = list(range(1, 6))"
   ]
  },
  {
   "cell_type": "code",
   "execution_count": 49,
   "metadata": {},
   "outputs": [
    {
     "data": {
      "text/html": [
       "<div>\n",
       "<style scoped>\n",
       "    .dataframe tbody tr th:only-of-type {\n",
       "        vertical-align: middle;\n",
       "    }\n",
       "\n",
       "    .dataframe tbody tr th {\n",
       "        vertical-align: top;\n",
       "    }\n",
       "\n",
       "    .dataframe thead th {\n",
       "        text-align: right;\n",
       "    }\n",
       "</style>\n",
       "<table border=\"1\" class=\"dataframe\">\n",
       "  <thead>\n",
       "    <tr style=\"text-align: right;\">\n",
       "      <th></th>\n",
       "      <th>variable_name</th>\n",
       "      <th>definition</th>\n",
       "      <th>id_variable_name_def</th>\n",
       "    </tr>\n",
       "  </thead>\n",
       "  <tbody>\n",
       "    <tr>\n",
       "      <th>0</th>\n",
       "      <td>total assets</td>\n",
       "      <td>the sum of all assets owned by the institution...</td>\n",
       "      <td>1</td>\n",
       "    </tr>\n",
       "    <tr>\n",
       "      <th>1</th>\n",
       "      <td>total deposits</td>\n",
       "      <td>the sum of all deposits including demand depos...</td>\n",
       "      <td>2</td>\n",
       "    </tr>\n",
       "    <tr>\n",
       "      <th>2</th>\n",
       "      <td>% insured (estimated)</td>\n",
       "      <td>percent of deposits estimated to be insured.  ...</td>\n",
       "      <td>3</td>\n",
       "    </tr>\n",
       "    <tr>\n",
       "      <th>3</th>\n",
       "      <td>all real estate loans</td>\n",
       "      <td>loans secured primarily by real estate, whethe...</td>\n",
       "      <td>4</td>\n",
       "    </tr>\n",
       "    <tr>\n",
       "      <th>4</th>\n",
       "      <td>total securities</td>\n",
       "      <td>total securities: the sum of held-to-maturity ...</td>\n",
       "      <td>5</td>\n",
       "    </tr>\n",
       "  </tbody>\n",
       "</table>\n",
       "</div>"
      ],
      "text/plain": [
       "           variable_name                                         definition  \\\n",
       "0           total assets  the sum of all assets owned by the institution...   \n",
       "1         total deposits  the sum of all deposits including demand depos...   \n",
       "2  % insured (estimated)  percent of deposits estimated to be insured.  ...   \n",
       "3  all real estate loans  loans secured primarily by real estate, whethe...   \n",
       "4       total securities  total securities: the sum of held-to-maturity ...   \n",
       "\n",
       "   id_variable_name_def  \n",
       "0                     1  \n",
       "1                     2  \n",
       "2                     3  \n",
       "3                     4  \n",
       "4                     5  "
      ]
     },
     "execution_count": 49,
     "metadata": {},
     "output_type": "execute_result"
    }
   ],
   "source": [
    "df_variable_name_def"
   ]
  },
  {
   "cell_type": "code",
   "execution_count": 50,
   "metadata": {},
   "outputs": [
    {
     "name": "stdout",
     "output_type": "stream",
     "text": [
      "Files created successfully data/json_var_name_def/\n"
     ]
    }
   ],
   "source": [
    "folder_path = 'data/json_var_name_def/'\n",
    "\n",
    "category_vector = generate_embeddings(\"variable_name\")\n",
    "\n",
    "# Iterate over each row in the dataframe\n",
    "for index, row in df_variable_name_def.iterrows():\n",
    "    # Define the name of the file\n",
    "    file_name = os.path.join(folder_path, f'var_name_def_{row[\"id_variable_name_def\"]}.json')\n",
    "    \n",
    "    # Build a dictionary with the data\n",
    "    content = {\"id\": f'var_name_def_{row[\"id_variable_name_def\"]}', \"category\": \"variable_name\", \"content\": f'{row[\"variable_name\"]}: {row[\"definition\"]}',\n",
    "               \"categoryVector\": category_vector, \"contentVector\": generate_embeddings(f'{row[\"variable_name\"]}: {row[\"definition\"]}')}\n",
    "    \n",
    "    # Write the dictionary as a json file in the data folder\n",
    "    with open(file_name, \"w\") as file:\n",
    "        json.dump(content, file)\n",
    "\n",
    "print('Files created successfully', folder_path)"
   ]
  }
 ],
 "metadata": {
  "kernelspec": {
   "display_name": "env-bot",
   "language": "python",
   "name": "python3"
  },
  "language_info": {
   "codemirror_mode": {
    "name": "ipython",
    "version": 3
   },
   "file_extension": ".py",
   "mimetype": "text/x-python",
   "name": "python",
   "nbconvert_exporter": "python",
   "pygments_lexer": "ipython3",
   "version": "3.10.11"
  }
 },
 "nbformat": 4,
 "nbformat_minor": 2
}

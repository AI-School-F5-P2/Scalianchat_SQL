{
 "cells": [
  {
   "cell_type": "code",
   "execution_count": 1,
   "metadata": {},
   "outputs": [],
   "source": [
    "# Import the required libraries\n",
    "import openai\n",
    "import os\n",
    "import load_env_var\n",
    "import json\n",
    "from azure.core.credentials import AzureKeyCredential\n",
    "from azure.search.documents import SearchClient\n",
    "from azure.search.documents.indexes import SearchIndexClient\n",
    "from azure.search.documents.models import Vector\n",
    "from azure.search.documents.indexes.models import (\n",
    "    SearchIndex, \n",
    "    SearchFieldDataType,\n",
    "    SimpleField,\n",
    "    SearchField,\n",
    "    SearchableField,\n",
    "    VectorSearch,\n",
    "    HnswVectorSearchAlgorithmConfiguration)"
   ]
  },
  {
   "cell_type": "code",
   "execution_count": 2,
   "metadata": {},
   "outputs": [],
   "source": [
    "# Load the environment variables of the search service\n",
    "search_endpoint, search_key, search_index_name = load_env_var.load_env_variables_azure_search()"
   ]
  },
  {
   "cell_type": "code",
   "execution_count": 3,
   "metadata": {},
   "outputs": [],
   "source": [
    "# Load environment variables OpenAI\n",
    "openai.api_type, openai.api_base, openai.api_version, openai.api_key, llm_model, emb_model = load_env_var.load_env_variables_openai()"
   ]
  },
  {
   "cell_type": "code",
   "execution_count": 140,
   "metadata": {},
   "outputs": [],
   "source": [
    "# Create vector configuration for vector search\n",
    "vector_search = VectorSearch(\n",
    "    algorithm_configurations=[\n",
    "        HnswVectorSearchAlgorithmConfiguration(\n",
    "            name=\"my_vector_config\",\n",
    "            kind=\"hnsw\",\n",
    "            parameters={\n",
    "                \"m\": 4,\n",
    "                \"efConstruction\": 400,\n",
    "                \"efSearch\": 500,\n",
    "                \"metric\": \"cosine\"\n",
    "            }\n",
    "        )\n",
    "    ]\n",
    ")"
   ]
  },
  {
   "cell_type": "markdown",
   "metadata": {},
   "source": [
    "##### Explanation of search parameters used in the vector configuration: https://github.com/nmslib/hnswlib/blob/master/ALGO_PARAMS.md"
   ]
  },
  {
   "cell_type": "code",
   "execution_count": 141,
   "metadata": {},
   "outputs": [],
   "source": [
    "# Create a search index client\n",
    "client = SearchIndexClient(search_endpoint, AzureKeyCredential(search_key))"
   ]
  },
  {
   "cell_type": "code",
   "execution_count": 143,
   "metadata": {},
   "outputs": [],
   "source": [
    "# Create the index fields\n",
    "fields = [\n",
    "    SimpleField(name=\"id\", type=SearchFieldDataType.String, filterable=True, sortable=True, key=True),\n",
    "    SearchableField(name=\"category\", type=SearchFieldDataType.String),\n",
    "    SearchableField(name=\"content\", type=SearchFieldDataType.String),\n",
    "    SearchField(name=\"categoryVector\", type=SearchFieldDataType.Collection(SearchFieldDataType.Single), searchable=True, \n",
    "                vector_search_dimensions=1536, vector_search_configuration=\"my_vector_config\"),\n",
    "    SearchField(name=\"contentVector\", type=SearchFieldDataType.Collection(SearchFieldDataType.Single), searchable=True, \n",
    "                vector_search_dimensions=1536, vector_search_configuration=\"my_vector_config\")\n",
    "]"
   ]
  },
  {
   "cell_type": "code",
   "execution_count": 144,
   "metadata": {},
   "outputs": [],
   "source": [
    "# Create the index (verify the index in Azure Portal to check if everything is correct)\n",
    "index = SearchIndex(name=search_index_name, fields=fields, vector_search=vector_search)"
   ]
  },
  {
   "cell_type": "code",
   "execution_count": 145,
   "metadata": {},
   "outputs": [],
   "source": [
    "result = client.create_index(index)"
   ]
  },
  {
   "cell_type": "code",
   "execution_count": 4,
   "metadata": {},
   "outputs": [],
   "source": [
    "# Define a search client to upload documents obtained from the json_emb_files_generator\n",
    "search_client = SearchClient(endpoint=search_endpoint, index_name=search_index_name, credential=AzureKeyCredential(search_key))"
   ]
  },
  {
   "cell_type": "code",
   "execution_count": 5,
   "metadata": {},
   "outputs": [],
   "source": [
    "# Function to upload documents to the Azure service\n",
    "def upload_documents_to_azure_search(folder_path):\n",
    "    file_list = os.listdir(folder_path)\n",
    "\n",
    "    for filename in file_list:\n",
    "        file_path = os.path.join(folder_path, filename)\n",
    "\n",
    "        with open(file_path, 'r') as file:\n",
    "            document = json.load(file)\n",
    "        \n",
    "        result = search_client.upload_documents(document)\n",
    "    \n",
    "    print(f'Uploaded documents to Azure Search index {search_index_name} successfully!')"
   ]
  },
  {
   "cell_type": "code",
   "execution_count": 149,
   "metadata": {},
   "outputs": [
    {
     "name": "stdout",
     "output_type": "stream",
     "text": [
      "Uploaded documents to Azure Search index vectorindex successfully!\n"
     ]
    }
   ],
   "source": [
    "upload_documents_to_azure_search('data/json_unit')"
   ]
  },
  {
   "cell_type": "code",
   "execution_count": 150,
   "metadata": {},
   "outputs": [
    {
     "name": "stdout",
     "output_type": "stream",
     "text": [
      "Uploaded documents to Azure Search index vectorindex successfully!\n"
     ]
    }
   ],
   "source": [
    "upload_documents_to_azure_search('data/json_state')"
   ]
  },
  {
   "cell_type": "code",
   "execution_count": 152,
   "metadata": {},
   "outputs": [
    {
     "name": "stdout",
     "output_type": "stream",
     "text": [
      "Uploaded documents to Azure Search index vectorindex successfully!\n"
     ]
    }
   ],
   "source": [
    "upload_documents_to_azure_search('data/json_city')"
   ]
  },
  {
   "cell_type": "code",
   "execution_count": 153,
   "metadata": {},
   "outputs": [
    {
     "name": "stdout",
     "output_type": "stream",
     "text": [
      "Uploaded documents to Azure Search index vectorindex successfully!\n"
     ]
    }
   ],
   "source": [
    "upload_documents_to_azure_search('data/json_entity_name')"
   ]
  },
  {
   "cell_type": "code",
   "execution_count": 151,
   "metadata": {},
   "outputs": [
    {
     "name": "stdout",
     "output_type": "stream",
     "text": [
      "Uploaded documents to Azure Search index vectorindex successfully!\n"
     ]
    }
   ],
   "source": [
    "upload_documents_to_azure_search('data/json_var_name_def')"
   ]
  },
  {
   "cell_type": "code",
   "execution_count": 6,
   "metadata": {},
   "outputs": [
    {
     "name": "stdout",
     "output_type": "stream",
     "text": [
      "Uploaded documents to Azure Search index vectorindex successfully!\n"
     ]
    }
   ],
   "source": [
    "upload_documents_to_azure_search('data/json_variable_name')"
   ]
  },
  {
   "cell_type": "code",
   "execution_count": 8,
   "metadata": {},
   "outputs": [],
   "source": [
    "# TEST THE VECTOR SEARCH\n",
    "# Function to transform text into embeddings\n",
    "def generate_embeddings(text, model=emb_model):\n",
    "    response = openai.Embedding.create(input=text, engine=model)\n",
    "    embeddings = response['data'][0]['embedding']\n",
    "    return embeddings"
   ]
  },
  {
   "cell_type": "code",
   "execution_count": 13,
   "metadata": {},
   "outputs": [
    {
     "name": "stdout",
     "output_type": "stream",
     "text": [
      "Category: entity_name\n",
      "Content: the valley state bank\n",
      "Score: 0.01666666753590107\n",
      "\n",
      "Category: variable_name\n",
      "Content: all real estate loans\n",
      "Score: 0.01666666753590107\n",
      "\n",
      "Category: entity_name\n",
      "Content: valley capital bank, national  association\n",
      "Score: 0.016393441706895828\n",
      "\n",
      "Category: variable_name\n",
      "Content: total assets: the sum of all assets owned by the institution including cash, loans, securities, bank premises and other assets. this total does not include off-balance-sheet accounts.\n",
      "Score: 0.016393441706895828\n",
      "\n",
      "['the valley state bank', 'all real estate loans', 'valley capital bank, national  association', 'total assets: the sum of all assets owned by the institution including cash, loans, securities, bank premises and other assets. this total does not include off-balance-sheet accounts.']\n"
     ]
    }
   ],
   "source": [
    "# Write a question about the documents to test the search service\n",
    "query = '¿Hay algun banco que se llame valley bank o similar?'\n",
    "\n",
    "# Use the generate_embeddings function to transform the user query into embeddings\n",
    "vector = Vector(value=generate_embeddings(query), k=2, fields='categoryVector, contentVector')\n",
    "\n",
    "results = search_client.search(search_text=None, vectors=[vector], select=['category, content'])\n",
    "\n",
    "llm_input = []\n",
    "\n",
    "for result in results:\n",
    "    print(f\"Category: {result['category']}\")  \n",
    "    print(f\"Content: {result['content']}\")\n",
    "    print(f\"Score: {result['@search.score']}\\n\")\n",
    "    llm_input.append(result['content'])\n",
    "\n",
    "\n",
    "print(llm_input)"
   ]
  },
  {
   "cell_type": "code",
   "execution_count": 14,
   "metadata": {},
   "outputs": [
    {
     "name": "stdout",
     "output_type": "stream",
     "text": [
      "Answer: Sí, hay dos bancos con nombres similares: 'the valley state bank' y 'valley capital bank, national association'.\n"
     ]
    }
   ],
   "source": [
    "# Passes the information to the LLM so that it can generate an answer with the search results\n",
    "system_message = f'Answer the question based on the given input text. Input: {llm_input}'\n",
    "\n",
    "user_message = f'Question: {query}'\n",
    "\n",
    "message = [{\"role\": \"system\", \"content\": system_message},\n",
    "           {\"role\": \"user\", \"content\": user_message}]\n",
    "\n",
    "completion = openai.ChatCompletion.create(deployment_id=llm_model, messages=message, max_tokens=100, temperature=0)\n",
    "\n",
    "print(completion['choices'][0]['message']['content'])"
   ]
  }
 ],
 "metadata": {
  "kernelspec": {
   "display_name": "env-bot",
   "language": "python",
   "name": "python3"
  },
  "language_info": {
   "codemirror_mode": {
    "name": "ipython",
    "version": 3
   },
   "file_extension": ".py",
   "mimetype": "text/x-python",
   "name": "python",
   "nbconvert_exporter": "python",
   "pygments_lexer": "ipython3",
   "version": "3.10.11"
  }
 },
 "nbformat": 4,
 "nbformat_minor": 2
}

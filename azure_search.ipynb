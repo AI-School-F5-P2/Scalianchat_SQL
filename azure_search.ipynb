{
 "cells": [
  {
   "cell_type": "code",
   "execution_count": 71,
   "metadata": {},
   "outputs": [],
   "source": [
    "# Import the required libraries\n",
    "import openai\n",
    "import os\n",
    "import load_env_var\n",
    "import json\n",
    "from azure.core.credentials import AzureKeyCredential\n",
    "from azure.search.documents import SearchClient\n",
    "from azure.search.documents.indexes import SearchIndexClient\n",
    "from azure.search.documents.models import Vector\n",
    "from azure.search.documents.indexes.models import (\n",
    "    SearchIndex, \n",
    "    SearchFieldDataType,\n",
    "    SimpleField,\n",
    "    SearchField,\n",
    "    SearchableField,\n",
    "    VectorSearch,\n",
    "    HnswVectorSearchAlgorithmConfiguration)"
   ]
  },
  {
   "cell_type": "code",
   "execution_count": 46,
   "metadata": {},
   "outputs": [],
   "source": [
    "# Load the environment variables of the search service\n",
    "search_endpoint, search_key, search_index_name = load_env_var.load_env_variables_azure_search()"
   ]
  },
  {
   "cell_type": "code",
   "execution_count": 47,
   "metadata": {},
   "outputs": [],
   "source": [
    "# Load environment variables OpenAI\n",
    "openai.api_type, openai.api_base, openai.api_version, openai.api_key, llm_model, emb_model = load_env_var.load_env_variables_openai()"
   ]
  },
  {
   "cell_type": "code",
   "execution_count": 28,
   "metadata": {},
   "outputs": [],
   "source": [
    "# Create vector configuration for vector search\n",
    "vector_search = VectorSearch(\n",
    "    algorithm_configurations=[\n",
    "        HnswVectorSearchAlgorithmConfiguration(\n",
    "            name=\"my_vector_config\",\n",
    "            kind=\"hnsw\",\n",
    "            parameters={\n",
    "                \"m\": 4,\n",
    "                \"efConstruction\": 400,\n",
    "                \"efSearch\": 500,\n",
    "                \"metric\": \"cosine\"\n",
    "            }\n",
    "        )\n",
    "    ]\n",
    ")"
   ]
  },
  {
   "cell_type": "markdown",
   "metadata": {},
   "source": [
    "##### Explanation of search parameters used in the vector configuration: https://github.com/nmslib/hnswlib/blob/master/ALGO_PARAMS.md"
   ]
  },
  {
   "cell_type": "code",
   "execution_count": 29,
   "metadata": {},
   "outputs": [],
   "source": [
    "# Create a search index client\n",
    "client = SearchIndexClient(search_endpoint, AzureKeyCredential(search_key))"
   ]
  },
  {
   "cell_type": "code",
   "execution_count": 30,
   "metadata": {},
   "outputs": [],
   "source": [
    "# Create the index fields\n",
    "fields = [\n",
    "    SimpleField(name=\"id\", type=SearchFieldDataType.String, filterable=True, sortable=True, key=True),\n",
    "    SearchableField(name=\"category\", type=SearchFieldDataType.String),\n",
    "    SearchableField(name=\"content\", type=SearchFieldDataType.String),\n",
    "    SearchField(name=\"categoryVector\", type=SearchFieldDataType.Collection(SearchFieldDataType.Single), searchable=True, \n",
    "                vector_search_dimensions=1536, vector_search_configuration=\"my_vector_config\"),\n",
    "    SearchField(name=\"contentVector\", type=SearchFieldDataType.Collection(SearchFieldDataType.Single), searchable=True, \n",
    "                vector_search_dimensions=1536, vector_search_configuration=\"my_vector_config\")\n",
    "]"
   ]
  },
  {
   "cell_type": "code",
   "execution_count": 31,
   "metadata": {},
   "outputs": [],
   "source": [
    "# Create the index (verify the index in Azure Portal to check if everything is correct)\n",
    "index = SearchIndex(name=search_index_name, fields=fields, vector_search=vector_search)"
   ]
  },
  {
   "cell_type": "code",
   "execution_count": 32,
   "metadata": {},
   "outputs": [],
   "source": [
    "result = client.create_index(index)"
   ]
  },
  {
   "cell_type": "code",
   "execution_count": 49,
   "metadata": {},
   "outputs": [],
   "source": [
    "# Define a search client to upload documents obtained from the json_emb_files_generator\n",
    "search_client = SearchClient(endpoint=search_endpoint, index_name=search_index_name, credential=AzureKeyCredential(search_key))"
   ]
  },
  {
   "cell_type": "code",
   "execution_count": 50,
   "metadata": {},
   "outputs": [],
   "source": [
    "# Function to upload documents to the Azure service\n",
    "def upload_documents_to_azure_search(folder_path):\n",
    "    file_list = os.listdir(folder_path)\n",
    "\n",
    "    for filename in file_list:\n",
    "        file_path = os.path.join(folder_path, filename)\n",
    "\n",
    "        with open(file_path, 'r') as file:\n",
    "            document = json.load(file)\n",
    "        \n",
    "        result = search_client.upload_documents(document)\n",
    "        print(f'Uploaded document: {document}')"
   ]
  },
  {
   "cell_type": "code",
   "execution_count": 35,
   "metadata": {},
   "outputs": [
    {
     "name": "stdout",
     "output_type": "stream",
     "text": [
      "[<azure.search.documents._generated.models._models_py3.IndexingResult object at 0x000001D7B9ED5BA0>]\n",
      "[<azure.search.documents._generated.models._models_py3.IndexingResult object at 0x000001D7B9ED5990>]\n"
     ]
    }
   ],
   "source": [
    "upload_documents_to_azure_search('data/json_unit')"
   ]
  },
  {
   "cell_type": "code",
   "execution_count": 72,
   "metadata": {},
   "outputs": [],
   "source": [
    "# TEST THE VECTOR SEARCH\n",
    "# Function to transform text into embeddings\n",
    "def generate_embeddings(text, model=emb_model):\n",
    "    response = openai.Embedding.create(input=text, engine=model)\n",
    "    embeddings = response['data'][0]['embedding']\n",
    "    return embeddings"
   ]
  },
  {
   "cell_type": "code",
   "execution_count": 69,
   "metadata": {},
   "outputs": [
    {
     "name": "stdout",
     "output_type": "stream",
     "text": [
      " unit usd unit percent \n"
     ]
    }
   ],
   "source": [
    "# Write a question about the documents to test the search service\n",
    "query = 'Qué tipos de unidades encontramos en los documentos?'\n",
    "\n",
    "# Use the generate_embeddings function to transform the user query into embeddings\n",
    "vector = Vector(value=generate_embeddings(query), k=2, fields='categoryVector, contentVector')\n",
    "\n",
    "results = search_client.search(search_text=None, vectors=[vector], select=['category, content'])\n",
    "\n",
    "input_text = \" \"\n",
    "\n",
    "for result in results:\n",
    "    input_text += result['category'] + \" \" + result['content'] + \" \"\n",
    "\n",
    "print(input_text)"
   ]
  },
  {
   "cell_type": "code",
   "execution_count": 70,
   "metadata": {},
   "outputs": [
    {
     "name": "stdout",
     "output_type": "stream",
     "text": [
      "Respuesta: Encontramos unidades de dólares estadounidenses (usd) y porcentajes (percent).\n"
     ]
    }
   ],
   "source": [
    "# Passes the information to the LLM so that it can generate an answer with the search results\n",
    "system_message = f'Answer the question based on the given input text. Input: {input_text}'\n",
    "\n",
    "user_message = f'Question: {query}'\n",
    "\n",
    "message = [{\"role\": \"system\", \"content\": system_message},\n",
    "           {\"role\": \"user\", \"content\": user_message}]\n",
    "\n",
    "completion = openai.ChatCompletion.create(deployment_id=llm_model, messages=message, max_tokens=100, temperature=0)\n",
    "\n",
    "print(completion['choices'][0]['message']['content'])"
   ]
  }
 ],
 "metadata": {
  "kernelspec": {
   "display_name": "env-bot",
   "language": "python",
   "name": "python3"
  },
  "language_info": {
   "codemirror_mode": {
    "name": "ipython",
    "version": 3
   },
   "file_extension": ".py",
   "mimetype": "text/x-python",
   "name": "python",
   "nbconvert_exporter": "python",
   "pygments_lexer": "ipython3",
   "version": "3.10.11"
  }
 },
 "nbformat": 4,
 "nbformat_minor": 2
}

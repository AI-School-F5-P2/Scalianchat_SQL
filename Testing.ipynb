{
 "cells": [
  {
   "cell_type": "code",
   "execution_count": 1,
   "id": "initial_id",
   "metadata": {
    "ExecuteTime": {
     "end_time": "2024-02-01T09:24:31.639950700Z",
     "start_time": "2024-02-01T09:24:30.607511Z"
    }
   },
   "outputs": [],
   "source": [
    "import pandas as pd\n",
    "import csv"
   ]
  },
  {
   "cell_type": "code",
   "execution_count": 2,
   "id": "341038bfc872bfe5",
   "metadata": {
    "collapsed": false,
    "ExecuteTime": {
     "end_time": "2024-02-01T09:24:52.794206800Z",
     "start_time": "2024-02-01T09:24:52.576612500Z"
    }
   },
   "outputs": [],
   "source": [
    "#read in the data\n",
    "df = pd.read_csv('data/Financial_Original.csv')"
   ]
  },
  {
   "cell_type": "markdown",
   "source": [
    "### Ahora funciona sin quitar retornos de carro ¿?"
   ],
   "metadata": {
    "collapsed": false
   },
   "id": "5ceedac0db1b4"
  },
  {
   "cell_type": "code",
   "outputs": [
    {
     "data": {
      "text/plain": "             ENTITY_NAME    CITY STATE_ABBREVIATION          VARIABLE_NAME  \\\n0               KCB Bank   Lakin                 KS           Total Assets   \n1               KCB Bank   Lakin                 KS         Total deposits   \n2               KCB Bank   Lakin                 KS  % Insured (Estimated)   \n3               KCB Bank   Lakin                 KS  All Real Estate Loans   \n4               KCB Bank   Lakin                 KS       Total Securities   \n5   Mountain Valley Bank  Dunlap                 TN           Total Assets   \n6   Mountain Valley Bank  Dunlap                 TN         Total deposits   \n7   Mountain Valley Bank  Dunlap                 TN  % Insured (Estimated)   \n8   Mountain Valley Bank  Dunlap                 TN  All Real Estate Loans   \n9   Mountain Valley Bank  Dunlap                 TN       Total Securities   \n10            Byron Bank   Byron                 IL           Total Assets   \n11            Byron Bank   Byron                 IL         Total deposits   \n12            Byron Bank   Byron                 IL  % Insured (Estimated)   \n13            Byron Bank   Byron                 IL  All Real Estate Loans   \n14            Byron Bank   Byron                 IL       Total Securities   \n\n    YEAR         VALUE     UNIT  \\\n0   2007  1.094090e+08      USD   \n1   2007  8.681800e+07      USD   \n2   2007  0.000000e+00  Percent   \n3   2007  1.647700e+07      USD   \n4   2007  4.361800e+07      USD   \n5   1986  2.647800e+07      USD   \n6   1986  2.236300e+07      USD   \n7   1986  0.000000e+00  Percent   \n8   1986  6.890000e+06      USD   \n9   1986  1.222200e+07      USD   \n10  2019  2.716930e+08      USD   \n11  2019  2.395160e+08      USD   \n12  2019  8.478772e-01  Percent   \n13  2019  1.308050e+08      USD   \n14  2019  8.110000e+07      USD   \n\n                                           DEFINITION  \n0   The sum of all assets owned by the institution...  \n1   The sum of all deposits including demand depos...  \n2   Percent of deposits estimated to be insured.  ...  \n3   Loans secured primarily by real estate, whethe...  \n4   Total securities: the sum of held-to-maturity ...  \n5   The sum of all assets owned by the institution...  \n6   The sum of all deposits including demand depos...  \n7   Percent of deposits estimated to be insured.  ...  \n8   Loans secured primarily by real estate, whethe...  \n9   Total securities: the sum of held-to-maturity ...  \n10  The sum of all assets owned by the institution...  \n11  The sum of all deposits including demand depos...  \n12  Percent of deposits estimated to be insured.  ...  \n13  Loans secured primarily by real estate, whethe...  \n14  Total securities: the sum of held-to-maturity ...  ",
      "text/html": "<div>\n<style scoped>\n    .dataframe tbody tr th:only-of-type {\n        vertical-align: middle;\n    }\n\n    .dataframe tbody tr th {\n        vertical-align: top;\n    }\n\n    .dataframe thead th {\n        text-align: right;\n    }\n</style>\n<table border=\"1\" class=\"dataframe\">\n  <thead>\n    <tr style=\"text-align: right;\">\n      <th></th>\n      <th>ENTITY_NAME</th>\n      <th>CITY</th>\n      <th>STATE_ABBREVIATION</th>\n      <th>VARIABLE_NAME</th>\n      <th>YEAR</th>\n      <th>VALUE</th>\n      <th>UNIT</th>\n      <th>DEFINITION</th>\n    </tr>\n  </thead>\n  <tbody>\n    <tr>\n      <th>0</th>\n      <td>KCB Bank</td>\n      <td>Lakin</td>\n      <td>KS</td>\n      <td>Total Assets</td>\n      <td>2007</td>\n      <td>1.094090e+08</td>\n      <td>USD</td>\n      <td>The sum of all assets owned by the institution...</td>\n    </tr>\n    <tr>\n      <th>1</th>\n      <td>KCB Bank</td>\n      <td>Lakin</td>\n      <td>KS</td>\n      <td>Total deposits</td>\n      <td>2007</td>\n      <td>8.681800e+07</td>\n      <td>USD</td>\n      <td>The sum of all deposits including demand depos...</td>\n    </tr>\n    <tr>\n      <th>2</th>\n      <td>KCB Bank</td>\n      <td>Lakin</td>\n      <td>KS</td>\n      <td>% Insured (Estimated)</td>\n      <td>2007</td>\n      <td>0.000000e+00</td>\n      <td>Percent</td>\n      <td>Percent of deposits estimated to be insured.  ...</td>\n    </tr>\n    <tr>\n      <th>3</th>\n      <td>KCB Bank</td>\n      <td>Lakin</td>\n      <td>KS</td>\n      <td>All Real Estate Loans</td>\n      <td>2007</td>\n      <td>1.647700e+07</td>\n      <td>USD</td>\n      <td>Loans secured primarily by real estate, whethe...</td>\n    </tr>\n    <tr>\n      <th>4</th>\n      <td>KCB Bank</td>\n      <td>Lakin</td>\n      <td>KS</td>\n      <td>Total Securities</td>\n      <td>2007</td>\n      <td>4.361800e+07</td>\n      <td>USD</td>\n      <td>Total securities: the sum of held-to-maturity ...</td>\n    </tr>\n    <tr>\n      <th>5</th>\n      <td>Mountain Valley Bank</td>\n      <td>Dunlap</td>\n      <td>TN</td>\n      <td>Total Assets</td>\n      <td>1986</td>\n      <td>2.647800e+07</td>\n      <td>USD</td>\n      <td>The sum of all assets owned by the institution...</td>\n    </tr>\n    <tr>\n      <th>6</th>\n      <td>Mountain Valley Bank</td>\n      <td>Dunlap</td>\n      <td>TN</td>\n      <td>Total deposits</td>\n      <td>1986</td>\n      <td>2.236300e+07</td>\n      <td>USD</td>\n      <td>The sum of all deposits including demand depos...</td>\n    </tr>\n    <tr>\n      <th>7</th>\n      <td>Mountain Valley Bank</td>\n      <td>Dunlap</td>\n      <td>TN</td>\n      <td>% Insured (Estimated)</td>\n      <td>1986</td>\n      <td>0.000000e+00</td>\n      <td>Percent</td>\n      <td>Percent of deposits estimated to be insured.  ...</td>\n    </tr>\n    <tr>\n      <th>8</th>\n      <td>Mountain Valley Bank</td>\n      <td>Dunlap</td>\n      <td>TN</td>\n      <td>All Real Estate Loans</td>\n      <td>1986</td>\n      <td>6.890000e+06</td>\n      <td>USD</td>\n      <td>Loans secured primarily by real estate, whethe...</td>\n    </tr>\n    <tr>\n      <th>9</th>\n      <td>Mountain Valley Bank</td>\n      <td>Dunlap</td>\n      <td>TN</td>\n      <td>Total Securities</td>\n      <td>1986</td>\n      <td>1.222200e+07</td>\n      <td>USD</td>\n      <td>Total securities: the sum of held-to-maturity ...</td>\n    </tr>\n    <tr>\n      <th>10</th>\n      <td>Byron Bank</td>\n      <td>Byron</td>\n      <td>IL</td>\n      <td>Total Assets</td>\n      <td>2019</td>\n      <td>2.716930e+08</td>\n      <td>USD</td>\n      <td>The sum of all assets owned by the institution...</td>\n    </tr>\n    <tr>\n      <th>11</th>\n      <td>Byron Bank</td>\n      <td>Byron</td>\n      <td>IL</td>\n      <td>Total deposits</td>\n      <td>2019</td>\n      <td>2.395160e+08</td>\n      <td>USD</td>\n      <td>The sum of all deposits including demand depos...</td>\n    </tr>\n    <tr>\n      <th>12</th>\n      <td>Byron Bank</td>\n      <td>Byron</td>\n      <td>IL</td>\n      <td>% Insured (Estimated)</td>\n      <td>2019</td>\n      <td>8.478772e-01</td>\n      <td>Percent</td>\n      <td>Percent of deposits estimated to be insured.  ...</td>\n    </tr>\n    <tr>\n      <th>13</th>\n      <td>Byron Bank</td>\n      <td>Byron</td>\n      <td>IL</td>\n      <td>All Real Estate Loans</td>\n      <td>2019</td>\n      <td>1.308050e+08</td>\n      <td>USD</td>\n      <td>Loans secured primarily by real estate, whethe...</td>\n    </tr>\n    <tr>\n      <th>14</th>\n      <td>Byron Bank</td>\n      <td>Byron</td>\n      <td>IL</td>\n      <td>Total Securities</td>\n      <td>2019</td>\n      <td>8.110000e+07</td>\n      <td>USD</td>\n      <td>Total securities: the sum of held-to-maturity ...</td>\n    </tr>\n  </tbody>\n</table>\n</div>"
     },
     "execution_count": 4,
     "metadata": {},
     "output_type": "execute_result"
    }
   ],
   "source": [
    "df.head(15)"
   ],
   "metadata": {
    "collapsed": false,
    "ExecuteTime": {
     "end_time": "2024-02-01T09:25:17.408702300Z",
     "start_time": "2024-02-01T09:25:17.356059Z"
    }
   },
   "id": "ba748cbe86f1894f",
   "execution_count": 4
  },
  {
   "cell_type": "code",
   "outputs": [
    {
     "data": {
      "text/plain": "Index(['ENTITY_NAME', 'CITY', 'STATE_ABBREVIATION', 'VARIABLE_NAME', 'YEAR',\n       'VALUE', 'UNIT', 'DEFINITION'],\n      dtype='object')"
     },
     "execution_count": 5,
     "metadata": {},
     "output_type": "execute_result"
    }
   ],
   "source": [
    "df.columns"
   ],
   "metadata": {
    "collapsed": false,
    "ExecuteTime": {
     "end_time": "2024-02-01T09:25:22.876959300Z",
     "start_time": "2024-02-01T09:25:22.484915300Z"
    }
   },
   "id": "e83905431477169c",
   "execution_count": 5
  },
  {
   "cell_type": "code",
   "outputs": [
    {
     "data": {
      "text/plain": "Index(['entity_name', 'city', 'state_abbreviation', 'variable_name', 'year',\n       'value', 'unit', 'definition'],\n      dtype='object')"
     },
     "execution_count": 7,
     "metadata": {},
     "output_type": "execute_result"
    }
   ],
   "source": [
    "df.columns"
   ],
   "metadata": {
    "collapsed": false,
    "ExecuteTime": {
     "end_time": "2024-02-01T09:26:03.466822800Z",
     "start_time": "2024-02-01T09:26:03.426198400Z"
    }
   },
   "id": "47ecbe2f50aa2f7c",
   "execution_count": 7
  },
  {
   "cell_type": "code",
   "outputs": [],
   "source": [
    "df.columns = df.columns.str.lower()"
   ],
   "metadata": {
    "collapsed": false,
    "ExecuteTime": {
     "end_time": "2024-02-01T09:25:29.423090600Z",
     "start_time": "2024-02-01T09:25:29.390416200Z"
    }
   },
   "id": "74c84be136b161a1",
   "execution_count": 6
  },
  {
   "cell_type": "code",
   "outputs": [],
   "source": [
    "columns_to_exclude = ['state_abbreviation', 'year', 'value']\n",
    "df = df.apply(lambda x: x.astype(str).str.lower() if x.name not in columns_to_exclude else x)"
   ],
   "metadata": {
    "collapsed": false,
    "ExecuteTime": {
     "end_time": "2024-02-01T09:26:23.943155600Z",
     "start_time": "2024-02-01T09:26:23.855595200Z"
    }
   },
   "id": "7e3820d9258e8d62",
   "execution_count": 8
  },
  {
   "cell_type": "code",
   "outputs": [
    {
     "data": {
      "text/plain": "             entity_name    city state_abbreviation          variable_name  \\\n0               kcb bank   lakin                 KS           total assets   \n1               kcb bank   lakin                 KS         total deposits   \n2               kcb bank   lakin                 KS  % insured (estimated)   \n3               kcb bank   lakin                 KS  all real estate loans   \n4               kcb bank   lakin                 KS       total securities   \n5   mountain valley bank  dunlap                 TN           total assets   \n6   mountain valley bank  dunlap                 TN         total deposits   \n7   mountain valley bank  dunlap                 TN  % insured (estimated)   \n8   mountain valley bank  dunlap                 TN  all real estate loans   \n9   mountain valley bank  dunlap                 TN       total securities   \n10            byron bank   byron                 IL           total assets   \n11            byron bank   byron                 IL         total deposits   \n12            byron bank   byron                 IL  % insured (estimated)   \n13            byron bank   byron                 IL  all real estate loans   \n14            byron bank   byron                 IL       total securities   \n\n    year         value     unit  \\\n0   2007  1.094090e+08      usd   \n1   2007  8.681800e+07      usd   \n2   2007  0.000000e+00  percent   \n3   2007  1.647700e+07      usd   \n4   2007  4.361800e+07      usd   \n5   1986  2.647800e+07      usd   \n6   1986  2.236300e+07      usd   \n7   1986  0.000000e+00  percent   \n8   1986  6.890000e+06      usd   \n9   1986  1.222200e+07      usd   \n10  2019  2.716930e+08      usd   \n11  2019  2.395160e+08      usd   \n12  2019  8.478772e-01  percent   \n13  2019  1.308050e+08      usd   \n14  2019  8.110000e+07      usd   \n\n                                           definition  \n0   the sum of all assets owned by the institution...  \n1   the sum of all deposits including demand depos...  \n2   percent of deposits estimated to be insured.  ...  \n3   loans secured primarily by real estate, whethe...  \n4   total securities: the sum of held-to-maturity ...  \n5   the sum of all assets owned by the institution...  \n6   the sum of all deposits including demand depos...  \n7   percent of deposits estimated to be insured.  ...  \n8   loans secured primarily by real estate, whethe...  \n9   total securities: the sum of held-to-maturity ...  \n10  the sum of all assets owned by the institution...  \n11  the sum of all deposits including demand depos...  \n12  percent of deposits estimated to be insured.  ...  \n13  loans secured primarily by real estate, whethe...  \n14  total securities: the sum of held-to-maturity ...  ",
      "text/html": "<div>\n<style scoped>\n    .dataframe tbody tr th:only-of-type {\n        vertical-align: middle;\n    }\n\n    .dataframe tbody tr th {\n        vertical-align: top;\n    }\n\n    .dataframe thead th {\n        text-align: right;\n    }\n</style>\n<table border=\"1\" class=\"dataframe\">\n  <thead>\n    <tr style=\"text-align: right;\">\n      <th></th>\n      <th>entity_name</th>\n      <th>city</th>\n      <th>state_abbreviation</th>\n      <th>variable_name</th>\n      <th>year</th>\n      <th>value</th>\n      <th>unit</th>\n      <th>definition</th>\n    </tr>\n  </thead>\n  <tbody>\n    <tr>\n      <th>0</th>\n      <td>kcb bank</td>\n      <td>lakin</td>\n      <td>KS</td>\n      <td>total assets</td>\n      <td>2007</td>\n      <td>1.094090e+08</td>\n      <td>usd</td>\n      <td>the sum of all assets owned by the institution...</td>\n    </tr>\n    <tr>\n      <th>1</th>\n      <td>kcb bank</td>\n      <td>lakin</td>\n      <td>KS</td>\n      <td>total deposits</td>\n      <td>2007</td>\n      <td>8.681800e+07</td>\n      <td>usd</td>\n      <td>the sum of all deposits including demand depos...</td>\n    </tr>\n    <tr>\n      <th>2</th>\n      <td>kcb bank</td>\n      <td>lakin</td>\n      <td>KS</td>\n      <td>% insured (estimated)</td>\n      <td>2007</td>\n      <td>0.000000e+00</td>\n      <td>percent</td>\n      <td>percent of deposits estimated to be insured.  ...</td>\n    </tr>\n    <tr>\n      <th>3</th>\n      <td>kcb bank</td>\n      <td>lakin</td>\n      <td>KS</td>\n      <td>all real estate loans</td>\n      <td>2007</td>\n      <td>1.647700e+07</td>\n      <td>usd</td>\n      <td>loans secured primarily by real estate, whethe...</td>\n    </tr>\n    <tr>\n      <th>4</th>\n      <td>kcb bank</td>\n      <td>lakin</td>\n      <td>KS</td>\n      <td>total securities</td>\n      <td>2007</td>\n      <td>4.361800e+07</td>\n      <td>usd</td>\n      <td>total securities: the sum of held-to-maturity ...</td>\n    </tr>\n    <tr>\n      <th>5</th>\n      <td>mountain valley bank</td>\n      <td>dunlap</td>\n      <td>TN</td>\n      <td>total assets</td>\n      <td>1986</td>\n      <td>2.647800e+07</td>\n      <td>usd</td>\n      <td>the sum of all assets owned by the institution...</td>\n    </tr>\n    <tr>\n      <th>6</th>\n      <td>mountain valley bank</td>\n      <td>dunlap</td>\n      <td>TN</td>\n      <td>total deposits</td>\n      <td>1986</td>\n      <td>2.236300e+07</td>\n      <td>usd</td>\n      <td>the sum of all deposits including demand depos...</td>\n    </tr>\n    <tr>\n      <th>7</th>\n      <td>mountain valley bank</td>\n      <td>dunlap</td>\n      <td>TN</td>\n      <td>% insured (estimated)</td>\n      <td>1986</td>\n      <td>0.000000e+00</td>\n      <td>percent</td>\n      <td>percent of deposits estimated to be insured.  ...</td>\n    </tr>\n    <tr>\n      <th>8</th>\n      <td>mountain valley bank</td>\n      <td>dunlap</td>\n      <td>TN</td>\n      <td>all real estate loans</td>\n      <td>1986</td>\n      <td>6.890000e+06</td>\n      <td>usd</td>\n      <td>loans secured primarily by real estate, whethe...</td>\n    </tr>\n    <tr>\n      <th>9</th>\n      <td>mountain valley bank</td>\n      <td>dunlap</td>\n      <td>TN</td>\n      <td>total securities</td>\n      <td>1986</td>\n      <td>1.222200e+07</td>\n      <td>usd</td>\n      <td>total securities: the sum of held-to-maturity ...</td>\n    </tr>\n    <tr>\n      <th>10</th>\n      <td>byron bank</td>\n      <td>byron</td>\n      <td>IL</td>\n      <td>total assets</td>\n      <td>2019</td>\n      <td>2.716930e+08</td>\n      <td>usd</td>\n      <td>the sum of all assets owned by the institution...</td>\n    </tr>\n    <tr>\n      <th>11</th>\n      <td>byron bank</td>\n      <td>byron</td>\n      <td>IL</td>\n      <td>total deposits</td>\n      <td>2019</td>\n      <td>2.395160e+08</td>\n      <td>usd</td>\n      <td>the sum of all deposits including demand depos...</td>\n    </tr>\n    <tr>\n      <th>12</th>\n      <td>byron bank</td>\n      <td>byron</td>\n      <td>IL</td>\n      <td>% insured (estimated)</td>\n      <td>2019</td>\n      <td>8.478772e-01</td>\n      <td>percent</td>\n      <td>percent of deposits estimated to be insured.  ...</td>\n    </tr>\n    <tr>\n      <th>13</th>\n      <td>byron bank</td>\n      <td>byron</td>\n      <td>IL</td>\n      <td>all real estate loans</td>\n      <td>2019</td>\n      <td>1.308050e+08</td>\n      <td>usd</td>\n      <td>loans secured primarily by real estate, whethe...</td>\n    </tr>\n    <tr>\n      <th>14</th>\n      <td>byron bank</td>\n      <td>byron</td>\n      <td>IL</td>\n      <td>total securities</td>\n      <td>2019</td>\n      <td>8.110000e+07</td>\n      <td>usd</td>\n      <td>total securities: the sum of held-to-maturity ...</td>\n    </tr>\n  </tbody>\n</table>\n</div>"
     },
     "execution_count": 9,
     "metadata": {},
     "output_type": "execute_result"
    }
   ],
   "source": [
    "df.head(15)"
   ],
   "metadata": {
    "collapsed": false,
    "ExecuteTime": {
     "end_time": "2024-02-01T09:26:28.695532900Z",
     "start_time": "2024-02-01T09:26:28.672519500Z"
    }
   },
   "id": "79970f4bc0256ba6",
   "execution_count": 9
  },
  {
   "cell_type": "code",
   "outputs": [
    {
     "data": {
      "text/plain": "array(['the sum of all assets owned by the institution including cash, loans, securities, bank premises and other assets. this total does not include off-balance-sheet accounts.',\n       'the sum of all deposits including demand deposits, money market deposits, other savings deposits, time deposits and deposits in foreign offices.',\n       'percent of deposits estimated to be insured.  calculated as depins / depbefex',\n       'loans secured primarily by real estate, whether originated by the bank or purchased. \\na loan secured by real estate is a loan that, at origination, is secured wholly or substantially by a lien or liens on real property for which the lien or liens are central to the extension of the credit – that is, the borrower would not have been extended credit in the same amount or on terms as favorable without the lien or liens on real property. \\n \\nto be considered wholly or substantially secured by a lien or liens on real property, the estimated value of the real estate collateral at origination (after deducting any more senior liens held by others) must be greater than 50 percent of the principal amount of the loan at origination.',\n       \"total securities: the sum of held-to-maturity securities at amortized cost, available-for-sale debt securities at fair value and equity securities with readily determinable fair values not held for trading on a consolidated basis. prior to december 2020, defined as the sum of held-to-maturity securities at amortized cost, available-for-sale securities at fair value and equity securities with readily determinable fair values not held for trading on a consolidated basis. as of march 2019, for institutions that have adopted cecl methodology (asu 2016-13) securities are reported net of allowances for credit losses. the full implementation of fasb 115 became effective as of january 1, 1994. beginning on that date, a portion of banks' securities portfolios are reported based upon fair (market) values; previously, all securities not held in trading accounts were reported at either amortized cost or the lower of cost or market. a negative total securities amount indicates a tfr reporter with assets held in trading accounts that exceed total securities.\"],\n      dtype=object)"
     },
     "execution_count": 10,
     "metadata": {},
     "output_type": "execute_result"
    }
   ],
   "source": [
    "df['definition'].unique()"
   ],
   "metadata": {
    "collapsed": false,
    "ExecuteTime": {
     "end_time": "2024-02-01T09:26:44.466895600Z",
     "start_time": "2024-02-01T09:26:44.422384800Z"
    }
   },
   "id": "5af433bcdf37fc87",
   "execution_count": 10
  },
  {
   "cell_type": "code",
   "outputs": [],
   "source": [
    "# Aplica la eliminación de \\n solo para los registros que cumplen la condición\n",
    "df.loc[df[\"variable_name\"] == \"all real estate loans\", \"definition\"] = df.loc[df[\"variable_name\"] == \"all real estate loans\", \"definition\"].str.replace('\\n', '')"
   ],
   "metadata": {
    "collapsed": false,
    "ExecuteTime": {
     "end_time": "2024-02-01T09:28:22.859978400Z",
     "start_time": "2024-02-01T09:28:22.786423400Z"
    }
   },
   "id": "bee7e24a8430a476",
   "execution_count": 13
  },
  {
   "cell_type": "code",
   "outputs": [
    {
     "data": {
      "text/plain": "array(['the sum of all assets owned by the institution including cash, loans, securities, bank premises and other assets. this total does not include off-balance-sheet accounts.',\n       'the sum of all deposits including demand deposits, money market deposits, other savings deposits, time deposits and deposits in foreign offices.',\n       'percent of deposits estimated to be insured.  calculated as depins / depbefex',\n       'loans secured primarily by real estate, whether originated by the bank or purchased. a loan secured by real estate is a loan that, at origination, is secured wholly or substantially by a lien or liens on real property for which the lien or liens are central to the extension of the credit – that is, the borrower would not have been extended credit in the same amount or on terms as favorable without the lien or liens on real property.  to be considered wholly or substantially secured by a lien or liens on real property, the estimated value of the real estate collateral at origination (after deducting any more senior liens held by others) must be greater than 50 percent of the principal amount of the loan at origination.',\n       \"total securities: the sum of held-to-maturity securities at amortized cost, available-for-sale debt securities at fair value and equity securities with readily determinable fair values not held for trading on a consolidated basis. prior to december 2020, defined as the sum of held-to-maturity securities at amortized cost, available-for-sale securities at fair value and equity securities with readily determinable fair values not held for trading on a consolidated basis. as of march 2019, for institutions that have adopted cecl methodology (asu 2016-13) securities are reported net of allowances for credit losses. the full implementation of fasb 115 became effective as of january 1, 1994. beginning on that date, a portion of banks' securities portfolios are reported based upon fair (market) values; previously, all securities not held in trading accounts were reported at either amortized cost or the lower of cost or market. a negative total securities amount indicates a tfr reporter with assets held in trading accounts that exceed total securities.\"],\n      dtype=object)"
     },
     "execution_count": 14,
     "metadata": {},
     "output_type": "execute_result"
    }
   ],
   "source": [
    "df['definition'].unique()"
   ],
   "metadata": {
    "collapsed": false,
    "ExecuteTime": {
     "end_time": "2024-02-01T09:28:29.220736700Z",
     "start_time": "2024-02-01T09:28:29.153695700Z"
    }
   },
   "id": "b0def38abd0cb6b2",
   "execution_count": 14
  },
  {
   "cell_type": "markdown",
   "source": [],
   "metadata": {
    "collapsed": false
   },
   "id": "dce120fd66b18f12"
  },
  {
   "cell_type": "code",
   "outputs": [],
   "source": [
    "# Guarda el DataFrame actualizado en un nuevo archivo CSV\n",
    "df.to_csv('data/datos_actualizados.csv', index=False, header=True)"
   ],
   "metadata": {
    "collapsed": false,
    "ExecuteTime": {
     "end_time": "2024-02-01T09:28:52.281680800Z",
     "start_time": "2024-02-01T09:28:51.815699700Z"
    }
   },
   "id": "ae28f4ae5c16f8fd",
   "execution_count": 15
  },
  {
   "cell_type": "code",
   "outputs": [],
   "source": [
    "df_final = pd.read_csv('data/datos_actualizados.csv')"
   ],
   "metadata": {
    "collapsed": false,
    "ExecuteTime": {
     "end_time": "2024-02-01T09:28:57.689868100Z",
     "start_time": "2024-02-01T09:28:57.499823700Z"
    }
   },
   "id": "f21e4e07ffb556fc",
   "execution_count": 16
  },
  {
   "cell_type": "markdown",
   "source": [],
   "metadata": {
    "collapsed": false
   },
   "id": "3eb530580a69671a"
  },
  {
   "cell_type": "code",
   "outputs": [
    {
     "data": {
      "text/plain": "            entity_name    city state_abbreviation          variable_name  \\\n0              kcb bank   lakin                 KS           total assets   \n1              kcb bank   lakin                 KS         total deposits   \n2              kcb bank   lakin                 KS  % insured (estimated)   \n3              kcb bank   lakin                 KS  all real estate loans   \n4              kcb bank   lakin                 KS       total securities   \n5  mountain valley bank  dunlap                 TN           total assets   \n6  mountain valley bank  dunlap                 TN         total deposits   \n7  mountain valley bank  dunlap                 TN  % insured (estimated)   \n8  mountain valley bank  dunlap                 TN  all real estate loans   \n9  mountain valley bank  dunlap                 TN       total securities   \n\n   year        value     unit  \\\n0  2007  109409000.0      usd   \n1  2007   86818000.0      usd   \n2  2007          0.0  percent   \n3  2007   16477000.0      usd   \n4  2007   43618000.0      usd   \n5  1986   26478000.0      usd   \n6  1986   22363000.0      usd   \n7  1986          0.0  percent   \n8  1986    6890000.0      usd   \n9  1986   12222000.0      usd   \n\n                                          definition  \n0  the sum of all assets owned by the institution...  \n1  the sum of all deposits including demand depos...  \n2  percent of deposits estimated to be insured.  ...  \n3  loans secured primarily by real estate, whethe...  \n4  total securities: the sum of held-to-maturity ...  \n5  the sum of all assets owned by the institution...  \n6  the sum of all deposits including demand depos...  \n7  percent of deposits estimated to be insured.  ...  \n8  loans secured primarily by real estate, whethe...  \n9  total securities: the sum of held-to-maturity ...  ",
      "text/html": "<div>\n<style scoped>\n    .dataframe tbody tr th:only-of-type {\n        vertical-align: middle;\n    }\n\n    .dataframe tbody tr th {\n        vertical-align: top;\n    }\n\n    .dataframe thead th {\n        text-align: right;\n    }\n</style>\n<table border=\"1\" class=\"dataframe\">\n  <thead>\n    <tr style=\"text-align: right;\">\n      <th></th>\n      <th>entity_name</th>\n      <th>city</th>\n      <th>state_abbreviation</th>\n      <th>variable_name</th>\n      <th>year</th>\n      <th>value</th>\n      <th>unit</th>\n      <th>definition</th>\n    </tr>\n  </thead>\n  <tbody>\n    <tr>\n      <th>0</th>\n      <td>kcb bank</td>\n      <td>lakin</td>\n      <td>KS</td>\n      <td>total assets</td>\n      <td>2007</td>\n      <td>109409000.0</td>\n      <td>usd</td>\n      <td>the sum of all assets owned by the institution...</td>\n    </tr>\n    <tr>\n      <th>1</th>\n      <td>kcb bank</td>\n      <td>lakin</td>\n      <td>KS</td>\n      <td>total deposits</td>\n      <td>2007</td>\n      <td>86818000.0</td>\n      <td>usd</td>\n      <td>the sum of all deposits including demand depos...</td>\n    </tr>\n    <tr>\n      <th>2</th>\n      <td>kcb bank</td>\n      <td>lakin</td>\n      <td>KS</td>\n      <td>% insured (estimated)</td>\n      <td>2007</td>\n      <td>0.0</td>\n      <td>percent</td>\n      <td>percent of deposits estimated to be insured.  ...</td>\n    </tr>\n    <tr>\n      <th>3</th>\n      <td>kcb bank</td>\n      <td>lakin</td>\n      <td>KS</td>\n      <td>all real estate loans</td>\n      <td>2007</td>\n      <td>16477000.0</td>\n      <td>usd</td>\n      <td>loans secured primarily by real estate, whethe...</td>\n    </tr>\n    <tr>\n      <th>4</th>\n      <td>kcb bank</td>\n      <td>lakin</td>\n      <td>KS</td>\n      <td>total securities</td>\n      <td>2007</td>\n      <td>43618000.0</td>\n      <td>usd</td>\n      <td>total securities: the sum of held-to-maturity ...</td>\n    </tr>\n    <tr>\n      <th>5</th>\n      <td>mountain valley bank</td>\n      <td>dunlap</td>\n      <td>TN</td>\n      <td>total assets</td>\n      <td>1986</td>\n      <td>26478000.0</td>\n      <td>usd</td>\n      <td>the sum of all assets owned by the institution...</td>\n    </tr>\n    <tr>\n      <th>6</th>\n      <td>mountain valley bank</td>\n      <td>dunlap</td>\n      <td>TN</td>\n      <td>total deposits</td>\n      <td>1986</td>\n      <td>22363000.0</td>\n      <td>usd</td>\n      <td>the sum of all deposits including demand depos...</td>\n    </tr>\n    <tr>\n      <th>7</th>\n      <td>mountain valley bank</td>\n      <td>dunlap</td>\n      <td>TN</td>\n      <td>% insured (estimated)</td>\n      <td>1986</td>\n      <td>0.0</td>\n      <td>percent</td>\n      <td>percent of deposits estimated to be insured.  ...</td>\n    </tr>\n    <tr>\n      <th>8</th>\n      <td>mountain valley bank</td>\n      <td>dunlap</td>\n      <td>TN</td>\n      <td>all real estate loans</td>\n      <td>1986</td>\n      <td>6890000.0</td>\n      <td>usd</td>\n      <td>loans secured primarily by real estate, whethe...</td>\n    </tr>\n    <tr>\n      <th>9</th>\n      <td>mountain valley bank</td>\n      <td>dunlap</td>\n      <td>TN</td>\n      <td>total securities</td>\n      <td>1986</td>\n      <td>12222000.0</td>\n      <td>usd</td>\n      <td>total securities: the sum of held-to-maturity ...</td>\n    </tr>\n  </tbody>\n</table>\n</div>"
     },
     "execution_count": 17,
     "metadata": {},
     "output_type": "execute_result"
    }
   ],
   "source": [
    "df_final.head(10)"
   ],
   "metadata": {
    "collapsed": false,
    "ExecuteTime": {
     "end_time": "2024-02-01T09:29:02.364041100Z",
     "start_time": "2024-02-01T09:29:02.331035200Z"
    }
   },
   "id": "734d31605258a56c",
   "execution_count": 17
  },
  {
   "cell_type": "code",
   "outputs": [
    {
     "data": {
      "text/plain": "array(['the sum of all assets owned by the institution including cash, loans, securities, bank premises and other assets. this total does not include off-balance-sheet accounts.',\n       'the sum of all deposits including demand deposits, money market deposits, other savings deposits, time deposits and deposits in foreign offices.',\n       'percent of deposits estimated to be insured.  calculated as depins / depbefex',\n       'loans secured primarily by real estate, whether originated by the bank or purchased. a loan secured by real estate is a loan that, at origination, is secured wholly or substantially by a lien or liens on real property for which the lien or liens are central to the extension of the credit – that is, the borrower would not have been extended credit in the same amount or on terms as favorable without the lien or liens on real property.  to be considered wholly or substantially secured by a lien or liens on real property, the estimated value of the real estate collateral at origination (after deducting any more senior liens held by others) must be greater than 50 percent of the principal amount of the loan at origination.',\n       \"total securities: the sum of held-to-maturity securities at amortized cost, available-for-sale debt securities at fair value and equity securities with readily determinable fair values not held for trading on a consolidated basis. prior to december 2020, defined as the sum of held-to-maturity securities at amortized cost, available-for-sale securities at fair value and equity securities with readily determinable fair values not held for trading on a consolidated basis. as of march 2019, for institutions that have adopted cecl methodology (asu 2016-13) securities are reported net of allowances for credit losses. the full implementation of fasb 115 became effective as of january 1, 1994. beginning on that date, a portion of banks' securities portfolios are reported based upon fair (market) values; previously, all securities not held in trading accounts were reported at either amortized cost or the lower of cost or market. a negative total securities amount indicates a tfr reporter with assets held in trading accounts that exceed total securities.\"],\n      dtype=object)"
     },
     "execution_count": 18,
     "metadata": {},
     "output_type": "execute_result"
    }
   ],
   "source": [
    "df_final['definition'].unique()"
   ],
   "metadata": {
    "collapsed": false,
    "ExecuteTime": {
     "end_time": "2024-02-01T09:29:13.026034600Z",
     "start_time": "2024-02-01T09:29:12.945485100Z"
    }
   },
   "id": "e92d2b1c57402e06",
   "execution_count": 18
  },
  {
   "cell_type": "markdown",
   "id": "d107d0df5faaef10",
   "metadata": {
    "collapsed": false
   },
   "source": []
  },
  {
   "cell_type": "code",
   "execution_count": null,
   "id": "565c13a4b729d611",
   "metadata": {
    "collapsed": false
   },
   "outputs": [],
   "source": [
    "df.to_csv(\"data_financial.csv\", index=False, header=True)\n"
   ]
  },
  {
   "cell_type": "code",
   "execution_count": null,
   "id": "8f404a9581796d99",
   "metadata": {
    "collapsed": false
   },
   "outputs": [],
   "source": []
  }
 ],
 "metadata": {
  "kernelspec": {
   "display_name": "Python 3 (ipykernel)",
   "language": "python",
   "name": "python3"
  },
  "language_info": {
   "codemirror_mode": {
    "name": "ipython",
    "version": 3
   },
   "file_extension": ".py",
   "mimetype": "text/x-python",
   "name": "python",
   "nbconvert_exporter": "python",
   "pygments_lexer": "ipython3",
   "version": "3.10.13"
  }
 },
 "nbformat": 4,
 "nbformat_minor": 5
}

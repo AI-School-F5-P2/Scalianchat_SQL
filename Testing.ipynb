{
 "cells": [
  {
   "cell_type": "code",
   "execution_count": 78,
   "id": "initial_id",
   "metadata": {
    "ExecuteTime": {
     "end_time": "2024-01-25T16:58:34.627933400Z",
     "start_time": "2024-01-25T16:58:34.613925200Z"
    }
   },
   "outputs": [],
   "source": [
    "import pandas as pd\n",
    "import csv"
   ]
  },
  {
   "cell_type": "code",
   "execution_count": 79,
   "id": "341038bfc872bfe5",
   "metadata": {
    "collapsed": false,
    "ExecuteTime": {
     "end_time": "2024-01-25T16:58:34.811061400Z",
     "start_time": "2024-01-25T16:58:34.632931900Z"
    }
   },
   "outputs": [],
   "source": [
    "#read in the data\n",
    "df = pd.read_csv('data/Financial_Data.csv')"
   ]
  },
  {
   "cell_type": "code",
   "outputs": [
    {
     "data": {
      "text/plain": "                                          ENTITY_NAME  \\\n0                                            KCB Bank   \n1                                            KCB Bank   \n2                                            KCB Bank   \n3                                            KCB Bank   \n4                                            KCB Bank   \n5                                Mountain Valley Bank   \n6                                Mountain Valley Bank   \n7                                Mountain Valley Bank   \n8                                Mountain Valley Bank   \n9   To be considered wholly or substantially secur...   \n10                               Mountain Valley Bank   \n11                                         Byron Bank   \n12                                         Byron Bank   \n13                                         Byron Bank   \n14                                         Byron Bank   \n\n                                                 CITY STATE_ABBREVIATION  \\\n0                                               Lakin                 KS   \n1                                               Lakin                 KS   \n2                                               Lakin                 KS   \n3                                               Lakin                 KS   \n4                                               Lakin                 KS   \n5                                              Dunlap                 TN   \n6                                              Dunlap                 TN   \n7                                              Dunlap                 TN   \n8                                              Dunlap                 TN   \n9    the estimated value of the real estate collat...                NaN   \n10                                             Dunlap                 TN   \n11                                              Byron                 IL   \n12                                              Byron                 IL   \n13                                              Byron                 IL   \n14                                              Byron                 IL   \n\n            VARIABLE_NAME    YEAR         VALUE     UNIT  \\\n0            Total Assets  2007.0  1.094090e+08      USD   \n1          Total deposits  2007.0  8.681800e+07      USD   \n2   % Insured (Estimated)  2007.0  0.000000e+00  Percent   \n3   All Real Estate Loans  2007.0  1.647700e+07      USD   \n4        Total Securities  2007.0  4.361800e+07      USD   \n5            Total Assets  1986.0  2.647800e+07      USD   \n6          Total deposits  1986.0  2.236300e+07      USD   \n7   % Insured (Estimated)  1986.0  0.000000e+00  Percent   \n8   All Real Estate Loans  1986.0  6.890000e+06      USD   \n9                     NaN     NaN           NaN      NaN   \n10       Total Securities  1986.0  1.222200e+07      USD   \n11           Total Assets  2019.0  2.716930e+08      USD   \n12         Total deposits  2019.0  2.395160e+08      USD   \n13  % Insured (Estimated)  2019.0  8.478772e-01  Percent   \n14  All Real Estate Loans  2019.0  1.308050e+08      USD   \n\n                                           DEFINITION  \n0   The sum of all assets owned by the institution...  \n1   The sum of all deposits including demand depos...  \n2   Percent of deposits estimated to be insured.  ...  \n3   Loans secured primarily by real estate, whethe...  \n4   Total securities: the sum of held-to-maturity ...  \n5   The sum of all assets owned by the institution...  \n6   The sum of all deposits including demand depos...  \n7   Percent of deposits estimated to be insured.  ...  \n8   Loans secured primarily by real estate, whethe...  \n9                                                 NaN  \n10  Total securities: the sum of held-to-maturity ...  \n11  The sum of all assets owned by the institution...  \n12  The sum of all deposits including demand depos...  \n13  Percent of deposits estimated to be insured.  ...  \n14  Loans secured primarily by real estate, whethe...  ",
      "text/html": "<div>\n<style scoped>\n    .dataframe tbody tr th:only-of-type {\n        vertical-align: middle;\n    }\n\n    .dataframe tbody tr th {\n        vertical-align: top;\n    }\n\n    .dataframe thead th {\n        text-align: right;\n    }\n</style>\n<table border=\"1\" class=\"dataframe\">\n  <thead>\n    <tr style=\"text-align: right;\">\n      <th></th>\n      <th>ENTITY_NAME</th>\n      <th>CITY</th>\n      <th>STATE_ABBREVIATION</th>\n      <th>VARIABLE_NAME</th>\n      <th>YEAR</th>\n      <th>VALUE</th>\n      <th>UNIT</th>\n      <th>DEFINITION</th>\n    </tr>\n  </thead>\n  <tbody>\n    <tr>\n      <th>0</th>\n      <td>KCB Bank</td>\n      <td>Lakin</td>\n      <td>KS</td>\n      <td>Total Assets</td>\n      <td>2007.0</td>\n      <td>1.094090e+08</td>\n      <td>USD</td>\n      <td>The sum of all assets owned by the institution...</td>\n    </tr>\n    <tr>\n      <th>1</th>\n      <td>KCB Bank</td>\n      <td>Lakin</td>\n      <td>KS</td>\n      <td>Total deposits</td>\n      <td>2007.0</td>\n      <td>8.681800e+07</td>\n      <td>USD</td>\n      <td>The sum of all deposits including demand depos...</td>\n    </tr>\n    <tr>\n      <th>2</th>\n      <td>KCB Bank</td>\n      <td>Lakin</td>\n      <td>KS</td>\n      <td>% Insured (Estimated)</td>\n      <td>2007.0</td>\n      <td>0.000000e+00</td>\n      <td>Percent</td>\n      <td>Percent of deposits estimated to be insured.  ...</td>\n    </tr>\n    <tr>\n      <th>3</th>\n      <td>KCB Bank</td>\n      <td>Lakin</td>\n      <td>KS</td>\n      <td>All Real Estate Loans</td>\n      <td>2007.0</td>\n      <td>1.647700e+07</td>\n      <td>USD</td>\n      <td>Loans secured primarily by real estate, whethe...</td>\n    </tr>\n    <tr>\n      <th>4</th>\n      <td>KCB Bank</td>\n      <td>Lakin</td>\n      <td>KS</td>\n      <td>Total Securities</td>\n      <td>2007.0</td>\n      <td>4.361800e+07</td>\n      <td>USD</td>\n      <td>Total securities: the sum of held-to-maturity ...</td>\n    </tr>\n    <tr>\n      <th>5</th>\n      <td>Mountain Valley Bank</td>\n      <td>Dunlap</td>\n      <td>TN</td>\n      <td>Total Assets</td>\n      <td>1986.0</td>\n      <td>2.647800e+07</td>\n      <td>USD</td>\n      <td>The sum of all assets owned by the institution...</td>\n    </tr>\n    <tr>\n      <th>6</th>\n      <td>Mountain Valley Bank</td>\n      <td>Dunlap</td>\n      <td>TN</td>\n      <td>Total deposits</td>\n      <td>1986.0</td>\n      <td>2.236300e+07</td>\n      <td>USD</td>\n      <td>The sum of all deposits including demand depos...</td>\n    </tr>\n    <tr>\n      <th>7</th>\n      <td>Mountain Valley Bank</td>\n      <td>Dunlap</td>\n      <td>TN</td>\n      <td>% Insured (Estimated)</td>\n      <td>1986.0</td>\n      <td>0.000000e+00</td>\n      <td>Percent</td>\n      <td>Percent of deposits estimated to be insured.  ...</td>\n    </tr>\n    <tr>\n      <th>8</th>\n      <td>Mountain Valley Bank</td>\n      <td>Dunlap</td>\n      <td>TN</td>\n      <td>All Real Estate Loans</td>\n      <td>1986.0</td>\n      <td>6.890000e+06</td>\n      <td>USD</td>\n      <td>Loans secured primarily by real estate, whethe...</td>\n    </tr>\n    <tr>\n      <th>9</th>\n      <td>To be considered wholly or substantially secur...</td>\n      <td>the estimated value of the real estate collat...</td>\n      <td>NaN</td>\n      <td>NaN</td>\n      <td>NaN</td>\n      <td>NaN</td>\n      <td>NaN</td>\n      <td>NaN</td>\n    </tr>\n    <tr>\n      <th>10</th>\n      <td>Mountain Valley Bank</td>\n      <td>Dunlap</td>\n      <td>TN</td>\n      <td>Total Securities</td>\n      <td>1986.0</td>\n      <td>1.222200e+07</td>\n      <td>USD</td>\n      <td>Total securities: the sum of held-to-maturity ...</td>\n    </tr>\n    <tr>\n      <th>11</th>\n      <td>Byron Bank</td>\n      <td>Byron</td>\n      <td>IL</td>\n      <td>Total Assets</td>\n      <td>2019.0</td>\n      <td>2.716930e+08</td>\n      <td>USD</td>\n      <td>The sum of all assets owned by the institution...</td>\n    </tr>\n    <tr>\n      <th>12</th>\n      <td>Byron Bank</td>\n      <td>Byron</td>\n      <td>IL</td>\n      <td>Total deposits</td>\n      <td>2019.0</td>\n      <td>2.395160e+08</td>\n      <td>USD</td>\n      <td>The sum of all deposits including demand depos...</td>\n    </tr>\n    <tr>\n      <th>13</th>\n      <td>Byron Bank</td>\n      <td>Byron</td>\n      <td>IL</td>\n      <td>% Insured (Estimated)</td>\n      <td>2019.0</td>\n      <td>8.478772e-01</td>\n      <td>Percent</td>\n      <td>Percent of deposits estimated to be insured.  ...</td>\n    </tr>\n    <tr>\n      <th>14</th>\n      <td>Byron Bank</td>\n      <td>Byron</td>\n      <td>IL</td>\n      <td>All Real Estate Loans</td>\n      <td>2019.0</td>\n      <td>1.308050e+08</td>\n      <td>USD</td>\n      <td>Loans secured primarily by real estate, whethe...</td>\n    </tr>\n  </tbody>\n</table>\n</div>"
     },
     "execution_count": 80,
     "metadata": {},
     "output_type": "execute_result"
    }
   ],
   "source": [
    "df.head(15)"
   ],
   "metadata": {
    "collapsed": false,
    "ExecuteTime": {
     "end_time": "2024-01-25T16:58:34.850092700Z",
     "start_time": "2024-01-25T16:58:34.813378500Z"
    }
   },
   "id": "ba748cbe86f1894f",
   "execution_count": 80
  },
  {
   "cell_type": "code",
   "outputs": [],
   "source": [],
   "metadata": {
    "collapsed": false,
    "ExecuteTime": {
     "end_time": "2024-01-25T16:58:34.874073300Z",
     "start_time": "2024-01-25T16:58:34.843073500Z"
    }
   },
   "id": "e83905431477169c",
   "execution_count": 80
  },
  {
   "cell_type": "code",
   "outputs": [],
   "source": [
    "# Aplica la eliminación de \\n solo para los registros que cumplen la condición\n",
    "df.loc[df['VARIABLE_NAME'] == 'All Real Estate Loans', 'DEFINITION'] = df.loc[df['VARIABLE_NAME'] == 'All Real Estate Loans', 'DEFINITION'].str.replace('\\n', '')"
   ],
   "metadata": {
    "collapsed": false,
    "ExecuteTime": {
     "end_time": "2024-01-25T16:58:34.936081100Z",
     "start_time": "2024-01-25T16:58:34.858074500Z"
    }
   },
   "id": "bee7e24a8430a476",
   "execution_count": 81
  },
  {
   "cell_type": "markdown",
   "source": [],
   "metadata": {
    "collapsed": false
   },
   "id": "dce120fd66b18f12"
  },
  {
   "cell_type": "code",
   "outputs": [],
   "source": [
    "# Guarda el DataFrame actualizado en un nuevo archivo CSV\n",
    "df.to_csv('datos_actualizados.csv', index=False, header=True)"
   ],
   "metadata": {
    "collapsed": false,
    "ExecuteTime": {
     "end_time": "2024-01-25T16:58:35.331353200Z",
     "start_time": "2024-01-25T16:58:34.905076900Z"
    }
   },
   "id": "ae28f4ae5c16f8fd",
   "execution_count": 82
  },
  {
   "cell_type": "code",
   "outputs": [],
   "source": [
    "df_final = pd.read_csv('data/datos_actualizados.csv')"
   ],
   "metadata": {
    "collapsed": false,
    "ExecuteTime": {
     "end_time": "2024-01-25T16:58:35.513778700Z",
     "start_time": "2024-01-25T16:58:35.330349Z"
    }
   },
   "id": "f21e4e07ffb556fc",
   "execution_count": 83
  },
  {
   "cell_type": "code",
   "outputs": [
    {
     "data": {
      "text/plain": "            ENTITY_NAME    CITY STATE_ABBREVIATION          VARIABLE_NAME  \\\n0              KCB Bank   Lakin                 KS           Total Assets   \n1              KCB Bank   Lakin                 KS         Total deposits   \n2              KCB Bank   Lakin                 KS  % Insured (Estimated)   \n3              KCB Bank   Lakin                 KS  All Real Estate Loans   \n4              KCB Bank   Lakin                 KS       Total Securities   \n5  Mountain Valley Bank  Dunlap                 TN           Total Assets   \n6  Mountain Valley Bank  Dunlap                 TN         Total deposits   \n7  Mountain Valley Bank  Dunlap                 TN  % Insured (Estimated)   \n8  Mountain Valley Bank  Dunlap                 TN  All Real Estate Loans   \n9  Mountain Valley Bank  Dunlap                 TN       Total Securities   \n\n   YEAR        VALUE     UNIT  \\\n0  2007  109409000.0      USD   \n1  2007   86818000.0      USD   \n2  2007          0.0  Percent   \n3  2007   16477000.0      USD   \n4  2007   43618000.0      USD   \n5  1986   26478000.0      USD   \n6  1986   22363000.0      USD   \n7  1986          0.0  Percent   \n8  1986    6890000.0      USD   \n9  1986   12222000.0      USD   \n\n                                          DEFINITION  \n0  The sum of all assets owned by the institution...  \n1  The sum of all deposits including demand depos...  \n2  Percent of deposits estimated to be insured.  ...  \n3  Loans secured primarily by real estate, whethe...  \n4  Total securities: the sum of held-to-maturity ...  \n5  The sum of all assets owned by the institution...  \n6  The sum of all deposits including demand depos...  \n7  Percent of deposits estimated to be insured.  ...  \n8  Loans secured primarily by real estate, whethe...  \n9  Total securities: the sum of held-to-maturity ...  ",
      "text/html": "<div>\n<style scoped>\n    .dataframe tbody tr th:only-of-type {\n        vertical-align: middle;\n    }\n\n    .dataframe tbody tr th {\n        vertical-align: top;\n    }\n\n    .dataframe thead th {\n        text-align: right;\n    }\n</style>\n<table border=\"1\" class=\"dataframe\">\n  <thead>\n    <tr style=\"text-align: right;\">\n      <th></th>\n      <th>ENTITY_NAME</th>\n      <th>CITY</th>\n      <th>STATE_ABBREVIATION</th>\n      <th>VARIABLE_NAME</th>\n      <th>YEAR</th>\n      <th>VALUE</th>\n      <th>UNIT</th>\n      <th>DEFINITION</th>\n    </tr>\n  </thead>\n  <tbody>\n    <tr>\n      <th>0</th>\n      <td>KCB Bank</td>\n      <td>Lakin</td>\n      <td>KS</td>\n      <td>Total Assets</td>\n      <td>2007</td>\n      <td>109409000.0</td>\n      <td>USD</td>\n      <td>The sum of all assets owned by the institution...</td>\n    </tr>\n    <tr>\n      <th>1</th>\n      <td>KCB Bank</td>\n      <td>Lakin</td>\n      <td>KS</td>\n      <td>Total deposits</td>\n      <td>2007</td>\n      <td>86818000.0</td>\n      <td>USD</td>\n      <td>The sum of all deposits including demand depos...</td>\n    </tr>\n    <tr>\n      <th>2</th>\n      <td>KCB Bank</td>\n      <td>Lakin</td>\n      <td>KS</td>\n      <td>% Insured (Estimated)</td>\n      <td>2007</td>\n      <td>0.0</td>\n      <td>Percent</td>\n      <td>Percent of deposits estimated to be insured.  ...</td>\n    </tr>\n    <tr>\n      <th>3</th>\n      <td>KCB Bank</td>\n      <td>Lakin</td>\n      <td>KS</td>\n      <td>All Real Estate Loans</td>\n      <td>2007</td>\n      <td>16477000.0</td>\n      <td>USD</td>\n      <td>Loans secured primarily by real estate, whethe...</td>\n    </tr>\n    <tr>\n      <th>4</th>\n      <td>KCB Bank</td>\n      <td>Lakin</td>\n      <td>KS</td>\n      <td>Total Securities</td>\n      <td>2007</td>\n      <td>43618000.0</td>\n      <td>USD</td>\n      <td>Total securities: the sum of held-to-maturity ...</td>\n    </tr>\n    <tr>\n      <th>5</th>\n      <td>Mountain Valley Bank</td>\n      <td>Dunlap</td>\n      <td>TN</td>\n      <td>Total Assets</td>\n      <td>1986</td>\n      <td>26478000.0</td>\n      <td>USD</td>\n      <td>The sum of all assets owned by the institution...</td>\n    </tr>\n    <tr>\n      <th>6</th>\n      <td>Mountain Valley Bank</td>\n      <td>Dunlap</td>\n      <td>TN</td>\n      <td>Total deposits</td>\n      <td>1986</td>\n      <td>22363000.0</td>\n      <td>USD</td>\n      <td>The sum of all deposits including demand depos...</td>\n    </tr>\n    <tr>\n      <th>7</th>\n      <td>Mountain Valley Bank</td>\n      <td>Dunlap</td>\n      <td>TN</td>\n      <td>% Insured (Estimated)</td>\n      <td>1986</td>\n      <td>0.0</td>\n      <td>Percent</td>\n      <td>Percent of deposits estimated to be insured.  ...</td>\n    </tr>\n    <tr>\n      <th>8</th>\n      <td>Mountain Valley Bank</td>\n      <td>Dunlap</td>\n      <td>TN</td>\n      <td>All Real Estate Loans</td>\n      <td>1986</td>\n      <td>6890000.0</td>\n      <td>USD</td>\n      <td>Loans secured primarily by real estate, whethe...</td>\n    </tr>\n    <tr>\n      <th>9</th>\n      <td>Mountain Valley Bank</td>\n      <td>Dunlap</td>\n      <td>TN</td>\n      <td>Total Securities</td>\n      <td>1986</td>\n      <td>12222000.0</td>\n      <td>USD</td>\n      <td>Total securities: the sum of held-to-maturity ...</td>\n    </tr>\n  </tbody>\n</table>\n</div>"
     },
     "execution_count": 84,
     "metadata": {},
     "output_type": "execute_result"
    }
   ],
   "source": [
    "df_final.head(10)"
   ],
   "metadata": {
    "collapsed": false,
    "ExecuteTime": {
     "end_time": "2024-01-25T16:58:35.534814200Z",
     "start_time": "2024-01-25T16:58:35.513778700Z"
    }
   },
   "id": "734d31605258a56c",
   "execution_count": 84
  },
  {
   "cell_type": "code",
   "execution_count": 85,
   "id": "36bdaecb547d5129",
   "metadata": {
    "collapsed": false,
    "ExecuteTime": {
     "end_time": "2024-01-25T16:58:35.574330600Z",
     "start_time": "2024-01-25T16:58:35.529815600Z"
    }
   },
   "outputs": [
    {
     "data": {
      "text/plain": "dtype('int64')"
     },
     "execution_count": 85,
     "metadata": {},
     "output_type": "execute_result"
    }
   ],
   "source": [
    "df_final['YEAR'].dtypes\n"
   ]
  },
  {
   "cell_type": "code",
   "execution_count": 86,
   "id": "a86b140eb51a301b",
   "metadata": {
    "collapsed": false,
    "ExecuteTime": {
     "end_time": "2024-01-25T16:58:35.591330100Z",
     "start_time": "2024-01-25T16:58:35.545331500Z"
    }
   },
   "outputs": [
    {
     "data": {
      "text/plain": "ENTITY_NAME            object\nCITY                   object\nSTATE_ABBREVIATION     object\nVARIABLE_NAME          object\nYEAR                    int64\nVALUE                 float64\nUNIT                   object\nDEFINITION             object\ndtype: object"
     },
     "execution_count": 86,
     "metadata": {},
     "output_type": "execute_result"
    }
   ],
   "source": [
    "df_final.dtypes"
   ]
  },
  {
   "cell_type": "code",
   "execution_count": 87,
   "id": "3f57bf0212c987a0",
   "metadata": {
    "collapsed": false,
    "ExecuteTime": {
     "end_time": "2024-01-25T16:58:35.662692800Z",
     "start_time": "2024-01-25T16:58:35.562330800Z"
    }
   },
   "outputs": [
    {
     "name": "stdout",
     "output_type": "stream",
     "text": [
      "<class 'pandas.core.frame.DataFrame'>\n",
      "RangeIndex: 50000 entries, 0 to 49999\n",
      "Data columns (total 8 columns):\n",
      " #   Column              Non-Null Count  Dtype  \n",
      "---  ------              --------------  -----  \n",
      " 0   ENTITY_NAME         50000 non-null  object \n",
      " 1   CITY                50000 non-null  object \n",
      " 2   STATE_ABBREVIATION  50000 non-null  object \n",
      " 3   VARIABLE_NAME       50000 non-null  object \n",
      " 4   YEAR                50000 non-null  int64  \n",
      " 5   VALUE               50000 non-null  float64\n",
      " 6   UNIT                50000 non-null  object \n",
      " 7   DEFINITION          50000 non-null  object \n",
      "dtypes: float64(1), int64(1), object(6)\n",
      "memory usage: 3.1+ MB\n"
     ]
    }
   ],
   "source": [
    "df_final.info()"
   ]
  },
  {
   "cell_type": "markdown",
   "id": "d107d0df5faaef10",
   "metadata": {
    "collapsed": false
   },
   "source": []
  },
  {
   "cell_type": "code",
   "execution_count": 88,
   "id": "565c13a4b729d611",
   "metadata": {
    "collapsed": false,
    "ExecuteTime": {
     "end_time": "2024-01-25T16:58:36.003937500Z",
     "start_time": "2024-01-25T16:58:35.590328300Z"
    }
   },
   "outputs": [],
   "source": [
    "df.to_csv(\"data_financial.csv\", index=False, header=True)\n"
   ]
  },
  {
   "cell_type": "code",
   "execution_count": 88,
   "id": "8f404a9581796d99",
   "metadata": {
    "collapsed": false,
    "ExecuteTime": {
     "end_time": "2024-01-25T16:58:36.016924500Z",
     "start_time": "2024-01-25T16:58:36.002926500Z"
    }
   },
   "outputs": [],
   "source": []
  }
 ],
 "metadata": {
  "kernelspec": {
   "display_name": "Python 3 (ipykernel)",
   "language": "python",
   "name": "python3"
  },
  "language_info": {
   "codemirror_mode": {
    "name": "ipython",
    "version": 3
   },
   "file_extension": ".py",
   "mimetype": "text/x-python",
   "name": "python",
   "nbconvert_exporter": "python",
   "pygments_lexer": "ipython3",
   "version": "3.10.13"
  }
 },
 "nbformat": 4,
 "nbformat_minor": 5
}

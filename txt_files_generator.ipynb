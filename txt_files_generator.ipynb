{
 "cells": [
  {
   "cell_type": "code",
   "execution_count": 2,
   "metadata": {},
   "outputs": [],
   "source": [
    "import pandas as pd\n",
    "import json\n",
    "import os"
   ]
  },
  {
   "cell_type": "code",
   "execution_count": 3,
   "metadata": {},
   "outputs": [],
   "source": [
    "# Import cleaned data\n",
    "df = pd.read_csv('data/datos_actualizados.csv')"
   ]
  },
  {
   "cell_type": "code",
   "execution_count": 4,
   "metadata": {},
   "outputs": [
    {
     "data": {
      "text/html": [
       "<div>\n",
       "<style scoped>\n",
       "    .dataframe tbody tr th:only-of-type {\n",
       "        vertical-align: middle;\n",
       "    }\n",
       "\n",
       "    .dataframe tbody tr th {\n",
       "        vertical-align: top;\n",
       "    }\n",
       "\n",
       "    .dataframe thead th {\n",
       "        text-align: right;\n",
       "    }\n",
       "</style>\n",
       "<table border=\"1\" class=\"dataframe\">\n",
       "  <thead>\n",
       "    <tr style=\"text-align: right;\">\n",
       "      <th></th>\n",
       "      <th>entity_name</th>\n",
       "      <th>city</th>\n",
       "      <th>state_abbreviation</th>\n",
       "      <th>variable_name</th>\n",
       "      <th>year</th>\n",
       "      <th>value</th>\n",
       "      <th>unit</th>\n",
       "      <th>definition</th>\n",
       "    </tr>\n",
       "  </thead>\n",
       "  <tbody>\n",
       "    <tr>\n",
       "      <th>0</th>\n",
       "      <td>kcb bank</td>\n",
       "      <td>lakin</td>\n",
       "      <td>KS</td>\n",
       "      <td>total assets</td>\n",
       "      <td>2007</td>\n",
       "      <td>109409000.0</td>\n",
       "      <td>usd</td>\n",
       "      <td>the sum of all assets owned by the institution...</td>\n",
       "    </tr>\n",
       "    <tr>\n",
       "      <th>1</th>\n",
       "      <td>kcb bank</td>\n",
       "      <td>lakin</td>\n",
       "      <td>KS</td>\n",
       "      <td>total deposits</td>\n",
       "      <td>2007</td>\n",
       "      <td>86818000.0</td>\n",
       "      <td>usd</td>\n",
       "      <td>the sum of all deposits including demand depos...</td>\n",
       "    </tr>\n",
       "    <tr>\n",
       "      <th>2</th>\n",
       "      <td>kcb bank</td>\n",
       "      <td>lakin</td>\n",
       "      <td>KS</td>\n",
       "      <td>% insured (estimated)</td>\n",
       "      <td>2007</td>\n",
       "      <td>0.0</td>\n",
       "      <td>percent</td>\n",
       "      <td>percent of deposits estimated to be insured.  ...</td>\n",
       "    </tr>\n",
       "    <tr>\n",
       "      <th>3</th>\n",
       "      <td>kcb bank</td>\n",
       "      <td>lakin</td>\n",
       "      <td>KS</td>\n",
       "      <td>all real estate loans</td>\n",
       "      <td>2007</td>\n",
       "      <td>16477000.0</td>\n",
       "      <td>usd</td>\n",
       "      <td>loans secured primarily by real estate, whethe...</td>\n",
       "    </tr>\n",
       "    <tr>\n",
       "      <th>4</th>\n",
       "      <td>kcb bank</td>\n",
       "      <td>lakin</td>\n",
       "      <td>KS</td>\n",
       "      <td>total securities</td>\n",
       "      <td>2007</td>\n",
       "      <td>43618000.0</td>\n",
       "      <td>usd</td>\n",
       "      <td>total securities: the sum of held-to-maturity ...</td>\n",
       "    </tr>\n",
       "    <tr>\n",
       "      <th>5</th>\n",
       "      <td>mountain valley bank</td>\n",
       "      <td>dunlap</td>\n",
       "      <td>TN</td>\n",
       "      <td>total assets</td>\n",
       "      <td>1986</td>\n",
       "      <td>26478000.0</td>\n",
       "      <td>usd</td>\n",
       "      <td>the sum of all assets owned by the institution...</td>\n",
       "    </tr>\n",
       "    <tr>\n",
       "      <th>6</th>\n",
       "      <td>mountain valley bank</td>\n",
       "      <td>dunlap</td>\n",
       "      <td>TN</td>\n",
       "      <td>total deposits</td>\n",
       "      <td>1986</td>\n",
       "      <td>22363000.0</td>\n",
       "      <td>usd</td>\n",
       "      <td>the sum of all deposits including demand depos...</td>\n",
       "    </tr>\n",
       "    <tr>\n",
       "      <th>7</th>\n",
       "      <td>mountain valley bank</td>\n",
       "      <td>dunlap</td>\n",
       "      <td>TN</td>\n",
       "      <td>% insured (estimated)</td>\n",
       "      <td>1986</td>\n",
       "      <td>0.0</td>\n",
       "      <td>percent</td>\n",
       "      <td>percent of deposits estimated to be insured.  ...</td>\n",
       "    </tr>\n",
       "    <tr>\n",
       "      <th>8</th>\n",
       "      <td>mountain valley bank</td>\n",
       "      <td>dunlap</td>\n",
       "      <td>TN</td>\n",
       "      <td>all real estate loans</td>\n",
       "      <td>1986</td>\n",
       "      <td>6890000.0</td>\n",
       "      <td>usd</td>\n",
       "      <td>loans secured primarily by real estate, whethe...</td>\n",
       "    </tr>\n",
       "    <tr>\n",
       "      <th>9</th>\n",
       "      <td>mountain valley bank</td>\n",
       "      <td>dunlap</td>\n",
       "      <td>TN</td>\n",
       "      <td>total securities</td>\n",
       "      <td>1986</td>\n",
       "      <td>12222000.0</td>\n",
       "      <td>usd</td>\n",
       "      <td>total securities: the sum of held-to-maturity ...</td>\n",
       "    </tr>\n",
       "  </tbody>\n",
       "</table>\n",
       "</div>"
      ],
      "text/plain": [
       "            entity_name    city state_abbreviation          variable_name  \\\n",
       "0              kcb bank   lakin                 KS           total assets   \n",
       "1              kcb bank   lakin                 KS         total deposits   \n",
       "2              kcb bank   lakin                 KS  % insured (estimated)   \n",
       "3              kcb bank   lakin                 KS  all real estate loans   \n",
       "4              kcb bank   lakin                 KS       total securities   \n",
       "5  mountain valley bank  dunlap                 TN           total assets   \n",
       "6  mountain valley bank  dunlap                 TN         total deposits   \n",
       "7  mountain valley bank  dunlap                 TN  % insured (estimated)   \n",
       "8  mountain valley bank  dunlap                 TN  all real estate loans   \n",
       "9  mountain valley bank  dunlap                 TN       total securities   \n",
       "\n",
       "   year        value     unit  \\\n",
       "0  2007  109409000.0      usd   \n",
       "1  2007   86818000.0      usd   \n",
       "2  2007          0.0  percent   \n",
       "3  2007   16477000.0      usd   \n",
       "4  2007   43618000.0      usd   \n",
       "5  1986   26478000.0      usd   \n",
       "6  1986   22363000.0      usd   \n",
       "7  1986          0.0  percent   \n",
       "8  1986    6890000.0      usd   \n",
       "9  1986   12222000.0      usd   \n",
       "\n",
       "                                          definition  \n",
       "0  the sum of all assets owned by the institution...  \n",
       "1  the sum of all deposits including demand depos...  \n",
       "2  percent of deposits estimated to be insured.  ...  \n",
       "3  loans secured primarily by real estate, whethe...  \n",
       "4  total securities: the sum of held-to-maturity ...  \n",
       "5  the sum of all assets owned by the institution...  \n",
       "6  the sum of all deposits including demand depos...  \n",
       "7  percent of deposits estimated to be insured.  ...  \n",
       "8  loans secured primarily by real estate, whethe...  \n",
       "9  total securities: the sum of held-to-maturity ...  "
      ]
     },
     "execution_count": 4,
     "metadata": {},
     "output_type": "execute_result"
    }
   ],
   "source": [
    "# Verifying the data\n",
    "df.head(10)"
   ]
  },
  {
   "cell_type": "markdown",
   "metadata": {},
   "source": [
    "### Entity Name Column"
   ]
  },
  {
   "cell_type": "code",
   "execution_count": 5,
   "metadata": {},
   "outputs": [],
   "source": [
    "# List with unique entity names\n",
    "unique_entity_name = df['entity_name'].unique()"
   ]
  },
  {
   "cell_type": "code",
   "execution_count": 6,
   "metadata": {},
   "outputs": [],
   "source": [
    "id_unique_entity_name = list(range(1, len(unique_entity_name) + 1))"
   ]
  },
  {
   "cell_type": "code",
   "execution_count": 7,
   "metadata": {},
   "outputs": [],
   "source": [
    "# Dataframe with unique entity names and their id\n",
    "df_unique_entity_name = pd.DataFrame({'id_unique_entity_name': id_unique_entity_name, 'unique_entity_name': unique_entity_name})"
   ]
  },
  {
   "cell_type": "code",
   "execution_count": 8,
   "metadata": {},
   "outputs": [
    {
     "data": {
      "text/html": [
       "<div>\n",
       "<style scoped>\n",
       "    .dataframe tbody tr th:only-of-type {\n",
       "        vertical-align: middle;\n",
       "    }\n",
       "\n",
       "    .dataframe tbody tr th {\n",
       "        vertical-align: top;\n",
       "    }\n",
       "\n",
       "    .dataframe thead th {\n",
       "        text-align: right;\n",
       "    }\n",
       "</style>\n",
       "<table border=\"1\" class=\"dataframe\">\n",
       "  <thead>\n",
       "    <tr style=\"text-align: right;\">\n",
       "      <th></th>\n",
       "      <th>id_unique_entity_name</th>\n",
       "      <th>unique_entity_name</th>\n",
       "    </tr>\n",
       "  </thead>\n",
       "  <tbody>\n",
       "    <tr>\n",
       "      <th>0</th>\n",
       "      <td>1</td>\n",
       "      <td>kcb bank</td>\n",
       "    </tr>\n",
       "    <tr>\n",
       "      <th>1</th>\n",
       "      <td>2</td>\n",
       "      <td>mountain valley bank</td>\n",
       "    </tr>\n",
       "    <tr>\n",
       "      <th>2</th>\n",
       "      <td>3</td>\n",
       "      <td>byron bank</td>\n",
       "    </tr>\n",
       "    <tr>\n",
       "      <th>3</th>\n",
       "      <td>4</td>\n",
       "      <td>banner banks</td>\n",
       "    </tr>\n",
       "    <tr>\n",
       "      <th>4</th>\n",
       "      <td>5</td>\n",
       "      <td>sallie mae bank</td>\n",
       "    </tr>\n",
       "  </tbody>\n",
       "</table>\n",
       "</div>"
      ],
      "text/plain": [
       "   id_unique_entity_name    unique_entity_name\n",
       "0                      1              kcb bank\n",
       "1                      2  mountain valley bank\n",
       "2                      3            byron bank\n",
       "3                      4          banner banks\n",
       "4                      5       sallie mae bank"
      ]
     },
     "execution_count": 8,
     "metadata": {},
     "output_type": "execute_result"
    }
   ],
   "source": [
    "# Checking the data\n",
    "df_unique_entity_name.head()"
   ]
  },
  {
   "cell_type": "code",
   "execution_count": 9,
   "metadata": {},
   "outputs": [
    {
     "name": "stdout",
     "output_type": "stream",
     "text": [
      "<class 'pandas.core.frame.DataFrame'>\n",
      "RangeIndex: 2798 entries, 0 to 2797\n",
      "Data columns (total 2 columns):\n",
      " #   Column                 Non-Null Count  Dtype \n",
      "---  ------                 --------------  ----- \n",
      " 0   id_unique_entity_name  2798 non-null   int64 \n",
      " 1   unique_entity_name     2798 non-null   object\n",
      "dtypes: int64(1), object(1)\n",
      "memory usage: 43.8+ KB\n"
     ]
    }
   ],
   "source": [
    "df_unique_entity_name.info()"
   ]
  },
  {
   "cell_type": "code",
   "execution_count": 10,
   "metadata": {},
   "outputs": [
    {
     "name": "stdout",
     "output_type": "stream",
     "text": [
      "Files created successfully data/txt_entity_name/\n"
     ]
    }
   ],
   "source": [
    "folder_path = 'data/txt_entity_name/'\n",
    "\n",
    "# Iterate over each row in the dataframe\n",
    "for index, row in df_unique_entity_name.iterrows():\n",
    "    # Define the name of the file\n",
    "    file_name = os.path.join(folder_path, f'entity_name_{row[\"id_unique_entity_name\"]}.txt')\n",
    "    \n",
    "    # Build a dictionary with the data\n",
    "    content = f'entity_name: {row[\"unique_entity_name\"]}'\n",
    "    \n",
    "    # Write the dictionary as a json file in the data folder\n",
    "    with open(file_name, \"w\") as file:\n",
    "        file.write(content)\n",
    "\n",
    "print('Files created successfully', folder_path)"
   ]
  },
  {
   "cell_type": "markdown",
   "metadata": {},
   "source": [
    "### City Column"
   ]
  },
  {
   "cell_type": "code",
   "execution_count": 11,
   "metadata": {},
   "outputs": [],
   "source": [
    "unique_city = df['city'].unique()"
   ]
  },
  {
   "cell_type": "code",
   "execution_count": 12,
   "metadata": {},
   "outputs": [],
   "source": [
    "id_unique_city = list(range(1, len(unique_city) + 1))"
   ]
  },
  {
   "cell_type": "code",
   "execution_count": 13,
   "metadata": {},
   "outputs": [],
   "source": [
    "df_unique_city = pd.DataFrame({'id_unique_city': id_unique_city, 'unique_city': unique_city})"
   ]
  },
  {
   "cell_type": "code",
   "execution_count": 14,
   "metadata": {},
   "outputs": [
    {
     "data": {
      "text/html": [
       "<div>\n",
       "<style scoped>\n",
       "    .dataframe tbody tr th:only-of-type {\n",
       "        vertical-align: middle;\n",
       "    }\n",
       "\n",
       "    .dataframe tbody tr th {\n",
       "        vertical-align: top;\n",
       "    }\n",
       "\n",
       "    .dataframe thead th {\n",
       "        text-align: right;\n",
       "    }\n",
       "</style>\n",
       "<table border=\"1\" class=\"dataframe\">\n",
       "  <thead>\n",
       "    <tr style=\"text-align: right;\">\n",
       "      <th></th>\n",
       "      <th>id_unique_city</th>\n",
       "      <th>unique_city</th>\n",
       "    </tr>\n",
       "  </thead>\n",
       "  <tbody>\n",
       "    <tr>\n",
       "      <th>0</th>\n",
       "      <td>1</td>\n",
       "      <td>lakin</td>\n",
       "    </tr>\n",
       "    <tr>\n",
       "      <th>1</th>\n",
       "      <td>2</td>\n",
       "      <td>dunlap</td>\n",
       "    </tr>\n",
       "    <tr>\n",
       "      <th>2</th>\n",
       "      <td>3</td>\n",
       "      <td>byron</td>\n",
       "    </tr>\n",
       "    <tr>\n",
       "      <th>3</th>\n",
       "      <td>4</td>\n",
       "      <td>birnamwood</td>\n",
       "    </tr>\n",
       "    <tr>\n",
       "      <th>4</th>\n",
       "      <td>5</td>\n",
       "      <td>salt lake city</td>\n",
       "    </tr>\n",
       "  </tbody>\n",
       "</table>\n",
       "</div>"
      ],
      "text/plain": [
       "   id_unique_city     unique_city\n",
       "0               1           lakin\n",
       "1               2          dunlap\n",
       "2               3           byron\n",
       "3               4      birnamwood\n",
       "4               5  salt lake city"
      ]
     },
     "execution_count": 14,
     "metadata": {},
     "output_type": "execute_result"
    }
   ],
   "source": [
    "df_unique_city.head()"
   ]
  },
  {
   "cell_type": "code",
   "execution_count": 15,
   "metadata": {},
   "outputs": [
    {
     "name": "stdout",
     "output_type": "stream",
     "text": [
      "<class 'pandas.core.frame.DataFrame'>\n",
      "RangeIndex: 2003 entries, 0 to 2002\n",
      "Data columns (total 2 columns):\n",
      " #   Column          Non-Null Count  Dtype \n",
      "---  ------          --------------  ----- \n",
      " 0   id_unique_city  2003 non-null   int64 \n",
      " 1   unique_city     2003 non-null   object\n",
      "dtypes: int64(1), object(1)\n",
      "memory usage: 31.4+ KB\n"
     ]
    }
   ],
   "source": [
    "df_unique_city.info()"
   ]
  },
  {
   "cell_type": "code",
   "execution_count": 16,
   "metadata": {},
   "outputs": [
    {
     "name": "stdout",
     "output_type": "stream",
     "text": [
      "Files created successfully data/txt_city/\n"
     ]
    }
   ],
   "source": [
    "folder_path = 'data/txt_city/'\n",
    "\n",
    "# Iterate over each row in the dataframe\n",
    "for index, row in df_unique_city.iterrows():\n",
    "    # Define the name of the file\n",
    "    file_name = os.path.join(folder_path, f'city_{row[\"id_unique_city\"]}.txt')\n",
    "    \n",
    "    # Build a dictionary with the data\n",
    "    content = f'city: {row[\"unique_city\"]}'\n",
    "    \n",
    "    # Write the dictionary as a json file in the data folder\n",
    "    with open(file_name, \"w\") as file:\n",
    "        file.write(content)\n",
    "\n",
    "print('Files created successfully', folder_path)"
   ]
  },
  {
   "cell_type": "markdown",
   "metadata": {},
   "source": [
    "### State Column"
   ]
  },
  {
   "cell_type": "code",
   "execution_count": 17,
   "metadata": {},
   "outputs": [],
   "source": [
    "unique_state = df['state_abbreviation'].unique()"
   ]
  },
  {
   "cell_type": "code",
   "execution_count": 18,
   "metadata": {},
   "outputs": [],
   "source": [
    "id_unique_state = list(range(1, len(unique_state) + 1))"
   ]
  },
  {
   "cell_type": "code",
   "execution_count": 19,
   "metadata": {},
   "outputs": [],
   "source": [
    "df_unique_state = pd.DataFrame({'id_unique_state': id_unique_state, 'unique_state': unique_state})"
   ]
  },
  {
   "cell_type": "code",
   "execution_count": 20,
   "metadata": {},
   "outputs": [
    {
     "data": {
      "text/html": [
       "<div>\n",
       "<style scoped>\n",
       "    .dataframe tbody tr th:only-of-type {\n",
       "        vertical-align: middle;\n",
       "    }\n",
       "\n",
       "    .dataframe tbody tr th {\n",
       "        vertical-align: top;\n",
       "    }\n",
       "\n",
       "    .dataframe thead th {\n",
       "        text-align: right;\n",
       "    }\n",
       "</style>\n",
       "<table border=\"1\" class=\"dataframe\">\n",
       "  <thead>\n",
       "    <tr style=\"text-align: right;\">\n",
       "      <th></th>\n",
       "      <th>id_unique_state</th>\n",
       "      <th>unique_state</th>\n",
       "    </tr>\n",
       "  </thead>\n",
       "  <tbody>\n",
       "    <tr>\n",
       "      <th>0</th>\n",
       "      <td>1</td>\n",
       "      <td>KS</td>\n",
       "    </tr>\n",
       "    <tr>\n",
       "      <th>1</th>\n",
       "      <td>2</td>\n",
       "      <td>TN</td>\n",
       "    </tr>\n",
       "    <tr>\n",
       "      <th>2</th>\n",
       "      <td>3</td>\n",
       "      <td>IL</td>\n",
       "    </tr>\n",
       "    <tr>\n",
       "      <th>3</th>\n",
       "      <td>4</td>\n",
       "      <td>WI</td>\n",
       "    </tr>\n",
       "    <tr>\n",
       "      <th>4</th>\n",
       "      <td>5</td>\n",
       "      <td>UT</td>\n",
       "    </tr>\n",
       "  </tbody>\n",
       "</table>\n",
       "</div>"
      ],
      "text/plain": [
       "   id_unique_state unique_state\n",
       "0                1           KS\n",
       "1                2           TN\n",
       "2                3           IL\n",
       "3                4           WI\n",
       "4                5           UT"
      ]
     },
     "execution_count": 20,
     "metadata": {},
     "output_type": "execute_result"
    }
   ],
   "source": [
    "df_unique_state.head()"
   ]
  },
  {
   "cell_type": "code",
   "execution_count": 21,
   "metadata": {},
   "outputs": [
    {
     "name": "stdout",
     "output_type": "stream",
     "text": [
      "<class 'pandas.core.frame.DataFrame'>\n",
      "RangeIndex: 54 entries, 0 to 53\n",
      "Data columns (total 2 columns):\n",
      " #   Column           Non-Null Count  Dtype \n",
      "---  ------           --------------  ----- \n",
      " 0   id_unique_state  54 non-null     int64 \n",
      " 1   unique_state     54 non-null     object\n",
      "dtypes: int64(1), object(1)\n",
      "memory usage: 992.0+ bytes\n"
     ]
    }
   ],
   "source": [
    "df_unique_state.info()"
   ]
  },
  {
   "cell_type": "code",
   "execution_count": 22,
   "metadata": {},
   "outputs": [
    {
     "name": "stdout",
     "output_type": "stream",
     "text": [
      "Files created successfully data/txt_state/\n"
     ]
    }
   ],
   "source": [
    "folder_path = 'data/txt_state/'\n",
    "\n",
    "# Iterate over each row in the dataframe\n",
    "for index, row in df_unique_state.iterrows():\n",
    "    # Define the name of the file\n",
    "    file_name = os.path.join(folder_path, f'state_{row[\"id_unique_state\"]}.txt')\n",
    "    \n",
    "    # Build a dictionary with the data\n",
    "    content = f'state: {row[\"unique_state\"]}'\n",
    "    \n",
    "    # Write the dictionary as a json file in the data folder\n",
    "    with open(file_name, \"w\") as file:\n",
    "        file.write(content)\n",
    "\n",
    "print('Files created successfully', folder_path)"
   ]
  },
  {
   "cell_type": "markdown",
   "metadata": {},
   "source": [
    "### Unit Column"
   ]
  },
  {
   "cell_type": "code",
   "execution_count": 23,
   "metadata": {},
   "outputs": [],
   "source": [
    "unique_unit = df['unit'].unique()"
   ]
  },
  {
   "cell_type": "code",
   "execution_count": 24,
   "metadata": {},
   "outputs": [],
   "source": [
    "id_unique_unit = list(range(1, len(unique_unit) + 1))"
   ]
  },
  {
   "cell_type": "code",
   "execution_count": 25,
   "metadata": {},
   "outputs": [],
   "source": [
    "df_unique_unit = pd.DataFrame({'id_unique_unit': id_unique_unit, 'unique_unit': unique_unit})"
   ]
  },
  {
   "cell_type": "code",
   "execution_count": 26,
   "metadata": {},
   "outputs": [
    {
     "data": {
      "text/html": [
       "<div>\n",
       "<style scoped>\n",
       "    .dataframe tbody tr th:only-of-type {\n",
       "        vertical-align: middle;\n",
       "    }\n",
       "\n",
       "    .dataframe tbody tr th {\n",
       "        vertical-align: top;\n",
       "    }\n",
       "\n",
       "    .dataframe thead th {\n",
       "        text-align: right;\n",
       "    }\n",
       "</style>\n",
       "<table border=\"1\" class=\"dataframe\">\n",
       "  <thead>\n",
       "    <tr style=\"text-align: right;\">\n",
       "      <th></th>\n",
       "      <th>id_unique_unit</th>\n",
       "      <th>unique_unit</th>\n",
       "    </tr>\n",
       "  </thead>\n",
       "  <tbody>\n",
       "    <tr>\n",
       "      <th>0</th>\n",
       "      <td>1</td>\n",
       "      <td>usd</td>\n",
       "    </tr>\n",
       "    <tr>\n",
       "      <th>1</th>\n",
       "      <td>2</td>\n",
       "      <td>percent</td>\n",
       "    </tr>\n",
       "  </tbody>\n",
       "</table>\n",
       "</div>"
      ],
      "text/plain": [
       "   id_unique_unit unique_unit\n",
       "0               1         usd\n",
       "1               2     percent"
      ]
     },
     "execution_count": 26,
     "metadata": {},
     "output_type": "execute_result"
    }
   ],
   "source": [
    "df_unique_unit.head()"
   ]
  },
  {
   "cell_type": "code",
   "execution_count": 27,
   "metadata": {},
   "outputs": [
    {
     "name": "stdout",
     "output_type": "stream",
     "text": [
      "<class 'pandas.core.frame.DataFrame'>\n",
      "RangeIndex: 2 entries, 0 to 1\n",
      "Data columns (total 2 columns):\n",
      " #   Column          Non-Null Count  Dtype \n",
      "---  ------          --------------  ----- \n",
      " 0   id_unique_unit  2 non-null      int64 \n",
      " 1   unique_unit     2 non-null      object\n",
      "dtypes: int64(1), object(1)\n",
      "memory usage: 160.0+ bytes\n"
     ]
    }
   ],
   "source": [
    "df_unique_unit.info()"
   ]
  },
  {
   "cell_type": "code",
   "execution_count": 62,
   "metadata": {},
   "outputs": [
    {
     "name": "stdout",
     "output_type": "stream",
     "text": [
      "Files created successfully data/txt_unit/\n"
     ]
    }
   ],
   "source": [
    "folder_path = 'data/txt_unit/'\n",
    "\n",
    "# Iterate over each row in the dataframe\n",
    "for index, row in df_unique_unit.iterrows():\n",
    "    # Define the name of the file\n",
    "    file_name = os.path.join(folder_path, f'unit_{row[\"id_unique_unit\"]}.txt')\n",
    "    \n",
    "    # Build a dictionary with the data\n",
    "    content = f'unit: {row[\"unique_unit\"]}'\n",
    "    \n",
    "    # Write the dictionary as a json file in the data folder\n",
    "    with open(file_name, \"w\") as file:\n",
    "        file.write(content)\n",
    "\n",
    "print('Files created successfully', folder_path)"
   ]
  },
  {
   "cell_type": "markdown",
   "metadata": {},
   "source": [
    "### Variable Name and Definition"
   ]
  },
  {
   "cell_type": "code",
   "execution_count": 28,
   "metadata": {},
   "outputs": [],
   "source": [
    "df_variable_name_def = df[['variable_name', 'definition']].head()"
   ]
  },
  {
   "cell_type": "code",
   "execution_count": 29,
   "metadata": {},
   "outputs": [],
   "source": [
    "df_variable_name_def['id_variable_name_def'] = list(range(1, 6))"
   ]
  },
  {
   "cell_type": "code",
   "execution_count": 30,
   "metadata": {},
   "outputs": [
    {
     "data": {
      "text/html": [
       "<div>\n",
       "<style scoped>\n",
       "    .dataframe tbody tr th:only-of-type {\n",
       "        vertical-align: middle;\n",
       "    }\n",
       "\n",
       "    .dataframe tbody tr th {\n",
       "        vertical-align: top;\n",
       "    }\n",
       "\n",
       "    .dataframe thead th {\n",
       "        text-align: right;\n",
       "    }\n",
       "</style>\n",
       "<table border=\"1\" class=\"dataframe\">\n",
       "  <thead>\n",
       "    <tr style=\"text-align: right;\">\n",
       "      <th></th>\n",
       "      <th>variable_name</th>\n",
       "      <th>definition</th>\n",
       "      <th>id_variable_name_def</th>\n",
       "    </tr>\n",
       "  </thead>\n",
       "  <tbody>\n",
       "    <tr>\n",
       "      <th>0</th>\n",
       "      <td>total assets</td>\n",
       "      <td>the sum of all assets owned by the institution...</td>\n",
       "      <td>1</td>\n",
       "    </tr>\n",
       "    <tr>\n",
       "      <th>1</th>\n",
       "      <td>total deposits</td>\n",
       "      <td>the sum of all deposits including demand depos...</td>\n",
       "      <td>2</td>\n",
       "    </tr>\n",
       "    <tr>\n",
       "      <th>2</th>\n",
       "      <td>% insured (estimated)</td>\n",
       "      <td>percent of deposits estimated to be insured.  ...</td>\n",
       "      <td>3</td>\n",
       "    </tr>\n",
       "    <tr>\n",
       "      <th>3</th>\n",
       "      <td>all real estate loans</td>\n",
       "      <td>loans secured primarily by real estate, whethe...</td>\n",
       "      <td>4</td>\n",
       "    </tr>\n",
       "    <tr>\n",
       "      <th>4</th>\n",
       "      <td>total securities</td>\n",
       "      <td>total securities: the sum of held-to-maturity ...</td>\n",
       "      <td>5</td>\n",
       "    </tr>\n",
       "  </tbody>\n",
       "</table>\n",
       "</div>"
      ],
      "text/plain": [
       "           variable_name                                         definition  \\\n",
       "0           total assets  the sum of all assets owned by the institution...   \n",
       "1         total deposits  the sum of all deposits including demand depos...   \n",
       "2  % insured (estimated)  percent of deposits estimated to be insured.  ...   \n",
       "3  all real estate loans  loans secured primarily by real estate, whethe...   \n",
       "4       total securities  total securities: the sum of held-to-maturity ...   \n",
       "\n",
       "   id_variable_name_def  \n",
       "0                     1  \n",
       "1                     2  \n",
       "2                     3  \n",
       "3                     4  \n",
       "4                     5  "
      ]
     },
     "execution_count": 30,
     "metadata": {},
     "output_type": "execute_result"
    }
   ],
   "source": [
    "df_variable_name_def"
   ]
  },
  {
   "cell_type": "code",
   "execution_count": 31,
   "metadata": {},
   "outputs": [
    {
     "name": "stdout",
     "output_type": "stream",
     "text": [
      "Files created successfully data/txt_variable_name_def/\n"
     ]
    }
   ],
   "source": [
    "folder_path = 'data/txt_variable_name_def/'\n",
    "\n",
    "# Iterate over each row in the dataframe\n",
    "for index, row in df_variable_name_def.iterrows():\n",
    "    # Define the name of the file\n",
    "    file_name = os.path.join(folder_path, f'variable_name_def_{row[\"id_variable_name_def\"]}.txt')\n",
    "    \n",
    "    # Build a dictionary with the data\n",
    "    content = f'variable_name: {row[\"variable_name\"]}\\ndefinition: {row[\"definition\"]}'\n",
    "    \n",
    "    # Write the dictionary as a json file in the data folder\n",
    "    with open(file_name, \"w\") as file:\n",
    "        file.write(content)\n",
    "\n",
    "print('Files created successfully', folder_path)"
   ]
  }
 ],
 "metadata": {
  "kernelspec": {
   "display_name": "env-bot",
   "language": "python",
   "name": "python3"
  },
  "language_info": {
   "codemirror_mode": {
    "name": "ipython",
    "version": 3
   },
   "file_extension": ".py",
   "mimetype": "text/x-python",
   "name": "python",
   "nbconvert_exporter": "python",
   "pygments_lexer": "ipython3",
   "version": "3.10.11"
  }
 },
 "nbformat": 4,
 "nbformat_minor": 2
}

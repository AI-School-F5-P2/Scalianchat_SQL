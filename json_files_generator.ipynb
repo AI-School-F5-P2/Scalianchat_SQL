{
 "cells": [
  {
   "cell_type": "code",
   "execution_count": 31,
   "metadata": {},
   "outputs": [],
   "source": [
    "import pandas as pd\n",
    "import json\n",
    "import os"
   ]
  },
  {
   "cell_type": "code",
   "execution_count": 32,
   "metadata": {},
   "outputs": [],
   "source": [
    "# Import cleaned data\n",
    "df = pd.read_csv('data/datos_actualizados.csv')"
   ]
  },
  {
   "cell_type": "code",
   "execution_count": 33,
   "metadata": {},
   "outputs": [
    {
     "data": {
      "text/html": [
       "<div>\n",
       "<style scoped>\n",
       "    .dataframe tbody tr th:only-of-type {\n",
       "        vertical-align: middle;\n",
       "    }\n",
       "\n",
       "    .dataframe tbody tr th {\n",
       "        vertical-align: top;\n",
       "    }\n",
       "\n",
       "    .dataframe thead th {\n",
       "        text-align: right;\n",
       "    }\n",
       "</style>\n",
       "<table border=\"1\" class=\"dataframe\">\n",
       "  <thead>\n",
       "    <tr style=\"text-align: right;\">\n",
       "      <th></th>\n",
       "      <th>entity_name</th>\n",
       "      <th>city</th>\n",
       "      <th>state_abbreviation</th>\n",
       "      <th>variable_name</th>\n",
       "      <th>year</th>\n",
       "      <th>value</th>\n",
       "      <th>unit</th>\n",
       "      <th>definition</th>\n",
       "    </tr>\n",
       "  </thead>\n",
       "  <tbody>\n",
       "    <tr>\n",
       "      <th>0</th>\n",
       "      <td>kcb bank</td>\n",
       "      <td>lakin</td>\n",
       "      <td>KS</td>\n",
       "      <td>total assets</td>\n",
       "      <td>2007</td>\n",
       "      <td>109409000.0</td>\n",
       "      <td>usd</td>\n",
       "      <td>the sum of all assets owned by the institution...</td>\n",
       "    </tr>\n",
       "    <tr>\n",
       "      <th>1</th>\n",
       "      <td>kcb bank</td>\n",
       "      <td>lakin</td>\n",
       "      <td>KS</td>\n",
       "      <td>total deposits</td>\n",
       "      <td>2007</td>\n",
       "      <td>86818000.0</td>\n",
       "      <td>usd</td>\n",
       "      <td>the sum of all deposits including demand depos...</td>\n",
       "    </tr>\n",
       "    <tr>\n",
       "      <th>2</th>\n",
       "      <td>kcb bank</td>\n",
       "      <td>lakin</td>\n",
       "      <td>KS</td>\n",
       "      <td>% insured (estimated)</td>\n",
       "      <td>2007</td>\n",
       "      <td>0.0</td>\n",
       "      <td>percent</td>\n",
       "      <td>percent of deposits estimated to be insured.  ...</td>\n",
       "    </tr>\n",
       "    <tr>\n",
       "      <th>3</th>\n",
       "      <td>kcb bank</td>\n",
       "      <td>lakin</td>\n",
       "      <td>KS</td>\n",
       "      <td>all real estate loans</td>\n",
       "      <td>2007</td>\n",
       "      <td>16477000.0</td>\n",
       "      <td>usd</td>\n",
       "      <td>loans secured primarily by real estate, whethe...</td>\n",
       "    </tr>\n",
       "    <tr>\n",
       "      <th>4</th>\n",
       "      <td>kcb bank</td>\n",
       "      <td>lakin</td>\n",
       "      <td>KS</td>\n",
       "      <td>total securities</td>\n",
       "      <td>2007</td>\n",
       "      <td>43618000.0</td>\n",
       "      <td>usd</td>\n",
       "      <td>total securities: the sum of held-to-maturity ...</td>\n",
       "    </tr>\n",
       "    <tr>\n",
       "      <th>5</th>\n",
       "      <td>mountain valley bank</td>\n",
       "      <td>dunlap</td>\n",
       "      <td>TN</td>\n",
       "      <td>total assets</td>\n",
       "      <td>1986</td>\n",
       "      <td>26478000.0</td>\n",
       "      <td>usd</td>\n",
       "      <td>the sum of all assets owned by the institution...</td>\n",
       "    </tr>\n",
       "    <tr>\n",
       "      <th>6</th>\n",
       "      <td>mountain valley bank</td>\n",
       "      <td>dunlap</td>\n",
       "      <td>TN</td>\n",
       "      <td>total deposits</td>\n",
       "      <td>1986</td>\n",
       "      <td>22363000.0</td>\n",
       "      <td>usd</td>\n",
       "      <td>the sum of all deposits including demand depos...</td>\n",
       "    </tr>\n",
       "    <tr>\n",
       "      <th>7</th>\n",
       "      <td>mountain valley bank</td>\n",
       "      <td>dunlap</td>\n",
       "      <td>TN</td>\n",
       "      <td>% insured (estimated)</td>\n",
       "      <td>1986</td>\n",
       "      <td>0.0</td>\n",
       "      <td>percent</td>\n",
       "      <td>percent of deposits estimated to be insured.  ...</td>\n",
       "    </tr>\n",
       "    <tr>\n",
       "      <th>8</th>\n",
       "      <td>mountain valley bank</td>\n",
       "      <td>dunlap</td>\n",
       "      <td>TN</td>\n",
       "      <td>all real estate loans</td>\n",
       "      <td>1986</td>\n",
       "      <td>6890000.0</td>\n",
       "      <td>usd</td>\n",
       "      <td>loans secured primarily by real estate, whethe...</td>\n",
       "    </tr>\n",
       "    <tr>\n",
       "      <th>9</th>\n",
       "      <td>mountain valley bank</td>\n",
       "      <td>dunlap</td>\n",
       "      <td>TN</td>\n",
       "      <td>total securities</td>\n",
       "      <td>1986</td>\n",
       "      <td>12222000.0</td>\n",
       "      <td>usd</td>\n",
       "      <td>total securities: the sum of held-to-maturity ...</td>\n",
       "    </tr>\n",
       "  </tbody>\n",
       "</table>\n",
       "</div>"
      ],
      "text/plain": [
       "            entity_name    city state_abbreviation          variable_name  \\\n",
       "0              kcb bank   lakin                 KS           total assets   \n",
       "1              kcb bank   lakin                 KS         total deposits   \n",
       "2              kcb bank   lakin                 KS  % insured (estimated)   \n",
       "3              kcb bank   lakin                 KS  all real estate loans   \n",
       "4              kcb bank   lakin                 KS       total securities   \n",
       "5  mountain valley bank  dunlap                 TN           total assets   \n",
       "6  mountain valley bank  dunlap                 TN         total deposits   \n",
       "7  mountain valley bank  dunlap                 TN  % insured (estimated)   \n",
       "8  mountain valley bank  dunlap                 TN  all real estate loans   \n",
       "9  mountain valley bank  dunlap                 TN       total securities   \n",
       "\n",
       "   year        value     unit  \\\n",
       "0  2007  109409000.0      usd   \n",
       "1  2007   86818000.0      usd   \n",
       "2  2007          0.0  percent   \n",
       "3  2007   16477000.0      usd   \n",
       "4  2007   43618000.0      usd   \n",
       "5  1986   26478000.0      usd   \n",
       "6  1986   22363000.0      usd   \n",
       "7  1986          0.0  percent   \n",
       "8  1986    6890000.0      usd   \n",
       "9  1986   12222000.0      usd   \n",
       "\n",
       "                                          definition  \n",
       "0  the sum of all assets owned by the institution...  \n",
       "1  the sum of all deposits including demand depos...  \n",
       "2  percent of deposits estimated to be insured.  ...  \n",
       "3  loans secured primarily by real estate, whethe...  \n",
       "4  total securities: the sum of held-to-maturity ...  \n",
       "5  the sum of all assets owned by the institution...  \n",
       "6  the sum of all deposits including demand depos...  \n",
       "7  percent of deposits estimated to be insured.  ...  \n",
       "8  loans secured primarily by real estate, whethe...  \n",
       "9  total securities: the sum of held-to-maturity ...  "
      ]
     },
     "execution_count": 33,
     "metadata": {},
     "output_type": "execute_result"
    }
   ],
   "source": [
    "# Verifying the data\n",
    "df.head(10)"
   ]
  },
  {
   "cell_type": "code",
   "execution_count": 34,
   "metadata": {},
   "outputs": [],
   "source": [
    "# List with unique entity names\n",
    "unique_entity_name = df['entity_name'].unique()"
   ]
  },
  {
   "cell_type": "code",
   "execution_count": 35,
   "metadata": {},
   "outputs": [],
   "source": [
    "id_unique_entity_name = list(range(1, len(unique_entity_name) + 1))"
   ]
  },
  {
   "cell_type": "code",
   "execution_count": 36,
   "metadata": {},
   "outputs": [],
   "source": [
    "# Dataframe with unique entity names and their id\n",
    "df_unique_entity_name = pd.DataFrame({'id_unique_entity_name': id_unique_entity_name, 'unique_entity_name': unique_entity_name})"
   ]
  },
  {
   "cell_type": "code",
   "execution_count": 37,
   "metadata": {},
   "outputs": [
    {
     "data": {
      "text/html": [
       "<div>\n",
       "<style scoped>\n",
       "    .dataframe tbody tr th:only-of-type {\n",
       "        vertical-align: middle;\n",
       "    }\n",
       "\n",
       "    .dataframe tbody tr th {\n",
       "        vertical-align: top;\n",
       "    }\n",
       "\n",
       "    .dataframe thead th {\n",
       "        text-align: right;\n",
       "    }\n",
       "</style>\n",
       "<table border=\"1\" class=\"dataframe\">\n",
       "  <thead>\n",
       "    <tr style=\"text-align: right;\">\n",
       "      <th></th>\n",
       "      <th>id_unique_entity_name</th>\n",
       "      <th>unique_entity_name</th>\n",
       "    </tr>\n",
       "  </thead>\n",
       "  <tbody>\n",
       "    <tr>\n",
       "      <th>0</th>\n",
       "      <td>1</td>\n",
       "      <td>kcb bank</td>\n",
       "    </tr>\n",
       "    <tr>\n",
       "      <th>1</th>\n",
       "      <td>2</td>\n",
       "      <td>mountain valley bank</td>\n",
       "    </tr>\n",
       "    <tr>\n",
       "      <th>2</th>\n",
       "      <td>3</td>\n",
       "      <td>byron bank</td>\n",
       "    </tr>\n",
       "    <tr>\n",
       "      <th>3</th>\n",
       "      <td>4</td>\n",
       "      <td>banner banks</td>\n",
       "    </tr>\n",
       "    <tr>\n",
       "      <th>4</th>\n",
       "      <td>5</td>\n",
       "      <td>sallie mae bank</td>\n",
       "    </tr>\n",
       "  </tbody>\n",
       "</table>\n",
       "</div>"
      ],
      "text/plain": [
       "   id_unique_entity_name    unique_entity_name\n",
       "0                      1              kcb bank\n",
       "1                      2  mountain valley bank\n",
       "2                      3            byron bank\n",
       "3                      4          banner banks\n",
       "4                      5       sallie mae bank"
      ]
     },
     "execution_count": 37,
     "metadata": {},
     "output_type": "execute_result"
    }
   ],
   "source": [
    "# Checking the data\n",
    "df_unique_entity_name.head()"
   ]
  },
  {
   "cell_type": "code",
   "execution_count": 38,
   "metadata": {},
   "outputs": [
    {
     "name": "stdout",
     "output_type": "stream",
     "text": [
      "<class 'pandas.core.frame.DataFrame'>\n",
      "RangeIndex: 2798 entries, 0 to 2797\n",
      "Data columns (total 2 columns):\n",
      " #   Column                 Non-Null Count  Dtype \n",
      "---  ------                 --------------  ----- \n",
      " 0   id_unique_entity_name  2798 non-null   int64 \n",
      " 1   unique_entity_name     2798 non-null   object\n",
      "dtypes: int64(1), object(1)\n",
      "memory usage: 43.8+ KB\n"
     ]
    }
   ],
   "source": [
    "df_unique_entity_name.info()"
   ]
  },
  {
   "cell_type": "code",
   "execution_count": 39,
   "metadata": {},
   "outputs": [
    {
     "name": "stdout",
     "output_type": "stream",
     "text": [
      "Files created successfully\n"
     ]
    }
   ],
   "source": [
    "folder_path = 'data/json_entity_name/'\n",
    "\n",
    "# Iterate over each row in the dataframe\n",
    "for index, row in df_unique_entity_name.iterrows():\n",
    "    # Define the name of the file\n",
    "    file_name = os.path.join(folder_path, f'entity_name_{row[\"id_unique_entity_name\"]}.json')\n",
    "    \n",
    "    # Build a dictionary with the data\n",
    "    content = {'entity_name': row['unique_entity_name']}\n",
    "    \n",
    "    # Write the dictionary as a json file in the data folder\n",
    "    with open(file_name, \"w\") as file:\n",
    "        json.dump(content, file)\n",
    "\n",
    "print('Files created successfully')"
   ]
  }
 ],
 "metadata": {
  "kernelspec": {
   "display_name": "env-bot",
   "language": "python",
   "name": "python3"
  },
  "language_info": {
   "codemirror_mode": {
    "name": "ipython",
    "version": 3
   },
   "file_extension": ".py",
   "mimetype": "text/x-python",
   "name": "python",
   "nbconvert_exporter": "python",
   "pygments_lexer": "ipython3",
   "version": "3.10.11"
  }
 },
 "nbformat": 4,
 "nbformat_minor": 2
}
